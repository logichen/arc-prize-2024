{
 "cells": [
  {
   "metadata": {},
   "cell_type": "markdown",
   "source": [
    "# TransformerModelV0 with ZeroShotDataset\n",
    "\n",
    "This notebook is an experimental approach on solving the ARC challenge. See https://arcprize.org/ for more details."
   ],
   "id": "2deab4fa4b404fd9"
  },
  {
   "cell_type": "code",
   "id": "469d911a-eb08-40db-9491-58582e0a5244",
   "metadata": {
    "ExecuteTime": {
     "end_time": "2024-08-05T14:11:57.720382Z",
     "start_time": "2024-08-05T14:11:56.468668Z"
    }
   },
   "source": [
    "import os\n",
    "import random\n",
    "\n",
    "import torch\n",
    "\n",
    "from pathlib import Path\n",
    "\n",
    "from arc2024.data import ZeroShotDataset\n",
    "from arc2024.utils import plot\n",
    "from arc2024.models.transformer import TransformerModelV0\n",
    "from arc2024.utils.calc import accuracy_fn, norm_arc20204"
   ],
   "outputs": [],
   "execution_count": 1
  },
  {
   "metadata": {},
   "cell_type": "markdown",
   "source": "# Setup Device Agnostic Environment",
   "id": "238e55441bbcf17a"
  },
  {
   "metadata": {
    "ExecuteTime": {
     "end_time": "2024-08-05T14:11:58.024452Z",
     "start_time": "2024-08-05T14:11:57.721398Z"
    }
   },
   "cell_type": "code",
   "source": [
    "import arc2024.utils.amdgpu as amd\n",
    "\n",
    "if amd.is_amdgpu_on_linux():\n",
    "    # Use ROCm on rx6600/6600xt by setting the environment variable HSA_OVERRIDE_GFX_VERSION to \"10.3.0\"\n",
    "    # Source: https://github.com/ROCm/ROCm/issues/1698#issuecomment-1261646854\n",
    "    amd.setup_amdgpu_environment(\n",
    "        hsa_override_gfx_version=\"10.3.0\"\n",
    "    )\n",
    "\n",
    "device = torch.device('cuda' if torch.cuda.is_available() else 'cpu')\n",
    "device"
   ],
   "id": "564e0858a54fdba8",
   "outputs": [
    {
     "data": {
      "text/plain": [
       "device(type='cuda')"
      ]
     },
     "execution_count": 2,
     "metadata": {},
     "output_type": "execute_result"
    }
   ],
   "execution_count": 2
  },
  {
   "metadata": {},
   "cell_type": "markdown",
   "source": "## Prepare Datasets and DataLoaders",
   "id": "e1d56ce2d680401c"
  },
  {
   "metadata": {
    "ExecuteTime": {
     "end_time": "2024-08-05T14:12:00.507470Z",
     "start_time": "2024-08-05T14:11:58.025684Z"
    }
   },
   "cell_type": "code",
   "source": [
    "dataset_dir = Path('datasets')\n",
    "\n",
    "BATCH_SIZE = 32\n",
    "NUM_WORKERS = os.cpu_count()\n",
    "\n",
    "train_dataset = ZeroShotDataset(\n",
    "    dataset_dir=dataset_dir,\n",
    "    dataset_name='training',\n",
    "    mode='train',\n",
    "    permutations_enabled=True\n",
    ")\n",
    "train_dataloader = torch.utils.data.DataLoader(\n",
    "    dataset=train_dataset,\n",
    "    batch_size=BATCH_SIZE,\n",
    "    shuffle=True,\n",
    "    num_workers=NUM_WORKERS\n",
    ")\n",
    "\n",
    "test_dataset = ZeroShotDataset(\n",
    "    dataset_dir=dataset_dir,\n",
    "    dataset_name='training',\n",
    "    mode='test'\n",
    ")\n",
    "test_dataloader = torch.utils.data.DataLoader(\n",
    "    dataset=test_dataset,\n",
    "    batch_size=BATCH_SIZE,\n",
    "    shuffle=True,\n",
    "    num_workers=NUM_WORKERS\n",
    ")"
   ],
   "id": "bb2cae609fdde826",
   "outputs": [],
   "execution_count": 3
  },
  {
   "metadata": {},
   "cell_type": "markdown",
   "source": "## Train Model",
   "id": "2177ae9236464708"
  },
  {
   "metadata": {
    "ExecuteTime": {
     "end_time": "2024-08-05T14:12:01.483729Z",
     "start_time": "2024-08-05T14:12:00.508638Z"
    }
   },
   "cell_type": "code",
   "source": [
    "model = TransformerModelV0(\n",
    "    d_model=900,\n",
    "    nhead=6,\n",
    "    batch_first=True,\n",
    "    device=device\n",
    ")\n",
    "model"
   ],
   "id": "3f0a32b80655a8ce",
   "outputs": [
    {
     "data": {
      "text/plain": [
       "TransformerModelV0(\n",
       "  (flatten): Flatten(start_dim=1, end_dim=-1)\n",
       "  (transformer): Transformer(\n",
       "    (encoder): TransformerEncoder(\n",
       "      (layers): ModuleList(\n",
       "        (0-5): 6 x TransformerEncoderLayer(\n",
       "          (self_attn): MultiheadAttention(\n",
       "            (out_proj): NonDynamicallyQuantizableLinear(in_features=900, out_features=900, bias=True)\n",
       "          )\n",
       "          (linear1): Linear(in_features=900, out_features=2048, bias=True)\n",
       "          (dropout): Dropout(p=0.1, inplace=False)\n",
       "          (linear2): Linear(in_features=2048, out_features=900, bias=True)\n",
       "          (norm1): LayerNorm((900,), eps=1e-05, elementwise_affine=True)\n",
       "          (norm2): LayerNorm((900,), eps=1e-05, elementwise_affine=True)\n",
       "          (dropout1): Dropout(p=0.1, inplace=False)\n",
       "          (dropout2): Dropout(p=0.1, inplace=False)\n",
       "        )\n",
       "      )\n",
       "      (norm): LayerNorm((900,), eps=1e-05, elementwise_affine=True)\n",
       "    )\n",
       "    (decoder): TransformerDecoder(\n",
       "      (layers): ModuleList(\n",
       "        (0-5): 6 x TransformerDecoderLayer(\n",
       "          (self_attn): MultiheadAttention(\n",
       "            (out_proj): NonDynamicallyQuantizableLinear(in_features=900, out_features=900, bias=True)\n",
       "          )\n",
       "          (multihead_attn): MultiheadAttention(\n",
       "            (out_proj): NonDynamicallyQuantizableLinear(in_features=900, out_features=900, bias=True)\n",
       "          )\n",
       "          (linear1): Linear(in_features=900, out_features=2048, bias=True)\n",
       "          (dropout): Dropout(p=0.1, inplace=False)\n",
       "          (linear2): Linear(in_features=2048, out_features=900, bias=True)\n",
       "          (norm1): LayerNorm((900,), eps=1e-05, elementwise_affine=True)\n",
       "          (norm2): LayerNorm((900,), eps=1e-05, elementwise_affine=True)\n",
       "          (norm3): LayerNorm((900,), eps=1e-05, elementwise_affine=True)\n",
       "          (dropout1): Dropout(p=0.1, inplace=False)\n",
       "          (dropout2): Dropout(p=0.1, inplace=False)\n",
       "          (dropout3): Dropout(p=0.1, inplace=False)\n",
       "        )\n",
       "      )\n",
       "      (norm): LayerNorm((900,), eps=1e-05, elementwise_affine=True)\n",
       "    )\n",
       "  )\n",
       "  (unflatten): Unflatten(dim=1, unflattened_size=(1, 30, 30))\n",
       ")"
      ]
     },
     "execution_count": 4,
     "metadata": {},
     "output_type": "execute_result"
    }
   ],
   "execution_count": 4
  },
  {
   "metadata": {},
   "cell_type": "markdown",
   "source": "### Verify Input and Output Shapes with Random Tensor",
   "id": "73ba81c9ca21ee99"
  },
  {
   "metadata": {
    "ExecuteTime": {
     "end_time": "2024-08-05T14:12:05.826678Z",
     "start_time": "2024-08-05T14:12:05.487016Z"
    }
   },
   "cell_type": "code",
   "source": [
    "x = torch.rand([1, 30, 30]).to(device)\n",
    "y = torch.rand([1, 30, 30]).to(device)\n",
    "model(x, y).shape"
   ],
   "id": "e1b7befceacdb2e",
   "outputs": [
    {
     "data": {
      "text/plain": [
       "torch.Size([1, 1, 30, 30])"
      ]
     },
     "execution_count": 5,
     "metadata": {},
     "output_type": "execute_result"
    }
   ],
   "execution_count": 5
  },
  {
   "metadata": {
    "ExecuteTime": {
     "end_time": "2024-08-05T14:12:18.765239Z",
     "start_time": "2024-08-05T14:12:18.731975Z"
    }
   },
   "cell_type": "code",
   "source": [
    "X, y = train_dataset[0]\n",
    "X = X.to(device) / 10\n",
    "y = y.to(device) / 10\n",
    "\n",
    "y_pred = model(X)\n",
    "y_pred, y_pred.shape"
   ],
   "id": "c490ced35ddd64a0",
   "outputs": [
    {
     "data": {
      "text/plain": [
       "(tensor([[[[ 4.0366e-01, -2.5433e-01, -2.5885e-01,  1.4812e+00,  1.2107e+00,\n",
       "            -1.4698e+00,  1.6891e+00,  6.3570e-01, -7.1388e-02, -1.1469e+00,\n",
       "             9.0324e-01, -7.2833e-01, -9.8962e-02, -9.3176e-01, -2.5213e+00,\n",
       "             1.2574e+00,  7.1994e-02,  1.7892e+00,  5.8275e-01, -2.2214e-01,\n",
       "            -6.0586e-01, -5.9811e-01, -1.3737e+00,  1.6019e+00,  1.3269e-01,\n",
       "             6.7067e-01, -1.9486e-01, -1.1901e+00,  3.0834e-01, -8.1152e-01],\n",
       "           [ 6.6592e-01,  1.5017e+00, -2.2355e+00, -3.4625e-01,  6.1944e-01,\n",
       "            -1.3904e+00,  5.1370e-01, -6.2737e-02, -1.3122e+00, -4.7254e-01,\n",
       "             4.6723e-01,  1.3874e+00, -4.6894e-01, -5.6357e-01, -1.3258e+00,\n",
       "             4.4955e-01, -1.6651e+00,  2.1138e-01,  7.0868e-01, -6.3670e-01,\n",
       "            -2.3411e-01, -8.5549e-01,  3.2273e-01,  1.2250e+00,  6.7311e-01,\n",
       "             1.2427e+00, -2.1657e+00, -4.9778e-01,  1.5579e+00, -8.3470e-01],\n",
       "           [-5.2680e-02,  8.6650e-01, -1.4276e+00,  4.8701e-01,  7.0077e-01,\n",
       "            -4.5156e-01,  2.3002e-01, -1.1753e+00, -2.3605e-01,  1.6935e+00,\n",
       "            -1.1847e+00, -4.5758e-01, -6.5902e-01, -1.0052e+00, -3.5766e-01,\n",
       "             1.0495e+00,  1.0740e+00, -5.8539e-01, -1.2302e+00, -6.9916e-01,\n",
       "             3.0744e-01,  4.4552e-01,  6.9484e-01,  1.6042e+00, -1.1737e+00,\n",
       "             1.5390e+00,  9.1510e-01,  1.6903e+00,  2.6757e-01, -5.7138e-01],\n",
       "           [ 1.0914e+00,  1.3141e+00, -1.5771e+00,  4.4294e-01, -6.5211e-01,\n",
       "             2.9613e-01, -2.8490e-01,  7.9718e-01,  9.7040e-04, -2.7055e+00,\n",
       "             6.7880e-01, -1.0459e+00,  3.5141e-01, -7.4451e-01,  8.1489e-01,\n",
       "            -8.5665e-02,  1.8694e+00,  4.1353e-01, -1.5800e-01, -6.1430e-01,\n",
       "             8.0995e-01, -7.3836e-01, -1.1561e+00, -7.1040e-01, -2.0258e+00,\n",
       "            -7.1514e-01, -2.9175e-01, -6.5647e-01,  2.1452e-01,  3.6990e-02],\n",
       "           [-2.0256e-01,  1.1030e+00,  4.2193e-02,  1.0347e+00,  8.0581e-01,\n",
       "             8.0468e-01, -5.0715e-01, -4.7660e-01,  5.8463e-01, -9.9504e-01,\n",
       "             2.1788e+00, -5.7512e-01,  3.8990e-01, -9.3258e-01,  1.4155e-01,\n",
       "            -1.0686e-01,  1.6486e-01, -1.8373e-02, -1.0203e-01, -1.5984e+00,\n",
       "            -8.1949e-01, -5.8845e-01,  5.7158e-01,  3.0445e-01,  5.1887e-01,\n",
       "             2.2720e+00,  1.5319e+00,  3.1431e-01, -5.4356e-01,  2.8651e-01],\n",
       "           [-1.4760e-01, -4.8053e-01, -7.3707e-01,  5.3199e-01, -4.5568e-01,\n",
       "             7.3103e-01, -1.6522e+00,  2.5775e+00,  4.4630e-02, -2.5550e-02,\n",
       "            -1.4828e+00,  1.0528e+00,  1.5549e+00,  2.5756e-01, -8.1452e-01,\n",
       "             3.0671e-01, -1.1989e-02, -5.0063e-01, -1.4292e+00,  6.5434e-02,\n",
       "            -8.7210e-01, -1.1035e+00,  3.9117e-01, -5.3348e-01, -8.5792e-01,\n",
       "             1.0197e+00, -7.7465e-01,  1.7256e+00, -1.5213e+00,  8.4839e-01],\n",
       "           [ 2.6455e-01, -1.0973e+00, -4.5520e-01, -1.0718e+00, -2.4851e-01,\n",
       "             5.3667e-01,  1.9973e+00, -1.8535e-01, -4.0292e-01, -8.6010e-01,\n",
       "            -1.4774e+00,  1.1067e-01, -8.5071e-01,  1.5264e+00,  2.6895e-01,\n",
       "             9.4858e-01,  1.4047e-01,  3.9801e-01,  2.1716e+00,  1.5416e+00,\n",
       "             5.4814e-01,  8.6824e-01,  1.1508e+00,  1.2448e+00, -7.5893e-01,\n",
       "            -1.5982e+00, -1.5052e+00, -1.9830e+00, -7.5911e-01,  4.8367e-01],\n",
       "           [-6.4650e-01, -2.3394e-01, -2.9265e-01,  4.3611e-01, -1.5247e+00,\n",
       "            -2.6695e-01, -6.1001e-01, -2.2274e+00,  1.6806e+00,  2.8938e-01,\n",
       "             7.5790e-01,  1.8832e+00, -3.1418e-02,  2.9346e-01, -1.8885e+00,\n",
       "             1.1167e+00, -8.8365e-01,  2.9690e-01,  9.5911e-01,  1.3766e+00,\n",
       "             1.2850e+00, -2.1814e+00,  1.5695e+00,  7.7709e-01, -1.2018e+00,\n",
       "             1.1792e-02,  1.5201e+00, -3.0340e-01,  8.5711e-01,  1.4367e+00],\n",
       "           [ 8.4389e-01, -2.5769e-01, -4.4627e-01, -9.6723e-01, -1.2837e+00,\n",
       "            -6.3586e-02,  1.3939e+00, -1.3281e+00, -9.1266e-01, -1.6102e+00,\n",
       "             1.5491e+00,  3.4757e-01, -9.6832e-02, -2.9627e-01, -7.1626e-02,\n",
       "            -7.4966e-01, -1.4559e+00,  2.7101e+00,  9.5670e-02,  3.2906e-01,\n",
       "            -6.8627e-01,  6.4681e-01, -4.6704e-01, -1.4780e+00,  2.1317e+00,\n",
       "            -1.1471e+00,  1.1097e+00,  1.5949e-01,  1.0440e+00,  1.3959e+00],\n",
       "           [ 1.0045e+00,  1.1089e+00,  2.7605e-01, -4.7149e-01,  2.7730e+00,\n",
       "             2.4343e+00,  1.3321e-01, -1.8140e+00,  3.8612e-01,  2.0610e-01,\n",
       "            -1.2989e+00, -1.1617e-01, -2.8183e-01,  8.8455e-01,  6.8457e-02,\n",
       "             9.9680e-01, -1.2713e+00, -1.1727e+00, -7.0740e-02,  3.5078e-01,\n",
       "             1.3824e+00, -3.9289e-01,  1.7106e+00, -5.3760e-01, -1.9274e+00,\n",
       "             8.9952e-01,  2.7524e-01, -9.4167e-01,  1.8479e+00,  7.0192e-01],\n",
       "           [ 2.4932e-01, -1.1936e+00, -5.1439e-01, -6.6491e-01, -1.4933e-01,\n",
       "             1.1472e+00,  9.1939e-01,  1.4346e+00,  1.0952e+00,  1.1122e+00,\n",
       "            -1.4995e+00,  1.0332e+00,  1.2102e+00,  5.9730e-01, -5.5307e-01,\n",
       "             4.1928e-01,  9.8004e-01,  1.6694e+00,  2.9003e-02, -9.5655e-01,\n",
       "            -6.6450e-01,  8.1083e-01,  3.3825e-01,  8.1234e-01, -1.3279e+00,\n",
       "            -9.1226e-01, -7.8247e-01,  7.0886e-01, -8.0316e-02, -1.1864e+00],\n",
       "           [-1.6314e+00,  1.1213e+00,  1.4429e+00, -1.0178e+00,  1.7408e+00,\n",
       "            -3.9455e-01, -9.4378e-01,  1.2389e+00, -9.5518e-01,  4.1099e-01,\n",
       "             5.1525e-01,  9.7108e-01, -3.3505e-01,  4.6803e-01, -1.3478e+00,\n",
       "             2.7467e-01,  4.2877e-01,  8.5706e-01, -7.6692e-01, -5.5130e-01,\n",
       "            -2.6012e+00, -1.6889e-01,  5.3898e-01, -3.5296e-01,  5.9695e-01,\n",
       "             1.5365e-01,  1.7254e-01, -8.7580e-02,  9.8988e-01,  7.8510e-01],\n",
       "           [ 1.5271e-01, -5.2348e-01,  4.7909e-01,  9.9242e-01, -1.7132e+00,\n",
       "            -3.7899e-01,  3.9266e-01,  1.3204e+00, -2.2965e-01,  9.0298e-02,\n",
       "            -2.7086e-01,  1.1837e-01,  2.7344e-01,  3.1132e-02, -9.2654e-01,\n",
       "            -1.4615e-01,  1.6634e+00,  7.0089e-01,  1.3412e+00, -1.1056e+00,\n",
       "             8.5228e-02, -2.0711e+00, -7.1266e-02,  1.9468e-01, -1.7510e+00,\n",
       "             6.7101e-01, -1.8152e+00, -8.7081e-01, -9.7843e-02,  5.4194e-01],\n",
       "           [ 8.9966e-01,  3.9196e-01, -4.9365e-02, -2.2740e-01,  1.8999e+00,\n",
       "            -2.5970e-01, -5.6321e-01,  2.2787e-01, -2.2852e+00, -4.8685e-01,\n",
       "            -6.7700e-01, -7.4894e-02, -3.2587e-01, -1.9540e-01,  1.8071e+00,\n",
       "             1.1870e+00,  7.5796e-02,  9.5586e-01, -2.1676e-01,  5.6378e-01,\n",
       "             1.5158e-02, -7.0090e-01,  2.2133e+00, -6.0551e-02, -1.8319e+00,\n",
       "             8.6192e-01, -1.2423e-01, -7.2762e-01, -2.4142e-01, -4.1417e-01],\n",
       "           [-1.8181e-01, -6.3379e-01,  2.0102e-01,  2.0790e-01,  3.6745e-01,\n",
       "            -5.0989e-01, -3.1299e-01, -1.4040e+00, -7.5128e-01, -7.7497e-01,\n",
       "             1.0139e+00, -6.0291e-01,  1.1827e-01,  1.6475e+00,  1.6021e+00,\n",
       "            -1.8858e+00,  5.9154e-01,  6.4108e-01, -1.3980e+00, -2.9746e-01,\n",
       "             5.5767e-01, -1.7561e-01, -4.9968e-02,  8.3764e-01, -1.6050e+00,\n",
       "             5.1857e-01,  2.3530e+00, -6.7424e-01, -4.7725e-01,  3.8244e-01],\n",
       "           [ 1.0931e+00,  1.5563e+00, -1.6806e+00,  7.9105e-01, -3.2956e-01,\n",
       "            -4.6609e-01, -5.1755e-01,  8.3546e-02, -9.6902e-01, -1.4268e+00,\n",
       "            -1.8593e-01, -1.2531e+00,  1.2354e+00, -6.9292e-02,  2.2931e-01,\n",
       "            -6.4683e-01, -1.5189e-01,  5.2330e-01,  1.8440e-01,  4.6571e-01,\n",
       "             8.4027e-01,  4.2143e-01,  1.3955e+00,  5.5525e-01, -8.6419e-01,\n",
       "            -7.5092e-01, -5.9971e-01, -5.8938e-01,  1.5195e+00,  4.3913e-01],\n",
       "           [-1.1719e-01,  1.4224e-01, -1.0002e+00, -6.4796e-01,  8.7555e-01,\n",
       "            -8.0530e-02,  1.0410e+00,  1.1121e-01, -2.0063e+00, -2.4282e-01,\n",
       "             8.4360e-01, -1.1940e+00,  3.2305e-01, -1.7114e-01, -1.1846e+00,\n",
       "             9.4633e-02,  1.1452e+00, -2.7543e-01, -3.5076e-01,  1.1858e+00,\n",
       "             7.8440e-01,  2.5004e+00, -1.9198e+00,  1.3646e-01,  1.4173e+00,\n",
       "            -8.1111e-01, -7.7650e-01,  1.2352e+00,  1.4686e-01, -5.7369e-01],\n",
       "           [-1.3369e-02, -4.9457e-01,  3.0987e-01, -1.9521e+00, -5.5311e-01,\n",
       "             3.5680e-01,  9.3018e-01, -7.4818e-01, -2.2043e+00,  9.4494e-02,\n",
       "             2.9833e-01, -8.8161e-01, -2.3189e-01,  9.8708e-01, -1.2424e+00,\n",
       "             5.7754e-02,  7.4910e-01,  1.9752e+00,  1.9909e-01, -2.2776e-01,\n",
       "             2.0058e+00, -1.5172e-01, -2.4494e-01,  1.6462e+00, -5.7689e-01,\n",
       "            -5.1448e-01,  1.2684e+00,  5.9437e-01,  5.4883e-01, -3.1594e-01],\n",
       "           [ 9.0707e-01,  2.0318e-01,  8.7169e-01, -2.2158e+00,  2.7210e-01,\n",
       "            -6.5368e-01,  1.2053e+00, -1.4008e-01, -4.5510e-02, -3.6212e-01,\n",
       "            -2.1102e-01,  8.7250e-01, -9.1082e-02,  1.7779e+00,  8.8061e-01,\n",
       "             3.3391e+00,  8.5358e-01, -1.1430e+00,  1.3366e+00, -2.3507e-01,\n",
       "            -4.8497e-01, -6.2121e-01,  1.0038e+00,  1.1481e+00, -1.1797e-01,\n",
       "             2.8225e-01, -6.2383e-02,  3.9776e+00, -3.4014e-01, -2.1717e-01],\n",
       "           [ 5.4382e-01, -3.4806e-01, -8.2432e-01, -1.8769e-01, -6.3651e-01,\n",
       "            -8.1988e-03,  7.8061e-01, -1.1615e-01, -4.2711e-01, -1.8947e+00,\n",
       "             3.9489e-01, -7.0040e-01,  3.7124e-01,  1.6958e+00, -1.6400e-01,\n",
       "            -1.7594e+00,  3.9433e-01,  4.6115e-01,  5.6773e-01, -1.2666e+00,\n",
       "             2.2427e-02, -8.2273e-01, -1.6957e+00,  1.4496e+00, -1.9061e-01,\n",
       "            -5.6561e-01,  4.4044e-01,  1.2851e+00,  2.6144e-01,  2.7748e-01],\n",
       "           [-5.0697e-01,  1.1950e-01,  5.6454e-01,  1.2522e+00, -1.3707e+00,\n",
       "             9.8164e-01, -2.1174e+00, -6.4533e-01,  7.4998e-01,  2.2805e-01,\n",
       "            -1.2809e+00, -8.1337e-01, -4.5573e-01, -6.0312e-01, -4.5006e-01,\n",
       "            -1.0780e+00, -9.4483e-01, -5.6652e-01, -9.6018e-01, -6.5411e-01,\n",
       "             1.3298e+00, -9.6000e-01, -4.3050e-01,  1.4301e+00,  1.8185e-02,\n",
       "             6.5882e-01, -2.0229e+00, -4.6780e-01, -2.0903e+00, -6.3385e-01],\n",
       "           [-1.1313e+00, -6.4030e-01, -5.9361e-01,  9.4905e-02,  1.9713e+00,\n",
       "             6.0696e-01, -1.0384e+00,  5.7572e-02, -1.6234e-01,  6.8555e-01,\n",
       "            -3.4001e-01, -1.1164e+00,  9.2948e-01, -2.6259e-01, -1.9320e+00,\n",
       "             3.4024e-01,  1.3172e+00,  4.6699e-01, -1.0368e-02, -9.9107e-03,\n",
       "            -2.7600e-01, -7.7029e-02,  1.3652e-01,  2.0551e-01, -1.4184e-01,\n",
       "             1.0137e+00,  1.3727e+00,  1.0036e+00, -2.8306e-01, -2.5112e+00],\n",
       "           [-7.2106e-01, -1.0395e+00,  6.1601e-02,  7.2665e-01,  2.5231e-01,\n",
       "             2.3433e-02, -1.3453e+00,  1.1272e+00, -3.5248e-01, -3.4327e+00,\n",
       "            -1.6431e+00,  1.2866e+00, -1.2407e+00,  1.2417e-01, -1.0128e+00,\n",
       "            -2.5462e+00, -6.3511e-01,  8.1362e-02, -6.3733e-01,  1.3532e+00,\n",
       "             2.5164e+00, -1.9968e-01,  9.8276e-01,  1.4133e+00,  1.4900e+00,\n",
       "             1.5779e+00,  1.4428e+00, -3.7804e-01, -9.9637e-02,  9.7002e-01],\n",
       "           [ 8.8638e-01,  7.4292e-01, -1.9331e-01, -9.7123e-01, -4.2082e-01,\n",
       "            -2.5485e-01, -7.2434e-01, -2.0768e-01,  1.3736e+00, -2.3525e-01,\n",
       "             7.5808e-01, -5.6892e-01, -1.4234e+00,  1.0661e+00, -1.3672e-01,\n",
       "             8.8110e-01,  5.9286e-01, -6.8155e-01,  9.2364e-01,  5.9336e-01,\n",
       "            -1.6360e+00, -2.6692e-01, -3.6982e-01, -6.3738e-02,  1.0212e-01,\n",
       "             9.1605e-01, -3.7222e-01,  3.1224e-01,  1.1755e+00, -6.6973e-01],\n",
       "           [ 7.5091e-01,  8.7551e-01, -3.2692e-01, -1.7198e-02,  1.0427e+00,\n",
       "            -1.4721e-01, -1.4716e+00, -1.1016e+00, -5.5804e-01, -2.6360e-01,\n",
       "             2.2822e-01,  1.6502e+00, -2.9123e-01,  1.2179e+00,  8.1794e-01,\n",
       "            -5.6185e-02, -1.1655e-01, -1.5998e+00,  8.9376e-01,  1.0025e+00,\n",
       "            -5.5843e-01, -2.2629e+00, -9.0634e-01,  2.3028e+00,  1.6516e-01,\n",
       "             8.6575e-01,  2.1053e+00, -2.5818e-01, -2.8858e-02, -1.4868e+00],\n",
       "           [-1.2038e+00, -9.6498e-01, -7.0646e-01, -1.4108e-01, -3.4205e-01,\n",
       "             9.3857e-01,  1.7730e-01,  6.4476e-01,  7.6697e-01, -4.7343e-01,\n",
       "             2.0280e-01,  2.8058e-01,  4.7898e-01, -3.3592e-01,  3.0603e-01,\n",
       "             1.0393e+00,  3.3994e-01, -6.6347e-01,  1.3085e+00, -9.8316e-02,\n",
       "            -7.9948e-01, -1.3483e+00, -1.4212e+00,  4.9858e-02,  5.4999e-01,\n",
       "             8.4059e-01,  1.6026e+00,  1.6667e-01, -1.0661e+00,  1.8661e-01],\n",
       "           [-3.7023e-01, -1.7865e+00, -2.5971e-01, -4.8382e-01,  1.6134e-02,\n",
       "            -3.8861e-01, -8.7435e-02, -6.7708e-02,  4.6898e-01,  1.6826e-01,\n",
       "            -1.8599e-01, -1.7654e+00, -3.1892e-01, -1.0767e+00, -1.1480e+00,\n",
       "            -1.1628e-01, -4.2176e-01,  2.5011e-01,  1.3443e+00,  6.2672e-01,\n",
       "            -1.1232e-01, -6.6095e-01, -4.7936e-01, -4.5939e-01, -2.1451e-01,\n",
       "            -6.4946e-01,  6.4530e-01, -1.8411e+00, -7.9323e-01, -9.8148e-01],\n",
       "           [-2.2728e+00, -9.4655e-01, -1.9913e-01, -1.3155e+00,  1.4356e-01,\n",
       "            -1.6854e+00,  1.0622e+00, -3.6090e-01,  3.3018e-01,  6.3402e-01,\n",
       "            -8.8307e-01, -7.6199e-01, -1.4899e+00, -2.0406e-01, -4.0978e-01,\n",
       "             5.8389e-02,  5.5168e-01, -1.2391e+00,  1.8262e+00,  1.9116e-01,\n",
       "            -1.3082e+00,  2.8070e-01,  5.5385e-01,  5.2111e-02, -5.7962e-02,\n",
       "            -1.0071e+00,  1.3657e+00,  1.0967e+00, -7.0463e-01, -1.5409e+00],\n",
       "           [-8.7593e-01, -1.8573e+00,  8.3553e-01,  1.3038e+00,  1.2131e+00,\n",
       "            -5.4978e-01, -7.0129e-01,  1.9949e-01, -1.4689e-01, -3.7998e-01,\n",
       "            -9.5388e-02, -7.4949e-01,  2.6875e-01,  5.2923e-01, -9.3258e-01,\n",
       "             1.1650e+00, -1.1338e+00, -6.8771e-02, -1.5704e+00, -1.8337e-02,\n",
       "             8.2796e-01, -1.3554e+00,  1.0449e+00,  7.3048e-01,  1.4025e+00,\n",
       "            -1.3770e+00, -7.3497e-01, -2.5864e+00,  2.5879e-02,  7.0525e-01],\n",
       "           [ 3.9096e-01,  1.3946e+00, -1.2566e+00,  1.4496e-01, -9.5667e-01,\n",
       "            -1.4728e+00, -1.1585e-01,  5.7692e-01,  1.3223e+00,  2.7333e-01,\n",
       "            -6.8542e-01, -1.0870e-01,  9.2644e-01,  6.5302e-01,  3.2475e-01,\n",
       "             7.4235e-01, -1.1306e+00, -1.5689e-01,  6.1613e-01, -1.2483e-01,\n",
       "             1.4604e+00, -3.4604e-01,  2.0541e+00, -9.0174e-01,  7.8056e-01,\n",
       "            -9.9384e-02,  7.6241e-01, -5.4546e-02,  4.7671e-02,  1.0037e+00]]]],\n",
       "        device='cuda:0', grad_fn=<ViewBackward0>),\n",
       " torch.Size([1, 1, 30, 30]))"
      ]
     },
     "execution_count": 7,
     "metadata": {},
     "output_type": "execute_result"
    }
   ],
   "execution_count": 7
  },
  {
   "metadata": {},
   "cell_type": "markdown",
   "source": "### Setup Loss, optimizer and evaluation metrics",
   "id": "eee172db70a38518"
  },
  {
   "metadata": {
    "ExecuteTime": {
     "end_time": "2024-08-05T14:12:22.620004Z",
     "start_time": "2024-08-05T14:12:22.087701Z"
    }
   },
   "cell_type": "code",
   "source": [
    "loss_fn = torch.nn.MSELoss()\n",
    "optimizer = torch.optim.SGD(params=model.parameters(), lr=0.01)"
   ],
   "id": "1ce92989eac86aa2",
   "outputs": [],
   "execution_count": 8
  },
  {
   "metadata": {},
   "cell_type": "markdown",
   "source": "### Run Training Loop",
   "id": "518300e154e22dd8"
  },
  {
   "metadata": {
    "ExecuteTime": {
     "end_time": "2024-08-05T14:25:27.927379Z",
     "start_time": "2024-08-05T14:13:50.988232Z"
    }
   },
   "cell_type": "code",
   "source": [
    "from timeit import default_timer as timer \n",
    "\n",
    "epochs = 50\n",
    "\n",
    "time_start = timer()\n",
    "for epoch in range(epochs):\n",
    "    ### Training\n",
    "    train_loss = 0\n",
    "    train_accuracy = 0\n",
    "\n",
    "    model.train() # Set model into training mode\n",
    "    \n",
    "    for b, (X_train, y_train) in enumerate(train_dataloader):\n",
    "        # Send to device and normalize:\n",
    "        X_train, y_train = X_train.to(device) / 10, y_train.to(device) / 10\n",
    "        \n",
    "        # Forward pass:\n",
    "        train_pred = model(X_train, y_train)\n",
    "        \n",
    "        # Calculate loss:\n",
    "        loss = loss_fn(train_pred, y_train)\n",
    "        train_loss += loss\n",
    "        train_accuracy += accuracy_fn(y_train, norm_arc20204(train_pred))\n",
    "        \n",
    "        # Reset optimizer gradients:\n",
    "        optimizer.zero_grad()\n",
    "        \n",
    "        # Backward pass:\n",
    "        loss.backward()\n",
    "        \n",
    "        # Adjust parameters:\n",
    "        optimizer.step()\n",
    "\n",
    "    train_loss /= len(train_dataloader.dataset)\n",
    "    train_accuracy /= len(train_dataloader.dataset)\n",
    "    \n",
    "    ### Testing\n",
    "    test_loss = 0\n",
    "    test_accuracy = 0\n",
    "    model.eval() # set model into evaluation mode\n",
    "\n",
    "    with torch.inference_mode():\n",
    "        for X_test, y_test in test_dataloader:\n",
    "            # Send to device and normalize:\n",
    "            X_test, y_test = X_test.to(device) / 10, y_test.to(device) / 10\n",
    "\n",
    "            # Forward pass:\n",
    "            test_pred = model(X_test)\n",
    "\n",
    "            # Calculate loss:\n",
    "            loss = loss_fn(test_pred, y_test)\n",
    "            test_loss += loss\n",
    "            test_accuracy += accuracy_fn(y_test, norm_arc20204(test_pred))\n",
    "    \n",
    "        test_loss /= len(test_dataloader.dataset)\n",
    "        test_accuracy /= len(test_dataloader.dataset)\n",
    "    \n",
    "    print(f\"Epoch {epoch + 1}/{epochs} | Train loss: {train_loss:.5f} | Train accuracy: {train_accuracy:.2f}% | Test loss: {test_loss:.5f} | Test accuracy: {test_accuracy:.2f}%\")\n",
    "time_end = timer()\n",
    "\n",
    "print(f\"Total time taken: {time_end - time_start}\")"
   ],
   "id": "96d6551b2f990249",
   "outputs": [
    {
     "name": "stdout",
     "output_type": "stream",
     "text": [
      "Epoch 1/50 | Train loss: 0.02475 | Train accuracy: 0.04% | Test loss: 0.02252 | Test accuracy: 0.02%\n",
      "Epoch 2/50 | Train loss: 0.02427 | Train accuracy: 0.04% | Test loss: 0.02212 | Test accuracy: 0.02%\n",
      "Epoch 3/50 | Train loss: 0.02382 | Train accuracy: 0.04% | Test loss: 0.02173 | Test accuracy: 0.02%\n",
      "Epoch 4/50 | Train loss: 0.02338 | Train accuracy: 0.04% | Test loss: 0.02134 | Test accuracy: 0.02%\n",
      "Epoch 5/50 | Train loss: 0.02295 | Train accuracy: 0.04% | Test loss: 0.02097 | Test accuracy: 0.02%\n",
      "Epoch 6/50 | Train loss: 0.02254 | Train accuracy: 0.04% | Test loss: 0.02060 | Test accuracy: 0.02%\n",
      "Epoch 7/50 | Train loss: 0.02214 | Train accuracy: 0.04% | Test loss: 0.02024 | Test accuracy: 0.02%\n",
      "Epoch 8/50 | Train loss: 0.02174 | Train accuracy: 0.04% | Test loss: 0.01988 | Test accuracy: 0.02%\n",
      "Epoch 9/50 | Train loss: 0.02135 | Train accuracy: 0.04% | Test loss: 0.01953 | Test accuracy: 0.02%\n",
      "Epoch 10/50 | Train loss: 0.02097 | Train accuracy: 0.04% | Test loss: 0.01918 | Test accuracy: 0.02%\n",
      "Epoch 11/50 | Train loss: 0.02061 | Train accuracy: 0.04% | Test loss: 0.01885 | Test accuracy: 0.02%\n",
      "Epoch 12/50 | Train loss: 0.02024 | Train accuracy: 0.04% | Test loss: 0.01852 | Test accuracy: 0.02%\n",
      "Epoch 13/50 | Train loss: 0.01988 | Train accuracy: 0.04% | Test loss: 0.01820 | Test accuracy: 0.02%\n",
      "Epoch 14/50 | Train loss: 0.01954 | Train accuracy: 0.04% | Test loss: 0.01789 | Test accuracy: 0.02%\n",
      "Epoch 15/50 | Train loss: 0.01920 | Train accuracy: 0.04% | Test loss: 0.01757 | Test accuracy: 0.02%\n",
      "Epoch 16/50 | Train loss: 0.01886 | Train accuracy: 0.04% | Test loss: 0.01727 | Test accuracy: 0.02%\n",
      "Epoch 17/50 | Train loss: 0.01853 | Train accuracy: 0.04% | Test loss: 0.01697 | Test accuracy: 0.02%\n",
      "Epoch 18/50 | Train loss: 0.01821 | Train accuracy: 0.04% | Test loss: 0.01667 | Test accuracy: 0.02%\n",
      "Epoch 19/50 | Train loss: 0.01789 | Train accuracy: 0.04% | Test loss: 0.01638 | Test accuracy: 0.02%\n",
      "Epoch 20/50 | Train loss: 0.01758 | Train accuracy: 0.04% | Test loss: 0.01610 | Test accuracy: 0.02%\n",
      "Epoch 21/50 | Train loss: 0.01727 | Train accuracy: 0.04% | Test loss: 0.01582 | Test accuracy: 0.02%\n",
      "Epoch 22/50 | Train loss: 0.01697 | Train accuracy: 0.04% | Test loss: 0.01555 | Test accuracy: 0.02%\n",
      "Epoch 23/50 | Train loss: 0.01668 | Train accuracy: 0.04% | Test loss: 0.01528 | Test accuracy: 0.02%\n",
      "Epoch 24/50 | Train loss: 0.01639 | Train accuracy: 0.04% | Test loss: 0.01502 | Test accuracy: 0.02%\n",
      "Epoch 25/50 | Train loss: 0.01610 | Train accuracy: 0.04% | Test loss: 0.01476 | Test accuracy: 0.02%\n",
      "Epoch 26/50 | Train loss: 0.01583 | Train accuracy: 0.04% | Test loss: 0.01450 | Test accuracy: 0.02%\n",
      "Epoch 27/50 | Train loss: 0.01555 | Train accuracy: 0.04% | Test loss: 0.01425 | Test accuracy: 0.02%\n",
      "Epoch 28/50 | Train loss: 0.01528 | Train accuracy: 0.04% | Test loss: 0.01401 | Test accuracy: 0.02%\n",
      "Epoch 29/50 | Train loss: 0.01502 | Train accuracy: 0.04% | Test loss: 0.01377 | Test accuracy: 0.02%\n",
      "Epoch 30/50 | Train loss: 0.01476 | Train accuracy: 0.04% | Test loss: 0.01353 | Test accuracy: 0.02%\n",
      "Epoch 31/50 | Train loss: 0.01450 | Train accuracy: 0.04% | Test loss: 0.01330 | Test accuracy: 0.02%\n",
      "Epoch 32/50 | Train loss: 0.01425 | Train accuracy: 0.04% | Test loss: 0.01308 | Test accuracy: 0.02%\n",
      "Epoch 33/50 | Train loss: 0.01400 | Train accuracy: 0.04% | Test loss: 0.01285 | Test accuracy: 0.02%\n",
      "Epoch 34/50 | Train loss: 0.01376 | Train accuracy: 0.04% | Test loss: 0.01263 | Test accuracy: 0.02%\n",
      "Epoch 35/50 | Train loss: 0.01352 | Train accuracy: 0.04% | Test loss: 0.01241 | Test accuracy: 0.02%\n",
      "Epoch 36/50 | Train loss: 0.01329 | Train accuracy: 0.04% | Test loss: 0.01220 | Test accuracy: 0.02%\n",
      "Epoch 37/50 | Train loss: 0.01305 | Train accuracy: 0.04% | Test loss: 0.01198 | Test accuracy: 0.05%\n",
      "Epoch 38/50 | Train loss: 0.01283 | Train accuracy: 0.04% | Test loss: 0.01178 | Test accuracy: 0.03%\n",
      "Epoch 39/50 | Train loss: 0.01260 | Train accuracy: 0.04% | Test loss: 0.01158 | Test accuracy: 0.06%\n",
      "Epoch 40/50 | Train loss: 0.01238 | Train accuracy: 0.04% | Test loss: 0.01137 | Test accuracy: 0.22%\n",
      "Epoch 41/50 | Train loss: 0.01216 | Train accuracy: 0.04% | Test loss: 0.01118 | Test accuracy: 0.08%\n",
      "Epoch 42/50 | Train loss: 0.01194 | Train accuracy: 0.04% | Test loss: 0.01097 | Test accuracy: 0.67%\n",
      "Epoch 43/50 | Train loss: 0.01172 | Train accuracy: 0.04% | Test loss: 0.01078 | Test accuracy: 0.95%\n",
      "Epoch 44/50 | Train loss: 0.01151 | Train accuracy: 0.04% | Test loss: 0.01058 | Test accuracy: 0.91%\n",
      "Epoch 45/50 | Train loss: 0.01130 | Train accuracy: 0.04% | Test loss: 0.01039 | Test accuracy: 1.35%\n",
      "Epoch 46/50 | Train loss: 0.01108 | Train accuracy: 0.04% | Test loss: 0.01019 | Test accuracy: 1.38%\n",
      "Epoch 47/50 | Train loss: 0.01087 | Train accuracy: 0.04% | Test loss: 0.01000 | Test accuracy: 1.28%\n",
      "Epoch 48/50 | Train loss: 0.01066 | Train accuracy: 0.04% | Test loss: 0.00980 | Test accuracy: 1.25%\n",
      "Epoch 49/50 | Train loss: 0.01045 | Train accuracy: 0.04% | Test loss: 0.00961 | Test accuracy: 1.20%\n",
      "Epoch 50/50 | Train loss: 0.01024 | Train accuracy: 0.04% | Test loss: 0.00942 | Test accuracy: 1.12%\n",
      "Total time taken: 696.9343903209992\n"
     ]
    }
   ],
   "execution_count": 10
  },
  {
   "metadata": {},
   "cell_type": "markdown",
   "source": "# Evaluate Model",
   "id": "12e02627456a3a8b"
  },
  {
   "metadata": {
    "ExecuteTime": {
     "end_time": "2024-08-05T14:26:06.842266Z",
     "start_time": "2024-08-05T14:26:06.373418Z"
    }
   },
   "cell_type": "code",
   "source": [
    "evaluations = 3\n",
    "\n",
    "evaluation_dataset = ZeroShotDataset(\n",
    "    dataset_dir=dataset_dir,\n",
    "    dataset_name='evaluation',\n",
    "    mode='test'\n",
    ")\n",
    "\n",
    "model.eval() # set model into evaluation mode\n",
    "with torch.inference_mode():\n",
    "    \n",
    "    for _ in range(evaluations):\n",
    "        X, y = random.choice(evaluation_dataset)\n",
    "        X, y = X.to(device) / 10, y.to(device) / 10\n",
    "        \n",
    "        y_pred = model(X)[0]\n",
    "        y_pred_norm = norm_arc20204(y_pred)\n",
    "        \n",
    "        plot.input_and_output(X * 10, y * 10, y_pred_norm * 10)\n",
    "        accuracy_pred = accuracy_fn(y, y_pred_norm)\n",
    "        print(f\"Accuracy: {accuracy_pred:.2f}% ({int(accuracy_pred / 100 * 900)}/900)\")\n"
   ],
   "id": "14b6af5afe472c9e",
   "outputs": [
    {
     "data": {
      "text/plain": [
       "<Figure size 1920x1440 with 3 Axes>"
      ],
      "image/png": "[encoded data removed]"
     },
     "metadata": {},
     "output_type": "display_data"
    },
    {
     "name": "stdout",
     "output_type": "stream",
     "text": [
      "Accuracy: 2.00% (18/900)\n"
     ]
    },
    {
     "data": {
      "text/plain": [
       "<Figure size 1920x1440 with 3 Axes>"
      ],
      "image/png": "[encoded data removed]"
     },
     "metadata": {},
     "output_type": "display_data"
    },
    {
     "name": "stdout",
     "output_type": "stream",
     "text": [
      "Accuracy: 5.33% (48/900)\n"
     ]
    },
    {
     "data": {
      "text/plain": [
       "<Figure size 1920x1440 with 3 Axes>"
      ],
      "image/png": "[encoded data removed]"
     },
     "metadata": {},
     "output_type": "display_data"
    },
    {
     "name": "stdout",
     "output_type": "stream",
     "text": [
      "Accuracy: 21.67% (195/900)\n"
     ]
    }
   ],
   "execution_count": 14
  },
  {
   "metadata": {},
   "cell_type": "code",
   "source": "",
   "id": "283bc873102e917a",
   "outputs": [],
   "execution_count": null
  }
 ],
 "metadata": {
  "kernelspec": {
   "display_name": "Python 3 (ipykernel)",
   "language": "python",
   "name": "python3"
  },
  "language_info": {
   "codemirror_mode": {
    "name": "ipython",
    "version": 3
   },
   "file_extension": ".py",
   "mimetype": "text/x-python",
   "name": "python",
   "nbconvert_exporter": "python",
   "pygments_lexer": "ipython3",
   "version": "3.12.4"
  }
 },
 "nbformat": 4,
 "nbformat_minor": 5
}
