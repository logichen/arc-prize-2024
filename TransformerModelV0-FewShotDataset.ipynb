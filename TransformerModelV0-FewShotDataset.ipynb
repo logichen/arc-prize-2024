{
 "cells": [
  {
   "metadata": {},
   "cell_type": "markdown",
   "source": [
    "# TransformerModelV0 with FewShotDataset\n",
    "\n",
    "This notebook is an experimental approach on solving the ARC challenge. See https://arcprize.org/ for more details."
   ],
   "id": "2deab4fa4b404fd9"
  },
  {
   "cell_type": "code",
   "id": "469d911a-eb08-40db-9491-58582e0a5244",
   "metadata": {
    "ExecuteTime": {
     "end_time": "2024-08-05T14:29:12.645806Z",
     "start_time": "2024-08-05T14:29:11.267201Z"
    }
   },
   "source": [
    "import os\n",
    "import random\n",
    "\n",
    "import torch\n",
    "\n",
    "from pathlib import Path\n",
    "\n",
    "from arc2024.data import FewShotDataset\n",
    "from arc2024.utils import plot\n",
    "from arc2024.utils.calc import accuracy_fn, norm_arc20204\n",
    "from arc2024.models.transformer import TransformerModelV0"
   ],
   "outputs": [],
   "execution_count": 1
  },
  {
   "metadata": {},
   "cell_type": "markdown",
   "source": "# Setup Device Agnostic Environment",
   "id": "238e55441bbcf17a"
  },
  {
   "metadata": {
    "ExecuteTime": {
     "end_time": "2024-08-05T14:29:12.924749Z",
     "start_time": "2024-08-05T14:29:12.646983Z"
    }
   },
   "cell_type": "code",
   "source": [
    "import arc2024.utils.amdgpu as amd\n",
    "\n",
    "if amd.is_amdgpu_on_linux():\n",
    "    # Use ROCm on rx6600/6600xt by setting the environment variable HSA_OVERRIDE_GFX_VERSION to \"10.3.0\"\n",
    "    # Source: https://github.com/ROCm/ROCm/issues/1698#issuecomment-1261646854\n",
    "    amd.setup_amdgpu_environment(\n",
    "        hsa_override_gfx_version=\"10.3.0\"\n",
    "    )\n",
    "\n",
    "device = torch.device('cuda' if torch.cuda.is_available() else 'cpu')\n",
    "device"
   ],
   "id": "564e0858a54fdba8",
   "outputs": [
    {
     "data": {
      "text/plain": [
       "device(type='cuda')"
      ]
     },
     "execution_count": 2,
     "metadata": {},
     "output_type": "execute_result"
    }
   ],
   "execution_count": 2
  },
  {
   "metadata": {},
   "cell_type": "markdown",
   "source": "## Prepare Datasets and DataLoaders",
   "id": "e1d56ce2d680401c"
  },
  {
   "metadata": {
    "ExecuteTime": {
     "end_time": "2024-08-05T14:29:16.210223Z",
     "start_time": "2024-08-05T14:29:12.925423Z"
    }
   },
   "cell_type": "code",
   "source": [
    "dataset_dir = Path('datasets')\n",
    "\n",
    "BATCH_SIZE = 32\n",
    "NUM_WORKERS = os.cpu_count()\n",
    "\n",
    "train_dataset = FewShotDataset(\n",
    "    dataset_dir=dataset_dir,\n",
    "    dataset_name='training',\n",
    "    permutations_enabled=True\n",
    ")\n",
    "train_dataloader = torch.utils.data.DataLoader(\n",
    "    dataset=train_dataset,\n",
    "    batch_size=BATCH_SIZE,\n",
    "    shuffle=True,\n",
    "    num_workers=NUM_WORKERS\n",
    ")\n",
    "\n",
    "test_dataset = FewShotDataset(\n",
    "    dataset_dir=dataset_dir,\n",
    "    dataset_name='evaluation'\n",
    ")\n",
    "test_dataloader = torch.utils.data.DataLoader(\n",
    "    dataset=test_dataset,\n",
    "    batch_size=BATCH_SIZE,\n",
    "    shuffle=True,\n",
    "    num_workers=NUM_WORKERS\n",
    ")"
   ],
   "id": "bb2cae609fdde826",
   "outputs": [],
   "execution_count": 3
  },
  {
   "metadata": {},
   "cell_type": "markdown",
   "source": "## Train Model",
   "id": "2177ae9236464708"
  },
  {
   "metadata": {
    "ExecuteTime": {
     "end_time": "2024-08-05T14:29:17.207984Z",
     "start_time": "2024-08-05T14:29:16.211238Z"
    }
   },
   "cell_type": "code",
   "source": [
    "model = TransformerModelV0(\n",
    "    d_model=900,\n",
    "    nhead=6,\n",
    "    batch_first=True,\n",
    "    device=device\n",
    ")\n",
    "model"
   ],
   "id": "3f0a32b80655a8ce",
   "outputs": [
    {
     "data": {
      "text/plain": [
       "TransformerModelV0(\n",
       "  (flatten): Flatten(start_dim=1, end_dim=-1)\n",
       "  (transformer): Transformer(\n",
       "    (encoder): TransformerEncoder(\n",
       "      (layers): ModuleList(\n",
       "        (0-5): 6 x TransformerEncoderLayer(\n",
       "          (self_attn): MultiheadAttention(\n",
       "            (out_proj): NonDynamicallyQuantizableLinear(in_features=900, out_features=900, bias=True)\n",
       "          )\n",
       "          (linear1): Linear(in_features=900, out_features=2048, bias=True)\n",
       "          (dropout): Dropout(p=0.1, inplace=False)\n",
       "          (linear2): Linear(in_features=2048, out_features=900, bias=True)\n",
       "          (norm1): LayerNorm((900,), eps=1e-05, elementwise_affine=True)\n",
       "          (norm2): LayerNorm((900,), eps=1e-05, elementwise_affine=True)\n",
       "          (dropout1): Dropout(p=0.1, inplace=False)\n",
       "          (dropout2): Dropout(p=0.1, inplace=False)\n",
       "        )\n",
       "      )\n",
       "      (norm): LayerNorm((900,), eps=1e-05, elementwise_affine=True)\n",
       "    )\n",
       "    (decoder): TransformerDecoder(\n",
       "      (layers): ModuleList(\n",
       "        (0-5): 6 x TransformerDecoderLayer(\n",
       "          (self_attn): MultiheadAttention(\n",
       "            (out_proj): NonDynamicallyQuantizableLinear(in_features=900, out_features=900, bias=True)\n",
       "          )\n",
       "          (multihead_attn): MultiheadAttention(\n",
       "            (out_proj): NonDynamicallyQuantizableLinear(in_features=900, out_features=900, bias=True)\n",
       "          )\n",
       "          (linear1): Linear(in_features=900, out_features=2048, bias=True)\n",
       "          (dropout): Dropout(p=0.1, inplace=False)\n",
       "          (linear2): Linear(in_features=2048, out_features=900, bias=True)\n",
       "          (norm1): LayerNorm((900,), eps=1e-05, elementwise_affine=True)\n",
       "          (norm2): LayerNorm((900,), eps=1e-05, elementwise_affine=True)\n",
       "          (norm3): LayerNorm((900,), eps=1e-05, elementwise_affine=True)\n",
       "          (dropout1): Dropout(p=0.1, inplace=False)\n",
       "          (dropout2): Dropout(p=0.1, inplace=False)\n",
       "          (dropout3): Dropout(p=0.1, inplace=False)\n",
       "        )\n",
       "      )\n",
       "      (norm): LayerNorm((900,), eps=1e-05, elementwise_affine=True)\n",
       "    )\n",
       "  )\n",
       "  (unflatten): Unflatten(dim=1, unflattened_size=(1, 30, 30))\n",
       ")"
      ]
     },
     "execution_count": 4,
     "metadata": {},
     "output_type": "execute_result"
    }
   ],
   "execution_count": 4
  },
  {
   "metadata": {},
   "cell_type": "markdown",
   "source": "### Verify Input and Output Shapes with Random Tensor",
   "id": "73ba81c9ca21ee99"
  },
  {
   "metadata": {
    "ExecuteTime": {
     "end_time": "2024-08-05T14:29:17.523992Z",
     "start_time": "2024-08-05T14:29:17.208738Z"
    }
   },
   "cell_type": "code",
   "source": [
    "x = torch.rand([1, 30, 30]).to(device)\n",
    "model(x).shape"
   ],
   "id": "e1b7befceacdb2e",
   "outputs": [
    {
     "data": {
      "text/plain": [
       "torch.Size([1, 1, 30, 30])"
      ]
     },
     "execution_count": 5,
     "metadata": {},
     "output_type": "execute_result"
    }
   ],
   "execution_count": 5
  },
  {
   "metadata": {
    "ExecuteTime": {
     "end_time": "2024-08-05T14:29:17.638088Z",
     "start_time": "2024-08-05T14:29:17.524772Z"
    }
   },
   "cell_type": "code",
   "source": [
    "X, y, _ = train_dataset[0]\n",
    "X = X.to(device) / 10\n",
    "y = y.to(device) / 10\n",
    "\n",
    "y_pred = model(X)\n",
    "y_pred, y_pred.shape"
   ],
   "id": "c490ced35ddd64a0",
   "outputs": [
    {
     "data": {
      "text/plain": [
       "(tensor([[[[ 1.2019e+00,  2.1161e-01,  1.4854e+00, -7.0095e-02, -8.9793e-03,\n",
       "            -9.9936e-01,  2.4627e-01,  7.4914e-02, -1.1462e+00,  1.9437e+00,\n",
       "             1.8814e+00, -2.2115e+00,  1.8520e+00,  6.0127e-02, -2.3021e-01,\n",
       "            -3.7151e-01,  1.2995e+00, -1.1633e+00,  5.8855e-01,  9.3605e-01,\n",
       "            -2.9831e-01, -1.3760e+00,  1.1182e+00, -1.3605e+00, -8.1838e-01,\n",
       "             1.6203e+00,  1.0801e+00, -5.1714e-01,  7.5311e-01,  4.7102e-01],\n",
       "           [ 2.3376e+00,  4.7956e-01, -4.5997e-01, -1.0288e+00, -1.6803e-01,\n",
       "             8.8969e-01, -1.5457e+00, -4.0867e-01,  1.6201e+00, -5.8612e-01,\n",
       "            -3.5708e-02, -5.7536e-01,  1.1787e+00, -1.6929e+00, -5.9471e-01,\n",
       "            -2.8735e-01,  1.2577e+00, -2.7417e-01, -1.6669e+00, -2.1235e-01,\n",
       "             7.6643e-01,  8.9910e-01,  1.3517e-01,  1.3935e+00, -6.8674e-01,\n",
       "            -5.9062e-01,  1.2517e-01,  2.0255e+00,  1.1954e+00,  9.3893e-01],\n",
       "           [-1.7312e+00,  1.2185e+00, -5.2190e-02, -7.8113e-01,  1.2428e+00,\n",
       "            -6.5458e-01, -1.1357e+00,  7.0662e-01, -2.5812e+00, -2.7941e+00,\n",
       "            -9.7639e-01,  1.2544e+00, -1.7919e+00, -1.7235e+00, -5.5056e-01,\n",
       "            -9.8434e-01, -1.0715e+00, -1.5707e-01, -1.7223e+00,  1.3001e+00,\n",
       "            -1.2232e+00,  6.8329e-01, -3.9225e-01,  5.8982e-01,  2.8597e+00,\n",
       "            -3.0341e-01, -1.0146e+00, -7.0484e-01,  1.3276e+00,  5.1465e-01],\n",
       "           [ 1.0828e+00,  7.9021e-01,  7.1893e-01, -1.6966e-01,  6.4996e-01,\n",
       "            -9.0122e-01, -3.8952e-01, -1.0172e+00,  2.1949e+00,  9.6154e-01,\n",
       "            -1.7372e+00,  7.3226e-01, -3.4772e-01,  4.2007e-01, -4.0319e-02,\n",
       "             2.0575e+00,  6.1620e-01,  5.2291e-01,  1.0779e+00,  1.4248e+00,\n",
       "             2.3219e-01, -1.3547e+00, -1.5441e-01,  8.1307e-01, -8.0191e-01,\n",
       "             7.8037e-01,  1.1241e+00,  8.5919e-01, -1.8260e+00, -3.4366e-01],\n",
       "           [-6.1789e-02, -1.6518e+00,  2.5807e+00,  2.5437e-01,  7.3422e-01,\n",
       "             2.7482e-01,  1.6918e-01, -1.7177e+00,  9.2035e-01,  1.2129e+00,\n",
       "             1.1243e+00, -6.9612e-01,  4.5177e-01,  6.9642e-02,  7.0138e-01,\n",
       "            -2.6236e-01, -1.2899e+00,  2.1995e-01, -7.5836e-01, -2.6685e+00,\n",
       "            -9.0209e-01, -2.3395e-01, -3.6281e-01,  2.8438e-01,  2.2317e+00,\n",
       "            -6.8613e-01,  5.8369e-01, -1.5741e+00,  1.0403e+00,  1.2191e-01],\n",
       "           [ 8.2674e-01,  7.8349e-01, -1.3948e+00,  1.0166e+00,  1.9734e+00,\n",
       "            -4.2001e-01, -5.2854e-01, -2.8245e-01,  1.3436e+00, -7.5942e-02,\n",
       "             2.4738e-02,  2.0231e+00, -1.2570e+00, -5.2881e-01, -1.7210e+00,\n",
       "             9.3987e-02, -1.1244e+00,  9.2235e-01,  4.9123e-01, -1.3767e-01,\n",
       "             3.0074e-01, -1.4095e+00,  1.6919e+00, -5.6710e-01,  9.0943e-01,\n",
       "             7.4355e-01,  5.6117e-03,  1.4359e+00,  1.7590e+00, -4.6166e-01],\n",
       "           [-2.8275e-01,  9.6734e-01,  3.3088e-01, -6.6905e-01,  4.0265e-01,\n",
       "            -3.9280e-03,  3.2054e-01,  1.1015e-01, -1.2553e+00, -7.2237e-01,\n",
       "            -1.1743e-01, -1.0618e+00, -1.0842e+00, -8.2085e-01,  2.1816e-01,\n",
       "            -8.8468e-01, -1.0428e+00, -1.6185e-01, -4.9893e-01,  1.7965e+00,\n",
       "            -6.8609e-01,  5.1887e-01,  1.3700e+00,  6.0987e-01, -1.4941e-01,\n",
       "             8.2161e-01, -1.8012e+00, -5.5835e-01, -1.1023e+00,  4.2870e-01],\n",
       "           [ 1.4102e+00,  1.0645e+00, -1.2511e-01, -5.5644e-01, -1.6639e+00,\n",
       "            -1.4559e+00,  1.8109e+00, -5.2705e-01, -1.1165e+00,  7.9607e-02,\n",
       "             9.8465e-01,  3.8027e-01,  4.4266e-02,  1.1089e+00, -1.1610e+00,\n",
       "            -1.0410e+00,  7.2779e-01, -4.5659e-01, -1.3098e+00, -2.2750e-02,\n",
       "             7.7044e-01, -4.3004e-01,  1.6969e+00, -2.6098e-02, -4.2230e-01,\n",
       "            -1.0420e-01, -4.1735e-01,  9.0508e-01, -4.5426e-01, -2.2071e+00],\n",
       "           [ 8.5520e-01,  1.9700e+00, -7.9278e-01, -2.1075e+00,  6.9657e-01,\n",
       "            -4.6224e-02,  2.6379e-01, -6.5077e-01,  1.1906e+00,  5.6748e-01,\n",
       "            -1.5013e+00,  1.1591e+00, -7.3435e-01,  3.0570e-01,  1.4199e-01,\n",
       "            -1.7502e-01, -3.1583e-01, -2.6816e-02,  1.7570e-01, -1.4601e+00,\n",
       "             4.1836e-01, -1.5952e+00, -1.2453e-01,  5.6327e-01,  8.2154e-01,\n",
       "             7.3381e-01, -3.3248e-03, -2.2302e+00,  8.0863e-01,  8.1458e-01],\n",
       "           [ 6.5393e-01,  2.6343e+00,  3.6175e-01,  1.3846e+00,  3.0508e-01,\n",
       "             2.1859e-01,  1.7038e+00, -5.5778e-01,  7.1117e-01,  5.1981e-01,\n",
       "             1.0145e+00,  9.2792e-01,  6.4089e-01,  1.2384e+00,  3.6349e-01,\n",
       "             1.5464e+00, -8.1529e-01,  1.4577e+00,  1.7269e-01, -5.2172e-01,\n",
       "             7.8727e-02, -5.3428e-01, -6.9313e-01, -1.6296e-01,  1.4510e+00,\n",
       "            -9.5365e-02, -3.2833e-01, -4.7486e-01, -1.0194e+00,  4.8484e-01],\n",
       "           [-1.8748e+00, -1.0261e+00,  1.9966e+00, -1.2810e+00, -1.8543e+00,\n",
       "             3.0288e+00, -1.0651e+00,  2.1167e-01,  1.1308e+00, -1.5816e+00,\n",
       "             1.2004e+00, -1.1524e+00,  9.9147e-01, -1.0977e+00,  2.9911e-01,\n",
       "             5.2028e-01, -2.1760e-01,  2.0930e-01, -5.7815e-01, -1.6981e+00,\n",
       "             1.5720e+00, -1.8495e-01, -8.8902e-01, -4.0804e-01, -6.4438e-01,\n",
       "            -8.0618e-01, -1.1734e+00,  8.6753e-01, -2.6323e-01,  1.4376e+00],\n",
       "           [ 4.3081e-01,  3.1816e-01,  2.1183e+00, -7.2413e-01, -5.5320e-01,\n",
       "             3.7020e-02, -5.6243e-01,  8.0906e-01,  1.3132e-01, -1.2277e-01,\n",
       "            -1.0812e+00,  1.6685e+00,  7.2114e-01, -3.2783e-01,  2.0650e+00,\n",
       "            -8.2553e-01,  1.5289e+00,  1.7945e-01,  7.1694e-01, -3.8867e-01,\n",
       "            -1.3799e-01,  1.4551e+00, -4.9215e-03, -9.1998e-01,  1.4310e+00,\n",
       "             8.4647e-01,  3.2771e-01,  2.0356e-01,  1.5528e+00, -2.0606e+00],\n",
       "           [-2.3187e-01,  8.5309e-02, -1.3809e+00,  1.1114e+00, -1.6593e+00,\n",
       "             1.6121e+00,  2.6120e-01, -1.6075e+00,  7.8867e-01, -5.8542e-02,\n",
       "            -1.6354e-02,  5.8326e-01,  1.1039e+00, -1.2317e+00, -1.6287e-01,\n",
       "             2.0504e+00, -3.0344e-01,  6.3146e-01,  3.1769e-01,  3.4260e-01,\n",
       "             9.8857e-01,  9.6610e-02,  1.5121e-01, -5.3127e-01, -8.2876e-01,\n",
       "            -1.4668e+00,  2.2527e+00,  1.4505e+00,  7.3272e-03, -1.3635e-01],\n",
       "           [-3.2633e-01, -7.5901e-01, -1.2107e+00,  1.5134e+00,  1.5291e-01,\n",
       "            -3.6986e-02, -1.0247e+00, -1.4723e-01,  2.6738e-01, -8.4674e-01,\n",
       "            -2.7214e-01, -6.6993e-01,  1.2046e+00, -1.2809e-01, -2.2021e+00,\n",
       "             3.3017e-02, -9.6093e-01, -4.5679e-01, -1.0465e+00,  1.0335e+00,\n",
       "             2.3734e-01,  7.2123e-02,  9.6430e-01, -3.1123e-01,  3.8154e-01,\n",
       "             1.2271e+00,  1.9915e+00, -1.2126e+00, -9.0132e-01, -4.5418e-02],\n",
       "           [-5.7243e-01, -4.5162e-01, -5.9763e-01,  2.1252e+00,  1.0732e+00,\n",
       "             4.7780e-02, -2.5517e-02, -9.3965e-01,  2.7168e-01, -8.8350e-01,\n",
       "            -1.3322e+00,  3.6041e-02, -4.7776e-01, -2.2417e-01, -1.1742e-01,\n",
       "            -1.1691e+00, -1.1423e+00, -1.0644e-01,  3.7200e-01, -5.9079e-02,\n",
       "             9.9111e-01, -1.6319e+00,  9.5003e-01,  4.5700e-01, -5.3269e-01,\n",
       "             2.3982e-01, -4.0346e-01, -2.2712e+00,  5.7826e-01,  6.6090e-01],\n",
       "           [ 5.4527e-01,  8.7379e-02,  5.6719e-01, -9.6806e-01,  9.7146e-01,\n",
       "            -3.5743e-01, -7.2019e-01,  2.8426e-01, -1.9264e-01,  1.0186e+00,\n",
       "            -9.4907e-01,  3.2453e-01, -9.3831e-01,  1.1201e+00,  1.7681e+00,\n",
       "             1.4385e+00,  1.5138e-02, -9.0826e-01,  1.6719e+00,  7.1248e-01,\n",
       "            -1.0562e+00,  5.6966e-02,  5.6252e-01, -1.9002e-01, -2.6392e-01,\n",
       "             1.8909e-01, -1.1822e+00,  6.0385e-01, -2.2334e-01,  1.2452e+00],\n",
       "           [-9.9363e-01,  1.2455e+00,  6.8972e-01, -1.5396e+00,  7.5292e-01,\n",
       "            -1.1299e+00,  1.8127e+00,  4.5553e-01, -1.4721e-02,  1.2415e+00,\n",
       "            -1.5972e-02,  1.3683e-01, -3.3496e-01, -8.6262e-01,  1.7861e-01,\n",
       "             3.7012e-01, -3.8091e-01, -1.9821e+00,  1.1060e+00,  2.0761e-01,\n",
       "            -5.3149e-01, -1.8888e-01, -1.6688e+00,  1.3154e+00, -4.4561e-01,\n",
       "            -9.1510e-01, -5.3432e-01,  1.9621e-01, -7.7431e-01,  3.1432e-01],\n",
       "           [ 1.0191e+00, -1.8828e-01,  5.8925e-01,  4.5708e-01,  6.0613e-01,\n",
       "             1.3547e-01, -4.8847e-02, -7.9604e-01, -3.2643e-01, -6.0267e-01,\n",
       "            -1.9168e-01, -7.9309e-01, -9.8310e-02, -4.5249e-01,  2.2105e+00,\n",
       "            -1.7132e+00,  1.6412e+00,  8.9787e-01, -9.6482e-02,  4.5365e-01,\n",
       "            -9.6470e-01,  8.4671e-01,  3.5257e-01, -8.8683e-01,  8.3462e-01,\n",
       "             1.2278e-01, -1.0007e+00, -1.1557e+00, -2.5261e+00, -9.6200e-01],\n",
       "           [-1.7985e-01,  1.0069e+00, -3.8331e-01, -3.8540e-01,  1.9453e-01,\n",
       "             8.5312e-01,  6.7377e-01, -6.9140e-01, -7.0983e-01,  7.4912e-01,\n",
       "             1.7318e-03, -5.3606e-01,  9.2996e-01, -2.9376e-01, -1.8134e+00,\n",
       "             1.9148e+00, -1.9893e+00,  5.0532e-04, -3.7733e-01, -1.0207e+00,\n",
       "            -7.6745e-01,  3.4985e-01, -6.9139e-01,  1.6242e+00, -5.5853e-01,\n",
       "             1.0209e+00, -2.4425e+00, -3.3020e-01,  1.0611e-01, -2.1448e-01],\n",
       "           [-8.7494e-01, -6.9290e-01,  1.1452e-01,  1.4184e+00,  1.5899e+00,\n",
       "            -9.5959e-01,  1.0041e-01, -7.0632e-01,  6.8543e-01, -1.6771e+00,\n",
       "             1.1280e+00,  2.7743e-01,  2.2819e+00, -1.0943e+00,  7.2930e-02,\n",
       "            -7.3497e-01,  1.9317e+00,  1.1897e+00,  6.4103e-01,  1.7946e+00,\n",
       "             4.4777e-01, -6.6797e-01, -3.5482e-01, -1.0489e-01, -2.4006e-01,\n",
       "            -1.1053e+00, -5.9422e-01,  8.9877e-01, -3.5066e-01, -3.1490e-01],\n",
       "           [ 9.6014e-01,  8.4860e-01,  5.8843e-01, -3.4252e-01, -1.0228e+00,\n",
       "             5.0171e-01, -1.7558e+00,  9.9931e-01,  6.6325e-01, -2.4994e-01,\n",
       "            -2.0905e-01, -1.0734e+00,  3.5655e-01,  1.5209e-01, -8.3302e-01,\n",
       "            -9.5658e-02, -1.0475e-01,  1.7834e+00, -3.3241e-01, -1.7298e+00,\n",
       "            -1.1155e-01,  2.5544e-01, -7.7541e-02,  7.3479e-01,  8.3488e-01,\n",
       "             7.8599e-01, -5.5043e-01, -3.3584e-01, -7.1548e-02, -3.8428e-01],\n",
       "           [ 2.4606e-01, -6.5651e-02, -2.3849e-01,  2.1264e+00, -1.3981e+00,\n",
       "            -1.2211e+00,  1.3636e+00,  3.8172e-01, -1.2197e+00,  1.6079e+00,\n",
       "            -1.4133e+00, -2.7406e-01, -8.2777e-01,  2.4586e-01,  1.1169e-01,\n",
       "            -3.3399e-01, -5.0858e-02,  2.5350e-01, -1.2300e+00, -5.7406e-02,\n",
       "            -3.3924e-01, -1.2147e+00, -1.6334e+00,  6.4819e-01,  1.4757e+00,\n",
       "            -7.7277e-01, -8.3095e-02, -1.4837e+00, -1.3476e+00, -1.6610e-01],\n",
       "           [ 1.4131e+00, -1.7159e-01,  8.2659e-01, -1.1275e+00,  1.0954e+00,\n",
       "             1.0521e+00, -1.1643e+00, -8.9618e-01,  3.6710e-01, -1.6319e+00,\n",
       "            -8.8335e-02, -1.7636e+00,  9.3271e-01,  4.8187e-01, -7.7590e-01,\n",
       "             1.3418e+00, -2.7063e-01, -9.7535e-01, -7.3093e-02,  3.9095e-01,\n",
       "             4.6968e-01, -1.7299e-01,  4.1259e-01, -1.2895e+00, -1.3900e+00,\n",
       "             5.0368e-01, -2.0929e+00, -1.6099e+00, -9.1420e-01,  7.7554e-02],\n",
       "           [-1.2722e+00,  9.9133e-01, -6.1090e-01,  1.7021e+00, -2.6328e-01,\n",
       "             9.7033e-01, -3.5814e-01, -1.4257e+00,  9.4432e-01,  1.7964e+00,\n",
       "            -2.4545e+00, -1.4182e+00,  5.6350e-01,  5.9697e-01, -4.2692e-01,\n",
       "             3.5276e-01, -1.5937e+00,  7.1823e-02,  3.8322e-01, -1.1522e+00,\n",
       "            -6.5276e-01, -3.7546e-01, -9.6481e-02,  2.1742e-01, -6.8251e-01,\n",
       "            -1.0025e+00,  1.5999e+00,  6.8702e-01,  1.4312e-01, -2.1469e+00],\n",
       "           [ 2.8036e-01, -4.4738e-01, -7.6373e-01,  7.5624e-01, -8.3501e-01,\n",
       "             1.5664e+00,  6.2615e-01,  3.2070e-01,  2.0831e-01,  9.7099e-01,\n",
       "             1.9240e-01,  9.9062e-01, -2.3963e-01,  3.1444e-01, -1.0976e+00,\n",
       "            -7.0601e-01,  1.8377e+00, -1.1025e+00, -5.6733e-01,  4.9879e-01,\n",
       "             5.6786e-01,  9.3728e-01,  6.5659e-01,  2.6582e-01, -1.1459e+00,\n",
       "            -2.3798e+00,  7.3291e-01, -5.0582e-01,  6.0010e-01, -2.8720e-01],\n",
       "           [-1.1108e+00, -6.7432e-01,  6.2488e-01, -4.6747e-01, -7.5374e-01,\n",
       "            -1.6101e-02,  6.1941e-01,  1.6541e+00,  9.7716e-01, -1.6984e-01,\n",
       "            -4.6904e-01, -6.0403e-01, -7.2206e-01, -2.2898e-01,  3.3937e-01,\n",
       "             3.4698e-01,  6.4645e-01,  2.0594e+00, -1.4639e+00,  7.6179e-01,\n",
       "             1.6262e-01,  4.2977e-01, -2.8189e-01, -1.4843e+00, -1.3352e+00,\n",
       "             4.0019e-03, -1.9345e+00, -1.3435e-01,  1.6098e-01, -9.4803e-02],\n",
       "           [-1.3413e+00,  1.1223e+00, -1.4542e+00, -4.1506e-01,  4.4524e-01,\n",
       "            -6.2149e-01,  1.2153e-01, -6.1888e-01,  7.0286e-01, -4.1792e-01,\n",
       "             1.7841e-01,  2.0932e-02, -3.7615e-01,  1.7275e+00, -1.8672e+00,\n",
       "            -5.5231e-01, -6.3529e-02,  1.5061e+00,  6.4816e-01,  6.1088e-01,\n",
       "            -9.1334e-01, -5.7018e-01,  3.4478e-01, -5.6774e-01, -5.1900e-01,\n",
       "            -1.8276e+00,  1.6800e-01,  1.6926e+00, -4.2198e-01, -3.8772e-01],\n",
       "           [-1.4825e+00, -7.1136e-01,  1.2981e+00,  1.2621e-01, -7.6785e-01,\n",
       "             1.3793e-02,  2.7750e+00, -1.6785e+00,  6.3301e-01,  2.4117e-01,\n",
       "            -8.3865e-01, -3.3205e-01,  1.6136e-01,  9.1178e-01,  1.2884e+00,\n",
       "            -4.9627e-01,  5.8014e-01,  8.3203e-01,  9.6673e-01, -2.9630e-01,\n",
       "             2.3128e-02,  5.3107e-01,  9.8059e-01,  3.0951e-01, -1.2181e+00,\n",
       "             7.4019e-01, -1.1651e+00,  1.1687e+00,  1.1369e+00,  1.7082e-01],\n",
       "           [ 1.8335e-02, -5.6290e-01, -1.9095e+00,  3.2143e-01, -1.1642e+00,\n",
       "             6.5283e-01, -2.8740e-01,  2.0833e-01, -3.8071e-02, -1.3860e+00,\n",
       "            -9.9197e-01,  6.9407e-01, -3.0660e-01,  1.5739e+00,  9.2665e-01,\n",
       "            -1.2008e+00,  1.3627e+00, -1.3967e+00,  1.5707e+00, -1.6795e-01,\n",
       "            -1.7577e+00,  1.5403e+00,  1.3065e+00,  1.7336e+00, -6.6731e-01,\n",
       "            -8.0077e-01, -1.4404e-01,  1.1247e+00,  9.9424e-01, -8.3065e-01],\n",
       "           [-7.4059e-01, -5.6010e-01,  4.3629e-01,  6.4036e-01, -9.3698e-01,\n",
       "             8.6194e-01,  5.0320e-01,  7.2255e-01,  3.3371e-01,  6.1377e-01,\n",
       "            -1.3452e+00, -6.5896e-01,  1.7228e-01, -4.8061e-01,  2.2177e-01,\n",
       "             5.6635e-01,  3.4533e-01,  1.3539e+00, -2.3319e+00,  8.1245e-01,\n",
       "             2.1291e-02, -7.1185e-01, -6.2997e-01, -4.7196e-01, -5.8585e-02,\n",
       "            -6.2439e-01, -6.2901e-01,  2.4125e-01,  2.2030e-01, -9.3839e-01]]]],\n",
       "        device='cuda:0', grad_fn=<ViewBackward0>),\n",
       " torch.Size([1, 1, 30, 30]))"
      ]
     },
     "execution_count": 6,
     "metadata": {},
     "output_type": "execute_result"
    }
   ],
   "execution_count": 6
  },
  {
   "metadata": {},
   "cell_type": "markdown",
   "source": "### Setup Loss, optimizer and evaluation metrics",
   "id": "eee172db70a38518"
  },
  {
   "metadata": {
    "ExecuteTime": {
     "end_time": "2024-08-05T14:29:18.050791Z",
     "start_time": "2024-08-05T14:29:17.638820Z"
    }
   },
   "cell_type": "code",
   "source": [
    "loss_fn = torch.nn.MSELoss()\n",
    "optimizer = torch.optim.SGD(params=model.parameters(), lr=0.01)"
   ],
   "id": "1ce92989eac86aa2",
   "outputs": [],
   "execution_count": 7
  },
  {
   "metadata": {},
   "cell_type": "markdown",
   "source": "### Run Training Loop",
   "id": "518300e154e22dd8"
  },
  {
   "metadata": {
    "ExecuteTime": {
     "end_time": "2024-08-05T16:36:28.390127Z",
     "start_time": "2024-08-05T14:29:18.051596Z"
    }
   },
   "cell_type": "code",
   "source": [
    "from timeit import default_timer as timer \n",
    "\n",
    "epochs = 50\n",
    "\n",
    "time_start = timer()\n",
    "for epoch in range(epochs):\n",
    "    ### Training\n",
    "    train_loss = 0\n",
    "    train_accuracy = 0\n",
    "\n",
    "    model.train() # Set model into training mode\n",
    "    \n",
    "    for b, (X_train, y_train, challenge_ids) in enumerate(train_dataloader):\n",
    "        for challenge_id in challenge_ids:\n",
    "            X_shots, y_shots = train_dataset.get_samples(challenge_id)\n",
    "            X_shots, y_shots = X_shots.to(device) / 10, y_shots.to(device) / 10\n",
    "            \n",
    "            # Forward pass:\n",
    "            shots_pred = model(X_shots, y_shots)\n",
    "            \n",
    "            # Calculate loss:\n",
    "            loss = loss_fn(shots_pred, y_shots)\n",
    "            \n",
    "            # Reset optimizer gradients:\n",
    "            optimizer.zero_grad()\n",
    "            \n",
    "            # Backward pass:\n",
    "            loss.backward()\n",
    "            \n",
    "            # Adjust parameters:\n",
    "            optimizer.step()\n",
    "        \n",
    "        # Send to device and normalize:\n",
    "        X_train, y_train = X_train.to(device) / 10, y_train.to(device) / 10\n",
    "        \n",
    "        # Forward pass:\n",
    "        train_pred = model(X_train, y_train)\n",
    "        \n",
    "        # Calculate loss:\n",
    "        loss = loss_fn(train_pred, y_train)\n",
    "        train_loss += loss\n",
    "        train_accuracy += accuracy_fn(y_train, norm_arc20204(train_pred))\n",
    "        \n",
    "        # Reset optimizer gradients:\n",
    "        optimizer.zero_grad()\n",
    "        \n",
    "        # Backward pass:\n",
    "        loss.backward()\n",
    "        \n",
    "        # Adjust parameters:\n",
    "        optimizer.step()\n",
    "\n",
    "    train_loss /= len(train_dataloader.dataset)\n",
    "    train_accuracy /= len(train_dataloader.dataset)\n",
    "    \n",
    "    ### Testing\n",
    "    test_loss = 0\n",
    "    test_accuracy = 0\n",
    "    model.eval() # set model into evaluation mode\n",
    "\n",
    "    with torch.inference_mode():\n",
    "        for X_test, y_test, _ in test_dataloader:\n",
    "            # Send to device and normalize:\n",
    "            X_test, y_test = X_test.to(device) / 10, y_test.to(device) / 10\n",
    "\n",
    "            # Forward pass:\n",
    "            test_pred = model(X_test)\n",
    "\n",
    "            # Calculate loss:\n",
    "            loss = loss_fn(test_pred, y_test)\n",
    "            test_loss += loss\n",
    "            test_accuracy += accuracy_fn(y_test, norm_arc20204(test_pred))\n",
    "    \n",
    "        test_loss /= len(test_dataloader.dataset)\n",
    "        test_accuracy /= len(test_dataloader.dataset)\n",
    "    \n",
    "    print(f\"Epoch {epoch + 1}/{epochs} | Train loss: {train_loss:.5f} | Train accuracy: {train_accuracy:.2f}% | Test loss: {test_loss:.5f} | Test accuracy: {test_accuracy:.2f}%\")\n",
    "time_end = timer()\n",
    "\n",
    "print(f\"Total time taken: {time_end - time_start}\")"
   ],
   "id": "96d6551b2f990249",
   "outputs": [
    {
     "name": "stdout",
     "output_type": "stream",
     "text": [
      "Epoch 1/50 | Train loss: 0.02497 | Train accuracy: 0.05% | Test loss: 0.01947 | Test accuracy: 0.04%\n",
      "Epoch 2/50 | Train loss: 0.01946 | Train accuracy: 0.05% | Test loss: 0.01618 | Test accuracy: 0.04%\n",
      "Epoch 3/50 | Train loss: 0.01616 | Train accuracy: 0.05% | Test loss: 0.01323 | Test accuracy: 0.06%\n",
      "Epoch 4/50 | Train loss: 0.01344 | Train accuracy: 0.05% | Test loss: 0.01134 | Test accuracy: 0.06%\n",
      "Epoch 5/50 | Train loss: 0.01120 | Train accuracy: 0.05% | Test loss: 0.00999 | Test accuracy: 0.06%\n",
      "Epoch 6/50 | Train loss: 0.00935 | Train accuracy: 0.05% | Test loss: 0.00854 | Test accuracy: 0.07%\n",
      "Epoch 7/50 | Train loss: 0.00783 | Train accuracy: 0.05% | Test loss: 0.00762 | Test accuracy: 0.07%\n",
      "Epoch 8/50 | Train loss: 0.00656 | Train accuracy: 0.05% | Test loss: 0.00672 | Test accuracy: 0.09%\n",
      "Epoch 9/50 | Train loss: 0.00549 | Train accuracy: 0.05% | Test loss: 0.00607 | Test accuracy: 0.08%\n",
      "Epoch 10/50 | Train loss: 0.00458 | Train accuracy: 0.05% | Test loss: 0.00557 | Test accuracy: 0.09%\n",
      "Epoch 11/50 | Train loss: 0.00382 | Train accuracy: 0.06% | Test loss: 0.00517 | Test accuracy: 0.16%\n",
      "Epoch 12/50 | Train loss: 0.00319 | Train accuracy: 0.06% | Test loss: 0.00486 | Test accuracy: 0.22%\n",
      "Epoch 13/50 | Train loss: 0.00267 | Train accuracy: 0.06% | Test loss: 0.00471 | Test accuracy: 0.22%\n",
      "Epoch 14/50 | Train loss: 0.00224 | Train accuracy: 0.06% | Test loss: 0.00465 | Test accuracy: 0.20%\n",
      "Epoch 15/50 | Train loss: 0.00191 | Train accuracy: 0.06% | Test loss: 0.00458 | Test accuracy: 0.24%\n",
      "Epoch 16/50 | Train loss: 0.00168 | Train accuracy: 0.06% | Test loss: 0.00460 | Test accuracy: 0.26%\n",
      "Epoch 17/50 | Train loss: 0.00151 | Train accuracy: 0.06% | Test loss: 0.00453 | Test accuracy: 0.26%\n",
      "Epoch 18/50 | Train loss: 0.00137 | Train accuracy: 0.06% | Test loss: 0.00427 | Test accuracy: 0.27%\n",
      "Epoch 19/50 | Train loss: 0.00126 | Train accuracy: 0.06% | Test loss: 0.00446 | Test accuracy: 0.23%\n",
      "Epoch 20/50 | Train loss: 0.00118 | Train accuracy: 0.06% | Test loss: 0.00443 | Test accuracy: 0.20%\n",
      "Epoch 21/50 | Train loss: 0.00111 | Train accuracy: 0.06% | Test loss: 0.00441 | Test accuracy: 0.17%\n",
      "Epoch 22/50 | Train loss: 0.00106 | Train accuracy: 0.06% | Test loss: 0.00458 | Test accuracy: 0.18%\n",
      "Epoch 23/50 | Train loss: 0.00102 | Train accuracy: 0.06% | Test loss: 0.00475 | Test accuracy: 0.19%\n",
      "Epoch 24/50 | Train loss: 0.00099 | Train accuracy: 0.06% | Test loss: 0.00459 | Test accuracy: 0.24%\n",
      "Epoch 25/50 | Train loss: 0.00096 | Train accuracy: 0.06% | Test loss: 0.00459 | Test accuracy: 0.24%\n",
      "Epoch 26/50 | Train loss: 0.00094 | Train accuracy: 0.06% | Test loss: 0.00497 | Test accuracy: 0.32%\n",
      "Epoch 27/50 | Train loss: 0.00092 | Train accuracy: 0.06% | Test loss: 0.00483 | Test accuracy: 0.25%\n",
      "Epoch 28/50 | Train loss: 0.00091 | Train accuracy: 0.06% | Test loss: 0.00474 | Test accuracy: 0.31%\n",
      "Epoch 29/50 | Train loss: 0.00090 | Train accuracy: 0.06% | Test loss: 0.00468 | Test accuracy: 0.28%\n",
      "Epoch 30/50 | Train loss: 0.00088 | Train accuracy: 0.06% | Test loss: 0.00491 | Test accuracy: 0.31%\n",
      "Epoch 31/50 | Train loss: 0.00087 | Train accuracy: 0.06% | Test loss: 0.00497 | Test accuracy: 0.33%\n",
      "Epoch 32/50 | Train loss: 0.00087 | Train accuracy: 0.06% | Test loss: 0.00489 | Test accuracy: 0.32%\n",
      "Epoch 33/50 | Train loss: 0.00086 | Train accuracy: 0.06% | Test loss: 0.00481 | Test accuracy: 0.31%\n",
      "Epoch 34/50 | Train loss: 0.00085 | Train accuracy: 0.06% | Test loss: 0.00520 | Test accuracy: 0.36%\n",
      "Epoch 35/50 | Train loss: 0.00084 | Train accuracy: 0.06% | Test loss: 0.00493 | Test accuracy: 0.33%\n",
      "Epoch 36/50 | Train loss: 0.00083 | Train accuracy: 0.06% | Test loss: 0.00535 | Test accuracy: 0.26%\n",
      "Epoch 37/50 | Train loss: 0.00082 | Train accuracy: 0.06% | Test loss: 0.00518 | Test accuracy: 0.27%\n",
      "Epoch 38/50 | Train loss: 0.00081 | Train accuracy: 0.06% | Test loss: 0.00509 | Test accuracy: 0.28%\n",
      "Epoch 39/50 | Train loss: 0.00079 | Train accuracy: 0.06% | Test loss: 0.00486 | Test accuracy: 0.24%\n",
      "Epoch 40/50 | Train loss: 0.00079 | Train accuracy: 0.06% | Test loss: 0.00503 | Test accuracy: 0.22%\n",
      "Epoch 41/50 | Train loss: 0.00078 | Train accuracy: 0.06% | Test loss: 0.00590 | Test accuracy: 0.19%\n",
      "Epoch 42/50 | Train loss: 0.00077 | Train accuracy: 0.06% | Test loss: 0.00539 | Test accuracy: 0.18%\n",
      "Epoch 43/50 | Train loss: 0.00076 | Train accuracy: 0.06% | Test loss: 0.00502 | Test accuracy: 0.18%\n",
      "Epoch 44/50 | Train loss: 0.00075 | Train accuracy: 0.06% | Test loss: 0.00500 | Test accuracy: 0.29%\n",
      "Epoch 45/50 | Train loss: 0.00074 | Train accuracy: 0.06% | Test loss: 0.00541 | Test accuracy: 0.21%\n",
      "Epoch 46/50 | Train loss: 0.00073 | Train accuracy: 0.06% | Test loss: 0.00504 | Test accuracy: 0.22%\n",
      "Epoch 47/50 | Train loss: 0.00072 | Train accuracy: 0.06% | Test loss: 0.00533 | Test accuracy: 0.28%\n",
      "Epoch 48/50 | Train loss: 0.00071 | Train accuracy: 0.06% | Test loss: 0.00522 | Test accuracy: 0.29%\n",
      "Epoch 49/50 | Train loss: 0.00071 | Train accuracy: 0.06% | Test loss: 0.00504 | Test accuracy: 0.31%\n",
      "Epoch 50/50 | Train loss: 0.00070 | Train accuracy: 0.06% | Test loss: 0.00537 | Test accuracy: 0.25%\n",
      "Total time taken: 7630.333503726\n"
     ]
    }
   ],
   "execution_count": 8
  },
  {
   "metadata": {},
   "cell_type": "markdown",
   "source": "# Evaluate Model",
   "id": "12e02627456a3a8b"
  },
  {
   "metadata": {
    "ExecuteTime": {
     "end_time": "2024-08-05T18:58:42.436057Z",
     "start_time": "2024-08-05T18:58:41.692019Z"
    }
   },
   "cell_type": "code",
   "source": [
    "evaluations = 3\n",
    "\n",
    "evaluation_dataset = FewShotDataset(\n",
    "    dataset_dir=dataset_dir,\n",
    "    dataset_name='evaluation'\n",
    ")\n",
    "\n",
    "model.eval() # set model into evaluation mode\n",
    "with torch.inference_mode():\n",
    "    \n",
    "    for _ in range(evaluations):\n",
    "        X, y, _ = random.choice(evaluation_dataset)\n",
    "        X, y = X.to(device) / 10, y.to(device) / 10\n",
    "        \n",
    "        y_pred = model(X)[0]\n",
    "        y_pred_norm = norm_arc20204(y_pred)\n",
    "        \n",
    "        plot.input_and_output(X * 10, y * 10, y_pred_norm * 10)\n",
    "        accuracy_pred = accuracy_fn(y, y_pred_norm)\n",
    "        print(f\"Accuracy: {accuracy_pred:.2f}% ({int(accuracy_pred / 100 * 900)}/900)\")\n"
   ],
   "id": "14b6af5afe472c9e",
   "outputs": [
    {
     "data": {
      "text/plain": [
       "<Figure size 1920x1440 with 3 Axes>"
      ],
      "image/png": "[encoded data removed]"
     },
     "metadata": {},
     "output_type": "display_data"
    },
    {
     "name": "stdout",
     "output_type": "stream",
     "text": [
      "Accuracy: 1.67% (15/900)\n"
     ]
    },
    {
     "data": {
      "text/plain": [
       "<Figure size 1920x1440 with 3 Axes>"
      ],
      "image/png": "[encoded data removed]"
     },
     "metadata": {},
     "output_type": "display_data"
    },
    {
     "name": "stdout",
     "output_type": "stream",
     "text": [
      "Accuracy: 7.78% (70/900)\n"
     ]
    },
    {
     "data": {
      "text/plain": [
       "<Figure size 1920x1440 with 3 Axes>"
      ],
      "image/png": "[encoded data removed]"
     },
     "metadata": {},
     "output_type": "display_data"
    },
    {
     "name": "stdout",
     "output_type": "stream",
     "text": [
      "Accuracy: 12.89% (116/900)\n"
     ]
    }
   ],
   "execution_count": 11
  },
  {
   "metadata": {
    "ExecuteTime": {
     "end_time": "2024-08-05T16:36:29.279643Z",
     "start_time": "2024-08-05T16:36:29.277613Z"
    }
   },
   "cell_type": "code",
   "source": "",
   "id": "2db9dc3a233128c0",
   "outputs": [],
   "execution_count": 9
  }
 ],
 "metadata": {
  "kernelspec": {
   "display_name": "Python 3 (ipykernel)",
   "language": "python",
   "name": "python3"
  },
  "language_info": {
   "codemirror_mode": {
    "name": "ipython",
    "version": 3
   },
   "file_extension": ".py",
   "mimetype": "text/x-python",
   "name": "python",
   "nbconvert_exporter": "python",
   "pygments_lexer": "ipython3",
   "version": "3.12.4"
  }
 },
 "nbformat": 4,
 "nbformat_minor": 5
}
