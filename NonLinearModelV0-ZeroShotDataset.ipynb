{
 "cells": [
  {
   "metadata": {},
   "cell_type": "markdown",
   "source": [
    "# NonLinearModelV0 with ZeroShotDataset\n",
    "\n",
    "This notebook is an experimental approach on solving the ARC challenge. See https://arcprize.org/ for more details."
   ],
   "id": "2deab4fa4b404fd9"
  },
  {
   "cell_type": "code",
   "id": "469d911a-eb08-40db-9491-58582e0a5244",
   "metadata": {
    "ExecuteTime": {
     "end_time": "2024-08-04T09:33:41.680770Z",
     "start_time": "2024-08-04T09:33:40.450928Z"
    }
   },
   "source": [
    "import os\n",
    "import random\n",
    "\n",
    "import torch\n",
    "\n",
    "from pathlib import Path\n",
    "\n",
    "from arc2024.data import ZeroShotDataset\n",
    "from arc2024.utils import plot\n",
    "from arc2024.utils.calc import accuracy_fn, norm_arc20204\n",
    "from arc2024.models.non_linear import NonLinearModelV0"
   ],
   "outputs": [],
   "execution_count": 1
  },
  {
   "metadata": {},
   "cell_type": "markdown",
   "source": "# Setup Device Agnostic Environment",
   "id": "238e55441bbcf17a"
  },
  {
   "metadata": {
    "ExecuteTime": {
     "end_time": "2024-08-04T09:33:41.986013Z",
     "start_time": "2024-08-04T09:33:41.681631Z"
    }
   },
   "cell_type": "code",
   "source": [
    "import arc2024.utils.amdgpu as amd\n",
    "\n",
    "if amd.is_amdgpu_on_linux():\n",
    "    # Use ROCm on rx6600/6600xt by setting the environment variable HSA_OVERRIDE_GFX_VERSION to \"10.3.0\"\n",
    "    # Source: https://github.com/ROCm/ROCm/issues/1698#issuecomment-1261646854\n",
    "    amd.setup_amdgpu_environment(\n",
    "        hsa_override_gfx_version=\"10.3.0\"\n",
    "    )\n",
    "\n",
    "device = torch.device('cuda' if torch.cuda.is_available() else 'cpu')\n",
    "device"
   ],
   "id": "564e0858a54fdba8",
   "outputs": [
    {
     "data": {
      "text/plain": [
       "device(type='cuda')"
      ]
     },
     "execution_count": 2,
     "metadata": {},
     "output_type": "execute_result"
    }
   ],
   "execution_count": 2
  },
  {
   "metadata": {},
   "cell_type": "markdown",
   "source": "## Prepare Datasets and DataLoaders",
   "id": "e1d56ce2d680401c"
  },
  {
   "metadata": {
    "ExecuteTime": {
     "end_time": "2024-08-04T09:33:44.516817Z",
     "start_time": "2024-08-04T09:33:41.987010Z"
    }
   },
   "cell_type": "code",
   "source": [
    "dataset_dir = Path('datasets')\n",
    "\n",
    "BATCH_SIZE = 32\n",
    "NUM_WORKERS = os.cpu_count()\n",
    "\n",
    "train_dataset = ZeroShotDataset(\n",
    "    dataset_dir=dataset_dir,\n",
    "    dataset_name='training',\n",
    "    mode='train',\n",
    "    permutations=True\n",
    ")\n",
    "train_dataloader = torch.utils.data.DataLoader(\n",
    "    dataset=train_dataset,\n",
    "    batch_size=BATCH_SIZE,\n",
    "    shuffle=True,\n",
    "    num_workers=NUM_WORKERS\n",
    ")\n",
    "\n",
    "test_dataset = ZeroShotDataset(\n",
    "    dataset_dir=dataset_dir,\n",
    "    dataset_name='training',\n",
    "    mode='test'\n",
    ")\n",
    "test_dataloader = torch.utils.data.DataLoader(\n",
    "    dataset=test_dataset,\n",
    "    batch_size=BATCH_SIZE,\n",
    "    shuffle=True,\n",
    "    num_workers=NUM_WORKERS\n",
    ")"
   ],
   "id": "bb2cae609fdde826",
   "outputs": [],
   "execution_count": 3
  },
  {
   "metadata": {},
   "cell_type": "markdown",
   "source": "## Train Model",
   "id": "2177ae9236464708"
  },
  {
   "metadata": {
    "ExecuteTime": {
     "end_time": "2024-08-04T09:33:44.736130Z",
     "start_time": "2024-08-04T09:33:44.518047Z"
    }
   },
   "cell_type": "code",
   "source": [
    "model = NonLinearModelV0(\n",
    "    in_features=900, # 30x30\n",
    "    hidden_features=600, # do some compression\n",
    "    out_features=900\n",
    ").to(device)\n",
    "model"
   ],
   "id": "3f0a32b80655a8ce",
   "outputs": [
    {
     "data": {
      "text/plain": [
       "NonLinearModelV0(\n",
       "  (flatten): Flatten(start_dim=1, end_dim=-1)\n",
       "  (linear1): Linear(in_features=900, out_features=600, bias=True)\n",
       "  (relu1): ReLU()\n",
       "  (linear2): Linear(in_features=600, out_features=900, bias=True)\n",
       "  (relu2): ReLU()\n",
       "  (unflatten): Unflatten(dim=1, unflattened_size=(1, 30, 30))\n",
       ")"
      ]
     },
     "execution_count": 4,
     "metadata": {},
     "output_type": "execute_result"
    }
   ],
   "execution_count": 4
  },
  {
   "metadata": {},
   "cell_type": "markdown",
   "source": "### Verify Input and Output Shapes with Random Tensor",
   "id": "73ba81c9ca21ee99"
  },
  {
   "metadata": {
    "ExecuteTime": {
     "end_time": "2024-08-04T09:33:44.879480Z",
     "start_time": "2024-08-04T09:33:44.736912Z"
    }
   },
   "cell_type": "code",
   "source": [
    "x = torch.rand([1, 30, 30]).to(device)\n",
    "model(x).shape"
   ],
   "id": "e1b7befceacdb2e",
   "outputs": [
    {
     "data": {
      "text/plain": [
       "torch.Size([1, 1, 30, 30])"
      ]
     },
     "execution_count": 5,
     "metadata": {},
     "output_type": "execute_result"
    }
   ],
   "execution_count": 5
  },
  {
   "metadata": {
    "ExecuteTime": {
     "end_time": "2024-08-04T09:33:44.973139Z",
     "start_time": "2024-08-04T09:33:44.880392Z"
    }
   },
   "cell_type": "code",
   "source": [
    "X, y = train_dataset[0]\n",
    "X = X.to(device) / 10\n",
    "y = y.to(device) / 10\n",
    "\n",
    "y_pred = model(X)\n",
    "y_pred, y_pred.shape"
   ],
   "id": "c490ced35ddd64a0",
   "outputs": [
    {
     "data": {
      "text/plain": [
       "(tensor([[[[0.1069, 0.3854, 0.0000, 0.4098, 0.1210, 0.0000, 0.1562, 0.0807,\n",
       "            0.2272, 0.0000, 0.0000, 0.1914, 0.0000, 0.5827, 0.0000, 0.0313,\n",
       "            0.1255, 0.2811, 0.0000, 0.0000, 0.5345, 0.3176, 0.2530, 0.0444,\n",
       "            0.2838, 0.0843, 0.1334, 0.0000, 0.0000, 0.0000],\n",
       "           [0.0000, 0.2763, 0.0000, 0.0000, 0.2061, 0.0761, 0.1901, 0.3553,\n",
       "            0.0000, 0.2457, 0.0477, 0.2781, 0.1769, 0.1261, 0.0000, 0.3497,\n",
       "            0.0000, 0.0081, 0.0000, 0.0000, 0.0753, 0.3014, 0.1546, 0.1666,\n",
       "            0.2409, 0.0000, 0.0022, 0.1400, 0.0000, 0.2593],\n",
       "           [0.2746, 0.3671, 0.0000, 0.0832, 0.4587, 0.0000, 0.0000, 0.0000,\n",
       "            0.0000, 0.1088, 0.1320, 0.0000, 0.0000, 0.0000, 0.0000, 0.0000,\n",
       "            0.1718, 0.0137, 0.0464, 0.0000, 0.2380, 0.0391, 0.2222, 0.0000,\n",
       "            0.0283, 0.0000, 0.0000, 0.5568, 0.0000, 0.2862],\n",
       "           [0.0000, 0.3417, 0.0935, 0.1690, 0.2056, 0.0000, 0.0000, 0.2071,\n",
       "            0.2083, 0.4023, 0.0000, 0.0365, 0.0938, 0.0000, 0.3004, 0.1553,\n",
       "            0.0000, 0.4344, 0.2181, 0.3251, 0.0545, 0.0860, 0.1690, 0.0000,\n",
       "            0.0555, 0.0000, 0.0176, 0.2312, 0.0000, 0.0112],\n",
       "           [0.0000, 0.2758, 0.1447, 0.0000, 0.0000, 0.0000, 0.0928, 0.0000,\n",
       "            0.3854, 0.0000, 0.0000, 0.0000, 0.0000, 0.4381, 0.0000, 0.2024,\n",
       "            0.0000, 0.7054, 0.0000, 0.0000, 0.0000, 0.0000, 0.1129, 0.0000,\n",
       "            0.0000, 0.0000, 0.1208, 0.2709, 0.1249, 0.0752],\n",
       "           [0.0204, 0.0000, 0.0075, 0.0000, 0.0000, 0.0000, 0.0160, 0.1322,\n",
       "            0.0000, 0.2647, 0.0000, 0.0000, 0.0000, 0.0000, 0.0900, 0.0000,\n",
       "            0.3547, 0.0363, 0.0000, 0.2067, 0.0000, 0.0000, 0.0000, 0.2997,\n",
       "            0.0000, 0.1712, 0.0000, 0.0000, 0.0000, 0.0000],\n",
       "           [0.2251, 0.1487, 0.0000, 0.0000, 0.0000, 0.0000, 0.0000, 0.0000,\n",
       "            0.2810, 0.0000, 0.0000, 0.0000, 0.0000, 0.0000, 0.0263, 0.0000,\n",
       "            0.3021, 0.0000, 0.0000, 0.0000, 0.0000, 0.0000, 0.1528, 0.3193,\n",
       "            0.0000, 0.0000, 0.0000, 0.0000, 0.0000, 0.1967],\n",
       "           [0.0000, 0.0000, 0.0441, 0.1161, 0.1120, 0.0000, 0.0669, 0.2587,\n",
       "            0.0000, 0.4029, 0.0290, 0.0000, 0.0000, 0.0000, 0.0000, 0.0000,\n",
       "            0.3373, 0.1186, 0.1874, 0.3113, 0.0000, 0.0000, 0.0000, 0.0000,\n",
       "            0.3422, 0.0576, 0.2651, 0.0000, 0.0000, 0.1897],\n",
       "           [0.0452, 0.3375, 0.0077, 0.0000, 0.0000, 0.6085, 0.0000, 0.2972,\n",
       "            0.0000, 0.0000, 0.0000, 0.2295, 0.0572, 0.0000, 0.0000, 0.6175,\n",
       "            0.0000, 0.2716, 0.2421, 0.0000, 0.2352, 0.0000, 0.2798, 0.0195,\n",
       "            0.0000, 0.2302, 0.0000, 0.0000, 0.2839, 0.0000],\n",
       "           [0.0000, 0.0471, 0.2085, 0.0000, 0.0000, 0.5260, 0.0421, 0.0000,\n",
       "            0.0000, 0.0679, 0.0000, 0.0000, 0.1368, 0.0000, 0.0000, 0.0591,\n",
       "            0.3583, 0.0740, 0.0000, 0.0000, 0.2967, 0.0102, 0.1232, 0.0000,\n",
       "            0.0000, 0.2151, 0.3213, 0.0129, 0.3830, 0.1422],\n",
       "           [0.0460, 0.0493, 0.0000, 0.0000, 0.0000, 0.1363, 0.1540, 0.0000,\n",
       "            0.0000, 0.0000, 0.3298, 0.0000, 0.0000, 0.0000, 0.3099, 0.0178,\n",
       "            0.0252, 0.0000, 0.0185, 0.1682, 0.0000, 0.0000, 0.0000, 0.0346,\n",
       "            0.0000, 0.0000, 0.0885, 0.0000, 0.0000, 0.0000],\n",
       "           [0.0000, 0.0000, 0.1425, 0.0000, 0.1609, 0.0000, 0.2285, 0.1729,\n",
       "            0.1161, 0.2613, 0.0000, 0.0000, 0.2819, 0.2607, 0.1536, 0.2939,\n",
       "            0.0000, 0.0000, 0.0000, 0.0000, 0.0000, 0.1744, 0.0961, 0.0000,\n",
       "            0.3811, 0.0000, 0.0000, 0.4320, 0.2003, 0.0000],\n",
       "           [0.2136, 0.0227, 0.0000, 0.0000, 0.1689, 0.3085, 0.0000, 0.0000,\n",
       "            0.0000, 0.1201, 0.0642, 0.1867, 0.2945, 0.0000, 0.2676, 0.4203,\n",
       "            0.0000, 0.0800, 0.0000, 0.2351, 0.5307, 0.0000, 0.0000, 0.0000,\n",
       "            0.0000, 0.0000, 0.0000, 0.0000, 0.3634, 0.0000],\n",
       "           [0.2531, 0.0000, 0.0000, 0.0000, 0.0000, 0.0000, 0.0000, 0.0000,\n",
       "            0.0000, 0.0000, 0.0000, 0.0000, 0.0000, 0.0000, 0.1643, 0.0634,\n",
       "            0.0000, 0.0000, 0.0259, 0.2332, 0.0000, 0.0000, 0.0000, 0.0490,\n",
       "            0.2479, 0.2228, 0.0000, 0.1558, 0.0000, 0.0000],\n",
       "           [0.0000, 0.0864, 0.0000, 0.0974, 0.0000, 0.3465, 0.0000, 0.4702,\n",
       "            0.0000, 0.0000, 0.0239, 0.0000, 0.0000, 0.1660, 0.0000, 0.0000,\n",
       "            0.2266, 0.0000, 0.0000, 0.0933, 0.2717, 0.0842, 0.0000, 0.2994,\n",
       "            0.0000, 0.3144, 0.0201, 0.0000, 0.0000, 0.0000],\n",
       "           [0.1875, 0.0000, 0.0000, 0.0000, 0.0000, 0.0000, 0.2449, 0.0000,\n",
       "            0.0000, 0.0000, 0.0000, 0.3896, 0.2998, 0.0000, 0.1648, 0.0000,\n",
       "            0.0435, 0.2157, 0.0000, 0.0000, 0.3366, 0.1919, 0.0000, 0.0054,\n",
       "            0.0000, 0.0000, 0.0000, 0.1542, 0.0000, 0.0000],\n",
       "           [0.1280, 0.0000, 0.3263, 0.3304, 0.0000, 0.1926, 0.4009, 0.0269,\n",
       "            0.1549, 0.0000, 0.0000, 0.0054, 0.1834, 0.0827, 0.0891, 0.0000,\n",
       "            0.0000, 0.3560, 0.0414, 0.0904, 0.0000, 0.0000, 0.0000, 0.0000,\n",
       "            0.1159, 0.3112, 0.0696, 0.0663, 0.0374, 0.0000],\n",
       "           [0.1029, 0.0000, 0.0000, 0.0000, 0.0000, 0.0288, 0.0000, 0.2155,\n",
       "            0.0000, 0.0540, 0.1759, 0.1057, 0.0000, 0.0015, 0.1133, 0.0000,\n",
       "            0.0260, 0.1417, 0.0000, 0.1574, 0.0000, 0.0000, 0.0000, 0.0029,\n",
       "            0.3595, 0.0000, 0.0076, 0.1471, 0.1395, 0.2644],\n",
       "           [0.0000, 0.0000, 0.1075, 0.0000, 0.3667, 0.2962, 0.0000, 0.1471,\n",
       "            0.0938, 0.0772, 0.1369, 0.1025, 0.3603, 0.0596, 0.0000, 0.0000,\n",
       "            0.0000, 0.1894, 0.3208, 0.0000, 0.1246, 0.0725, 0.0361, 0.0000,\n",
       "            0.0000, 0.0000, 0.0000, 0.0000, 0.1150, 0.0000],\n",
       "           [0.0000, 0.2953, 0.3233, 0.0000, 0.0000, 0.2238, 0.0000, 0.0000,\n",
       "            0.0000, 0.0000, 0.0000, 0.0000, 0.0000, 0.0000, 0.0000, 0.0000,\n",
       "            0.3523, 0.1771, 0.0000, 0.0888, 0.0000, 0.0000, 0.0000, 0.0167,\n",
       "            0.0293, 0.0000, 0.0000, 0.1969, 0.3189, 0.0000],\n",
       "           [0.1584, 0.2898, 0.0000, 0.0000, 0.1343, 0.0000, 0.0000, 0.0000,\n",
       "            0.0000, 0.0246, 0.1702, 0.1507, 0.1614, 0.0000, 0.0000, 0.1017,\n",
       "            0.0000, 0.0000, 0.0000, 0.0014, 0.0000, 0.0781, 0.2494, 0.0000,\n",
       "            0.0000, 0.0416, 0.1929, 0.0513, 0.0000, 0.0000],\n",
       "           [0.5730, 0.0000, 0.0983, 0.0443, 0.1808, 0.0000, 0.0462, 0.0000,\n",
       "            0.3809, 0.2689, 0.0000, 0.0000, 0.0000, 0.0328, 0.0930, 0.0989,\n",
       "            0.1764, 0.0000, 0.3074, 0.1876, 0.0000, 0.0000, 0.0000, 0.0000,\n",
       "            0.0000, 0.0000, 0.0395, 0.0000, 0.0000, 0.0000],\n",
       "           [0.0000, 0.3513, 0.0000, 0.0000, 0.1398, 0.3124, 0.0806, 0.0000,\n",
       "            0.0000, 0.1112, 0.0000, 0.0000, 0.0000, 0.0000, 0.1087, 0.0835,\n",
       "            0.0669, 0.0000, 0.0000, 0.0000, 0.1129, 0.0000, 0.0000, 0.1552,\n",
       "            0.0000, 0.2243, 0.0000, 0.0894, 0.2449, 0.0164],\n",
       "           [0.0000, 0.1959, 0.0000, 0.1328, 0.0674, 0.3662, 0.0000, 0.2149,\n",
       "            0.0000, 0.1989, 0.0000, 0.0000, 0.4541, 0.0000, 0.0000, 0.0310,\n",
       "            0.4432, 0.1531, 0.0000, 0.0518, 0.0000, 0.0000, 0.0900, 0.1409,\n",
       "            0.1409, 0.0180, 0.2185, 0.0483, 0.0194, 0.0000],\n",
       "           [0.0000, 0.0000, 0.0000, 0.0000, 0.2245, 0.0000, 0.5006, 0.0000,\n",
       "            0.0864, 0.0000, 0.0000, 0.3003, 0.0000, 0.0000, 0.2718, 0.1991,\n",
       "            0.0000, 0.0000, 0.1294, 0.3331, 0.2824, 0.0000, 0.1604, 0.0000,\n",
       "            0.0000, 0.0000, 0.0000, 0.0000, 0.4934, 0.0000],\n",
       "           [0.0000, 0.0000, 0.0000, 0.0000, 0.0000, 0.0000, 0.1018, 0.0000,\n",
       "            0.3553, 0.0000, 0.0000, 0.4382, 0.1262, 0.1914, 0.1061, 0.0000,\n",
       "            0.0000, 0.0000, 0.3322, 0.0000, 0.0000, 0.0000, 0.0000, 0.0000,\n",
       "            0.0000, 0.0000, 0.0924, 0.0731, 0.0750, 0.2170],\n",
       "           [0.0000, 0.0000, 0.0000, 0.0768, 0.1685, 0.0184, 0.1372, 0.0565,\n",
       "            0.1764, 0.1446, 0.0000, 0.0000, 0.4081, 0.0553, 0.1638, 0.0000,\n",
       "            0.0778, 0.0000, 0.0000, 0.1381, 0.2356, 0.1702, 0.0000, 0.0294,\n",
       "            0.0000, 0.0000, 0.0256, 0.1976, 0.0000, 0.0000],\n",
       "           [0.0000, 0.0803, 0.3405, 0.0000, 0.0517, 0.0000, 0.0811, 0.0000,\n",
       "            0.0000, 0.0000, 0.1289, 0.1761, 0.0000, 0.4305, 0.4496, 0.2233,\n",
       "            0.2829, 0.0000, 0.0559, 0.0000, 0.2423, 0.0223, 0.0000, 0.0000,\n",
       "            0.0000, 0.0791, 0.0000, 0.0000, 0.0000, 0.1046],\n",
       "           [0.4485, 0.0000, 0.0000, 0.1945, 0.0000, 0.0000, 0.0000, 0.0000,\n",
       "            0.0000, 0.0000, 0.1965, 0.1175, 0.0835, 0.0000, 0.0000, 0.0000,\n",
       "            0.0000, 0.0000, 0.0000, 0.0000, 0.2150, 0.0000, 0.0000, 0.0000,\n",
       "            0.2141, 0.0278, 0.0000, 0.0210, 0.2043, 0.0128],\n",
       "           [0.1295, 0.1480, 0.0000, 0.4081, 0.2133, 0.0000, 0.0000, 0.0765,\n",
       "            0.0548, 0.0000, 0.0000, 0.1231, 0.3898, 0.2485, 0.2509, 0.0000,\n",
       "            0.1164, 0.0011, 0.1355, 0.0000, 0.0000, 0.0293, 0.0000, 0.0000,\n",
       "            0.2188, 0.0000, 0.0000, 0.0000, 0.0660, 0.0000]]]], device='cuda:0',\n",
       "        grad_fn=<ViewBackward0>),\n",
       " torch.Size([1, 1, 30, 30]))"
      ]
     },
     "execution_count": 6,
     "metadata": {},
     "output_type": "execute_result"
    }
   ],
   "execution_count": 6
  },
  {
   "metadata": {},
   "cell_type": "markdown",
   "source": "### Setup Loss, optimizer and evaluation metrics",
   "id": "eee172db70a38518"
  },
  {
   "metadata": {
    "ExecuteTime": {
     "end_time": "2024-08-04T09:33:45.388608Z",
     "start_time": "2024-08-04T09:33:44.974Z"
    }
   },
   "cell_type": "code",
   "source": [
    "loss_fn = torch.nn.MSELoss()\n",
    "optimizer = torch.optim.SGD(params=model.parameters(), lr=0.01)"
   ],
   "id": "1ce92989eac86aa2",
   "outputs": [],
   "execution_count": 7
  },
  {
   "metadata": {},
   "cell_type": "markdown",
   "source": "### Run Training Loop",
   "id": "518300e154e22dd8"
  },
  {
   "metadata": {
    "ExecuteTime": {
     "end_time": "2024-08-04T09:34:48.910372Z",
     "start_time": "2024-08-04T09:33:45.389458Z"
    }
   },
   "cell_type": "code",
   "source": [
    "from timeit import default_timer as timer \n",
    "\n",
    "epochs = 50\n",
    "\n",
    "time_start = timer()\n",
    "for epoch in range(epochs):\n",
    "    ### Training\n",
    "    train_loss = 0\n",
    "    train_accuracy = 0\n",
    "\n",
    "    model.train() # Set model into training mode\n",
    "    \n",
    "    for b, (X_train, y_train) in enumerate(train_dataloader):\n",
    "        # Send to device and normalize:\n",
    "        X_train, y_train = X_train.to(device) / 10, y_train.to(device) / 10\n",
    "        \n",
    "        # Forward pass:\n",
    "        train_pred = model(X_train)\n",
    "        \n",
    "        # Calculate loss:\n",
    "        loss = loss_fn(train_pred, y_train)\n",
    "        train_loss += loss\n",
    "        train_accuracy += accuracy_fn(y_train, norm_arc20204(train_pred))\n",
    "        \n",
    "        # Reset optimizer gradients:\n",
    "        optimizer.zero_grad()\n",
    "        \n",
    "        # Backward pass:\n",
    "        loss.backward()\n",
    "        \n",
    "        # Adjust parameters:\n",
    "        optimizer.step()\n",
    "\n",
    "    train_loss /= len(train_dataloader.dataset)\n",
    "    train_accuracy /= len(train_dataloader.dataset)\n",
    "    \n",
    "    ### Testing\n",
    "    test_loss = 0\n",
    "    test_accuracy = 0\n",
    "    model.eval() # set model into evaluation mode\n",
    "\n",
    "    with torch.inference_mode():\n",
    "        for X_test, y_test in test_dataloader:\n",
    "            # Send to device and normalize:\n",
    "            X_test, y_test = X_test.to(device) / 10, y_test.to(device) / 10\n",
    "\n",
    "            # Forward pass:\n",
    "            test_pred = model(X_test)\n",
    "\n",
    "            # Calculate loss:\n",
    "            loss = loss_fn(test_pred, y_test)\n",
    "            test_loss += loss\n",
    "            test_accuracy += accuracy_fn(y_test, norm_arc20204(test_pred))\n",
    "    \n",
    "        test_loss /= len(test_dataloader.dataset)\n",
    "        test_accuracy /= len(test_dataloader.dataset)\n",
    "    \n",
    "    print(f\"Epoch {epoch + 1}/{epochs} | Train loss: {train_loss:.5f} | Train accuracy: {train_accuracy:.2f}% | Test loss: {test_loss:.5f} | Test accuracy: {test_accuracy:.2f}%\")\n",
    "time_end = timer()\n",
    "\n",
    "print(f\"Total time taken: {time_end - time_start}\")"
   ],
   "id": "96d6551b2f990249",
   "outputs": [
    {
     "name": "stdout",
     "output_type": "stream",
     "text": [
      "Epoch 1/50 | Train loss: 0.01399 | Train accuracy: 0.05% | Test loss: 0.01176 | Test accuracy: 0.12%\n",
      "Epoch 2/50 | Train loss: 0.01148 | Train accuracy: 0.09% | Test loss: 0.01137 | Test accuracy: 0.12%\n",
      "Epoch 3/50 | Train loss: 0.01119 | Train accuracy: 0.10% | Test loss: 0.01126 | Test accuracy: 0.12%\n",
      "Epoch 4/50 | Train loss: 0.01112 | Train accuracy: 0.11% | Test loss: 0.01119 | Test accuracy: 0.13%\n",
      "Epoch 5/50 | Train loss: 0.01105 | Train accuracy: 0.11% | Test loss: 0.01112 | Test accuracy: 0.12%\n",
      "Epoch 6/50 | Train loss: 0.01101 | Train accuracy: 0.11% | Test loss: 0.01111 | Test accuracy: 0.13%\n",
      "Epoch 7/50 | Train loss: 0.01100 | Train accuracy: 0.11% | Test loss: 0.01107 | Test accuracy: 0.13%\n",
      "Epoch 8/50 | Train loss: 0.01094 | Train accuracy: 0.11% | Test loss: 0.01102 | Test accuracy: 0.14%\n",
      "Epoch 9/50 | Train loss: 0.01090 | Train accuracy: 0.10% | Test loss: 0.01092 | Test accuracy: 0.13%\n",
      "Epoch 10/50 | Train loss: 0.01078 | Train accuracy: 0.10% | Test loss: 0.01084 | Test accuracy: 0.14%\n",
      "Epoch 11/50 | Train loss: 0.01072 | Train accuracy: 0.09% | Test loss: 0.01077 | Test accuracy: 0.13%\n",
      "Epoch 12/50 | Train loss: 0.01065 | Train accuracy: 0.09% | Test loss: 0.01070 | Test accuracy: 0.13%\n",
      "Epoch 13/50 | Train loss: 0.01061 | Train accuracy: 0.09% | Test loss: 0.01069 | Test accuracy: 0.13%\n",
      "Epoch 14/50 | Train loss: 0.01059 | Train accuracy: 0.08% | Test loss: 0.01065 | Test accuracy: 0.13%\n",
      "Epoch 15/50 | Train loss: 0.01054 | Train accuracy: 0.08% | Test loss: 0.01062 | Test accuracy: 0.12%\n",
      "Epoch 16/50 | Train loss: 0.01048 | Train accuracy: 0.08% | Test loss: 0.01052 | Test accuracy: 0.12%\n",
      "Epoch 17/50 | Train loss: 0.01041 | Train accuracy: 0.07% | Test loss: 0.01051 | Test accuracy: 0.12%\n",
      "Epoch 18/50 | Train loss: 0.01038 | Train accuracy: 0.07% | Test loss: 0.01047 | Test accuracy: 0.12%\n",
      "Epoch 19/50 | Train loss: 0.01034 | Train accuracy: 0.06% | Test loss: 0.01042 | Test accuracy: 0.12%\n",
      "Epoch 20/50 | Train loss: 0.01032 | Train accuracy: 0.06% | Test loss: 0.01037 | Test accuracy: 0.12%\n",
      "Epoch 21/50 | Train loss: 0.01025 | Train accuracy: 0.06% | Test loss: 0.01031 | Test accuracy: 0.11%\n",
      "Epoch 22/50 | Train loss: 0.01018 | Train accuracy: 0.06% | Test loss: 0.01026 | Test accuracy: 0.11%\n",
      "Epoch 23/50 | Train loss: 0.01016 | Train accuracy: 0.05% | Test loss: 0.01022 | Test accuracy: 0.11%\n",
      "Epoch 24/50 | Train loss: 0.01008 | Train accuracy: 0.05% | Test loss: 0.01015 | Test accuracy: 0.11%\n",
      "Epoch 25/50 | Train loss: 0.01006 | Train accuracy: 0.05% | Test loss: 0.01013 | Test accuracy: 0.11%\n",
      "Epoch 26/50 | Train loss: 0.01003 | Train accuracy: 0.05% | Test loss: 0.01008 | Test accuracy: 0.11%\n",
      "Epoch 27/50 | Train loss: 0.00999 | Train accuracy: 0.05% | Test loss: 0.01008 | Test accuracy: 0.11%\n",
      "Epoch 28/50 | Train loss: 0.00999 | Train accuracy: 0.05% | Test loss: 0.01007 | Test accuracy: 0.11%\n",
      "Epoch 29/50 | Train loss: 0.00999 | Train accuracy: 0.05% | Test loss: 0.01005 | Test accuracy: 0.11%\n",
      "Epoch 30/50 | Train loss: 0.00990 | Train accuracy: 0.05% | Test loss: 0.00996 | Test accuracy: 0.11%\n",
      "Epoch 31/50 | Train loss: 0.00987 | Train accuracy: 0.05% | Test loss: 0.00996 | Test accuracy: 0.11%\n",
      "Epoch 32/50 | Train loss: 0.00986 | Train accuracy: 0.05% | Test loss: 0.00992 | Test accuracy: 0.11%\n",
      "Epoch 33/50 | Train loss: 0.00982 | Train accuracy: 0.05% | Test loss: 0.00988 | Test accuracy: 0.11%\n",
      "Epoch 34/50 | Train loss: 0.00979 | Train accuracy: 0.05% | Test loss: 0.00987 | Test accuracy: 0.11%\n",
      "Epoch 35/50 | Train loss: 0.00978 | Train accuracy: 0.05% | Test loss: 0.00984 | Test accuracy: 0.10%\n",
      "Epoch 36/50 | Train loss: 0.00976 | Train accuracy: 0.05% | Test loss: 0.00980 | Test accuracy: 0.11%\n",
      "Epoch 37/50 | Train loss: 0.00971 | Train accuracy: 0.05% | Test loss: 0.00977 | Test accuracy: 0.11%\n",
      "Epoch 38/50 | Train loss: 0.00969 | Train accuracy: 0.05% | Test loss: 0.00976 | Test accuracy: 0.11%\n",
      "Epoch 39/50 | Train loss: 0.00967 | Train accuracy: 0.05% | Test loss: 0.00972 | Test accuracy: 0.11%\n",
      "Epoch 40/50 | Train loss: 0.00964 | Train accuracy: 0.05% | Test loss: 0.00964 | Test accuracy: 0.11%\n",
      "Epoch 41/50 | Train loss: 0.00954 | Train accuracy: 0.05% | Test loss: 0.00956 | Test accuracy: 0.10%\n",
      "Epoch 42/50 | Train loss: 0.00945 | Train accuracy: 0.05% | Test loss: 0.00948 | Test accuracy: 0.10%\n",
      "Epoch 43/50 | Train loss: 0.00937 | Train accuracy: 0.05% | Test loss: 0.00943 | Test accuracy: 0.10%\n",
      "Epoch 44/50 | Train loss: 0.00935 | Train accuracy: 0.05% | Test loss: 0.00943 | Test accuracy: 0.10%\n",
      "Epoch 45/50 | Train loss: 0.00935 | Train accuracy: 0.05% | Test loss: 0.00942 | Test accuracy: 0.10%\n",
      "Epoch 46/50 | Train loss: 0.00934 | Train accuracy: 0.05% | Test loss: 0.00938 | Test accuracy: 0.11%\n",
      "Epoch 47/50 | Train loss: 0.00930 | Train accuracy: 0.05% | Test loss: 0.00932 | Test accuracy: 0.10%\n",
      "Epoch 48/50 | Train loss: 0.00925 | Train accuracy: 0.05% | Test loss: 0.00931 | Test accuracy: 0.10%\n",
      "Epoch 49/50 | Train loss: 0.00923 | Train accuracy: 0.05% | Test loss: 0.00927 | Test accuracy: 0.11%\n",
      "Epoch 50/50 | Train loss: 0.00921 | Train accuracy: 0.05% | Test loss: 0.00927 | Test accuracy: 0.11%\n",
      "Total time taken: 63.516027427000154\n"
     ]
    }
   ],
   "execution_count": 8
  },
  {
   "metadata": {},
   "cell_type": "markdown",
   "source": "# Evaluate Model",
   "id": "12e02627456a3a8b"
  },
  {
   "metadata": {
    "ExecuteTime": {
     "end_time": "2024-08-04T09:35:48.536919Z",
     "start_time": "2024-08-04T09:35:48.088225Z"
    }
   },
   "cell_type": "code",
   "source": [
    "evaluations = 3\n",
    "\n",
    "evaluation_dataset = ZeroShotDataset(\n",
    "    dataset_dir=dataset_dir,\n",
    "    dataset_name='evaluation',\n",
    "    mode='test'\n",
    ")\n",
    "\n",
    "model.eval() # set model into evaluation mode\n",
    "with torch.inference_mode():\n",
    "    \n",
    "    for _ in range(evaluations):\n",
    "        X, y = random.choice(evaluation_dataset)\n",
    "        X, y = X.to(device) / 10, y.to(device) / 10\n",
    "        \n",
    "        y_pred = model(X)[0]\n",
    "        y_pred_norm = norm_arc20204(y_pred)\n",
    "        \n",
    "        plot.input_and_output(X * 10, y * 10, y_pred_norm * 10)\n",
    "        accuracy_pred = accuracy_fn(y, y_pred_norm)\n",
    "        print(f\"Accuracy: {accuracy_pred:.2f}% ({int(accuracy_pred / 100 * 900)}/900)\")\n"
   ],
   "id": "14b6af5afe472c9e",
   "outputs": [
    {
     "data": {
      "text/plain": [
       "<Figure size 1920x1440 with 3 Axes>"
      ],
      "image/png": "[encoded data removed]"
     },
     "metadata": {},
     "output_type": "display_data"
    },
    {
     "name": "stdout",
     "output_type": "stream",
     "text": [
      "Accuracy: 0.56% (5/900)\n"
     ]
    },
    {
     "data": {
      "text/plain": [
       "<Figure size 1920x1440 with 3 Axes>"
      ],
      "image/png": "[encoded data removed]"
     },
     "metadata": {},
     "output_type": "display_data"
    },
    {
     "name": "stdout",
     "output_type": "stream",
     "text": [
      "Accuracy: 16.89% (152/900)\n"
     ]
    },
    {
     "data": {
      "text/plain": [
       "<Figure size 1920x1440 with 3 Axes>"
      ],
      "image/png": "[encoded data removed]"
     },
     "metadata": {},
     "output_type": "display_data"
    },
    {
     "name": "stdout",
     "output_type": "stream",
     "text": [
      "Accuracy: 7.78% (70/900)\n"
     ]
    }
   ],
   "execution_count": 11
  },
  {
   "metadata": {
    "ExecuteTime": {
     "end_time": "2024-08-04T09:34:49.609439Z",
     "start_time": "2024-08-04T09:34:49.605707Z"
    }
   },
   "cell_type": "code",
   "source": "",
   "id": "283bc873102e917a",
   "outputs": [],
   "execution_count": 9
  }
 ],
 "metadata": {
  "kernelspec": {
   "display_name": "Python 3 (ipykernel)",
   "language": "python",
   "name": "python3"
  },
  "language_info": {
   "codemirror_mode": {
    "name": "ipython",
    "version": 3
   },
   "file_extension": ".py",
   "mimetype": "text/x-python",
   "name": "python",
   "nbconvert_exporter": "python",
   "pygments_lexer": "ipython3",
   "version": "3.12.4"
  }
 },
 "nbformat": 4,
 "nbformat_minor": 5
}
