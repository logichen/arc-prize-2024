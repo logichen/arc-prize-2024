{
 "cells": [
  {
   "metadata": {},
   "cell_type": "markdown",
   "source": [
    "# LinearModelV0 with FewShotDataset\n",
    "\n",
    "This notebook is an experimental approach on solving the ARC challenge. See https://arcprize.org/ for more details."
   ],
   "id": "2deab4fa4b404fd9"
  },
  {
   "cell_type": "code",
   "id": "469d911a-eb08-40db-9491-58582e0a5244",
   "metadata": {
    "ExecuteTime": {
     "end_time": "2024-08-05T13:12:17.600899Z",
     "start_time": "2024-08-05T13:12:16.335485Z"
    }
   },
   "source": [
    "import os\n",
    "import random\n",
    "\n",
    "import torch\n",
    "\n",
    "from pathlib import Path\n",
    "\n",
    "from arc2024.data import FewShotDataset\n",
    "from arc2024.utils import plot\n",
    "from arc2024.utils.calc import accuracy_fn, norm_arc20204\n",
    "from arc2024.models.non_linear import NonLinearModelV0"
   ],
   "outputs": [],
   "execution_count": 1
  },
  {
   "metadata": {},
   "cell_type": "markdown",
   "source": "# Setup Device Agnostic Environment",
   "id": "238e55441bbcf17a"
  },
  {
   "metadata": {
    "ExecuteTime": {
     "end_time": "2024-08-05T13:12:17.892147Z",
     "start_time": "2024-08-05T13:12:17.601910Z"
    }
   },
   "cell_type": "code",
   "source": [
    "import arc2024.utils.amdgpu as amd\n",
    "\n",
    "if amd.is_amdgpu_on_linux():\n",
    "    # Use ROCm on rx6600/6600xt by setting the environment variable HSA_OVERRIDE_GFX_VERSION to \"10.3.0\"\n",
    "    # Source: https://github.com/ROCm/ROCm/issues/1698#issuecomment-1261646854\n",
    "    amd.setup_amdgpu_environment(\n",
    "        hsa_override_gfx_version=\"10.3.0\"\n",
    "    )\n",
    "\n",
    "device = torch.device('cuda' if torch.cuda.is_available() else 'cpu')\n",
    "device"
   ],
   "id": "564e0858a54fdba8",
   "outputs": [
    {
     "data": {
      "text/plain": [
       "device(type='cuda')"
      ]
     },
     "execution_count": 2,
     "metadata": {},
     "output_type": "execute_result"
    }
   ],
   "execution_count": 2
  },
  {
   "metadata": {},
   "cell_type": "markdown",
   "source": "## Prepare Datasets and DataLoaders",
   "id": "e1d56ce2d680401c"
  },
  {
   "metadata": {
    "ExecuteTime": {
     "end_time": "2024-08-05T13:12:21.367293Z",
     "start_time": "2024-08-05T13:12:17.893Z"
    }
   },
   "cell_type": "code",
   "source": [
    "dataset_dir = Path('datasets')\n",
    "\n",
    "BATCH_SIZE = 32\n",
    "NUM_WORKERS = os.cpu_count()\n",
    "\n",
    "train_dataset = FewShotDataset(\n",
    "    dataset_dir=dataset_dir,\n",
    "    dataset_name='training',\n",
    "    permutations_enabled=True\n",
    ")\n",
    "train_dataloader = torch.utils.data.DataLoader(\n",
    "    dataset=train_dataset,\n",
    "    batch_size=BATCH_SIZE,\n",
    "    shuffle=True,\n",
    "    num_workers=NUM_WORKERS\n",
    ")\n",
    "\n",
    "test_dataset = FewShotDataset(\n",
    "    dataset_dir=dataset_dir,\n",
    "    dataset_name='evaluation'\n",
    ")\n",
    "test_dataloader = torch.utils.data.DataLoader(\n",
    "    dataset=test_dataset,\n",
    "    batch_size=BATCH_SIZE,\n",
    "    shuffle=True,\n",
    "    num_workers=NUM_WORKERS\n",
    ")"
   ],
   "id": "bb2cae609fdde826",
   "outputs": [],
   "execution_count": 3
  },
  {
   "metadata": {},
   "cell_type": "markdown",
   "source": "## Train Model",
   "id": "2177ae9236464708"
  },
  {
   "metadata": {
    "ExecuteTime": {
     "end_time": "2024-08-05T13:12:37.150005Z",
     "start_time": "2024-08-05T13:12:37.129010Z"
    }
   },
   "cell_type": "code",
   "source": [
    "model = NonLinearModelV0(\n",
    "    in_features=900, # 30x30\n",
    "    hidden_features=600, # do some compression\n",
    "    out_features=900\n",
    ").to(device)\n",
    "\n",
    "model"
   ],
   "id": "3f0a32b80655a8ce",
   "outputs": [
    {
     "data": {
      "text/plain": [
       "NonLinearModelV0(\n",
       "  (flatten): Flatten(start_dim=1, end_dim=-1)\n",
       "  (linear1): Linear(in_features=900, out_features=600, bias=True)\n",
       "  (relu1): ReLU()\n",
       "  (linear2): Linear(in_features=600, out_features=900, bias=True)\n",
       "  (relu2): ReLU()\n",
       "  (unflatten): Unflatten(dim=1, unflattened_size=(1, 30, 30))\n",
       ")"
      ]
     },
     "execution_count": 5,
     "metadata": {},
     "output_type": "execute_result"
    }
   ],
   "execution_count": 5
  },
  {
   "metadata": {},
   "cell_type": "markdown",
   "source": "### Verify Input and Output Shapes with Random Tensor",
   "id": "73ba81c9ca21ee99"
  },
  {
   "metadata": {
    "ExecuteTime": {
     "end_time": "2024-08-04T12:21:22.808130Z",
     "start_time": "2024-08-04T12:21:22.665657Z"
    }
   },
   "cell_type": "code",
   "source": [
    "x = torch.rand([1, 30, 30]).to(device)\n",
    "model(x).shape"
   ],
   "id": "e1b7befceacdb2e",
   "outputs": [
    {
     "data": {
      "text/plain": [
       "torch.Size([1, 1, 30, 30])"
      ]
     },
     "execution_count": 5,
     "metadata": {},
     "output_type": "execute_result"
    }
   ],
   "execution_count": 5
  },
  {
   "metadata": {
    "ExecuteTime": {
     "end_time": "2024-08-04T12:21:22.913519Z",
     "start_time": "2024-08-04T12:21:22.809018Z"
    }
   },
   "cell_type": "code",
   "source": [
    "X, y, _ = train_dataset[0]\n",
    "X = X.to(device) / 10\n",
    "y = y.to(device) / 10\n",
    "\n",
    "y_pred = model(X)\n",
    "y_pred, y_pred.shape"
   ],
   "id": "c490ced35ddd64a0",
   "outputs": [
    {
     "data": {
      "text/plain": [
       "(tensor([[[[0.1616, 0.5808, 0.0000, 0.1905, 0.0000, 0.0882, 0.1266, 0.1101,\n",
       "            0.0562, 0.0000, 0.0000, 0.0000, 0.0000, 0.2197, 0.3875, 0.0000,\n",
       "            0.0000, 0.0000, 0.0000, 0.0000, 0.0461, 0.0000, 0.0928, 0.0000,\n",
       "            0.0130, 0.0000, 0.3987, 0.0000, 0.1360, 0.5793],\n",
       "           [0.1371, 0.0393, 0.0000, 0.0151, 0.0000, 0.0000, 0.5231, 0.1874,\n",
       "            0.0000, 0.0000, 0.0569, 0.1457, 0.0000, 0.0000, 0.0000, 0.1606,\n",
       "            0.0507, 0.0000, 0.4667, 0.1733, 0.1434, 0.0156, 0.2047, 0.0000,\n",
       "            0.0000, 0.0000, 0.0000, 0.0000, 0.0000, 0.6841],\n",
       "           [0.1206, 0.4218, 0.0000, 0.2076, 0.0000, 0.0770, 0.0000, 0.3432,\n",
       "            0.0000, 0.0000, 0.1939, 0.0000, 0.4347, 0.0197, 0.0000, 0.7384,\n",
       "            0.0000, 0.1315, 0.2661, 0.0030, 0.0110, 0.1159, 0.1432, 0.0768,\n",
       "            0.1300, 0.2811, 0.0000, 0.2150, 0.0000, 0.0000],\n",
       "           [0.0891, 0.0969, 0.0000, 0.0000, 0.0000, 0.1536, 0.4914, 0.0662,\n",
       "            0.0445, 0.0000, 0.0000, 0.0000, 0.1206, 0.2063, 0.0000, 0.0451,\n",
       "            0.1259, 0.0558, 0.0000, 0.2651, 0.2538, 0.0000, 0.2312, 0.2918,\n",
       "            0.0000, 0.0000, 0.0000, 0.0000, 0.0000, 0.1484],\n",
       "           [0.5017, 0.0000, 0.0000, 0.0000, 0.0000, 0.0000, 0.0756, 0.0970,\n",
       "            0.0000, 0.2523, 0.1249, 0.0528, 0.1295, 0.2021, 0.0000, 0.0000,\n",
       "            0.2944, 0.1127, 0.0777, 0.0000, 0.0000, 0.0000, 0.0065, 0.0000,\n",
       "            0.0000, 0.1001, 0.0000, 0.0000, 0.0000, 0.0075],\n",
       "           [0.0000, 0.1449, 0.0000, 0.0000, 0.1810, 0.2316, 0.0747, 0.2301,\n",
       "            0.0000, 0.0000, 0.3516, 0.0070, 0.0545, 0.0000, 0.1351, 0.1461,\n",
       "            0.2829, 0.0000, 0.0000, 0.0000, 0.0000, 0.0000, 0.3652, 0.3040,\n",
       "            0.0000, 0.0000, 0.3147, 0.0000, 0.0000, 0.0000],\n",
       "           [0.0000, 0.0000, 0.0000, 0.0000, 0.0000, 0.3087, 0.3163, 0.2828,\n",
       "            0.0000, 0.0000, 0.0000, 0.0157, 0.0000, 0.0746, 0.2381, 0.0000,\n",
       "            0.2125, 0.0000, 0.1244, 0.1622, 0.0000, 0.0000, 0.0000, 0.0000,\n",
       "            0.1596, 0.0000, 0.0574, 0.0000, 0.0000, 0.0000],\n",
       "           [0.0000, 0.0000, 0.5920, 0.1206, 0.0966, 0.0000, 0.0000, 0.0000,\n",
       "            0.0000, 0.0391, 0.0478, 0.0000, 0.3036, 0.0000, 0.0000, 0.0000,\n",
       "            0.1395, 0.0000, 0.0000, 0.1506, 0.0000, 0.0000, 0.0811, 0.0000,\n",
       "            0.3147, 0.0903, 0.0000, 0.0000, 0.0716, 0.1005],\n",
       "           [0.0000, 0.0000, 0.0000, 0.0000, 0.1554, 0.0489, 0.1732, 0.0000,\n",
       "            0.0000, 0.0000, 0.0000, 0.0000, 0.1436, 0.1363, 0.0000, 0.0000,\n",
       "            0.0000, 0.5013, 0.0597, 0.2919, 0.0000, 0.0000, 0.0000, 0.1549,\n",
       "            0.0000, 0.0925, 0.0000, 0.0000, 0.0000, 0.1878],\n",
       "           [0.1042, 0.0127, 0.0000, 0.0000, 0.2826, 0.0000, 0.1069, 0.0000,\n",
       "            0.1797, 0.2031, 0.1450, 0.0000, 0.0000, 0.0000, 0.0000, 0.0637,\n",
       "            0.2416, 0.0000, 0.0000, 0.1593, 0.0733, 0.0000, 0.2820, 0.0000,\n",
       "            0.1744, 0.0000, 0.0000, 0.0000, 0.2937, 0.1066],\n",
       "           [0.3076, 0.5712, 0.0000, 0.4075, 0.0000, 0.1773, 0.0000, 0.4792,\n",
       "            0.2123, 0.0000, 0.0000, 0.0000, 0.3296, 0.4324, 0.7023, 0.3216,\n",
       "            0.1778, 0.2209, 0.0666, 0.3499, 0.0000, 0.0000, 0.2956, 0.1087,\n",
       "            0.0000, 0.2222, 0.0000, 0.2212, 0.0000, 0.0000],\n",
       "           [0.4417, 0.0000, 0.0681, 0.4184, 0.0713, 0.3002, 0.1289, 0.0000,\n",
       "            0.0000, 0.0000, 0.1069, 0.3329, 0.0000, 0.0000, 0.0000, 0.0000,\n",
       "            0.0304, 0.1967, 0.0000, 0.0000, 0.0000, 0.3225, 0.0000, 0.0000,\n",
       "            0.0000, 0.0000, 0.0000, 0.0000, 0.3202, 0.0000],\n",
       "           [0.0000, 0.0000, 0.0000, 0.1473, 0.0000, 0.0000, 0.0000, 0.0000,\n",
       "            0.3566, 0.0000, 0.0229, 0.4523, 0.4347, 0.3050, 0.0000, 0.1427,\n",
       "            0.0000, 0.2846, 0.0000, 0.0598, 0.0000, 0.0000, 0.1294, 0.0000,\n",
       "            0.0000, 0.0000, 0.0430, 0.0000, 0.2718, 0.0000],\n",
       "           [0.2200, 0.0000, 0.0000, 0.0000, 0.0887, 0.0000, 0.1303, 0.0290,\n",
       "            0.2757, 0.0000, 0.2054, 0.3967, 0.0364, 0.2193, 0.2922, 0.5505,\n",
       "            0.0000, 0.0000, 0.0510, 0.0000, 0.0000, 0.0000, 0.3260, 0.0000,\n",
       "            0.0000, 0.2174, 0.0000, 0.0000, 0.0000, 0.0000],\n",
       "           [0.0482, 0.1743, 0.0000, 0.1720, 0.0000, 0.0000, 0.1967, 0.6557,\n",
       "            0.0882, 0.0675, 0.0000, 0.1958, 0.0000, 0.4624, 0.0525, 0.0000,\n",
       "            0.0000, 0.1815, 0.0000, 0.0000, 0.0000, 0.2138, 0.0000, 0.0000,\n",
       "            0.0987, 0.2127, 0.0000, 0.0000, 0.0000, 0.0000],\n",
       "           [0.1555, 0.0000, 0.0562, 0.5119, 0.4802, 0.0026, 0.1286, 0.1253,\n",
       "            0.0000, 0.0000, 0.0000, 0.0000, 0.0461, 0.0000, 0.0000, 0.1269,\n",
       "            0.0000, 0.0000, 0.0937, 0.0000, 0.3885, 0.0000, 0.0000, 0.1906,\n",
       "            0.0000, 0.2900, 0.0000, 0.0000, 0.0127, 0.2590],\n",
       "           [0.0000, 0.4256, 0.0000, 0.0000, 0.0000, 0.0000, 0.2599, 0.0000,\n",
       "            0.0000, 0.0000, 0.1382, 0.0000, 0.0000, 0.0000, 0.0000, 0.2319,\n",
       "            0.1547, 0.2089, 0.1801, 0.0000, 0.6606, 0.0000, 0.0000, 0.0000,\n",
       "            0.0000, 0.0000, 0.0500, 0.0000, 0.1846, 0.3407],\n",
       "           [0.0000, 0.0000, 0.0000, 0.0000, 0.0000, 0.0000, 0.0000, 0.0000,\n",
       "            0.0000, 0.0000, 0.0115, 0.4736, 0.1281, 0.0888, 0.0000, 0.1901,\n",
       "            0.6243, 0.1132, 0.0000, 0.0000, 0.3254, 0.0622, 0.0000, 0.1552,\n",
       "            0.1534, 0.2107, 0.2824, 0.0000, 0.0000, 0.0000],\n",
       "           [0.0000, 0.0551, 0.0161, 0.1119, 0.0478, 0.0000, 0.0000, 0.0000,\n",
       "            0.0171, 0.0413, 0.0000, 0.6926, 0.0000, 0.0000, 0.0000, 0.3760,\n",
       "            0.0000, 0.0000, 0.1121, 0.0795, 0.0000, 0.4693, 0.5276, 0.0000,\n",
       "            0.4994, 0.0000, 0.0000, 0.1700, 0.0000, 0.0000],\n",
       "           [0.0000, 0.3804, 0.0000, 0.0315, 0.0000, 0.0000, 0.3833, 0.0000,\n",
       "            0.1488, 0.1954, 0.1912, 0.0775, 0.2031, 0.0000, 0.0000, 0.0092,\n",
       "            0.0000, 0.0000, 0.0000, 0.0000, 0.1554, 0.3644, 0.0749, 0.2117,\n",
       "            0.0000, 0.2360, 0.4196, 0.0000, 0.2435, 0.0000],\n",
       "           [0.2620, 0.0000, 0.4724, 0.1231, 0.0000, 0.3065, 0.0824, 0.2241,\n",
       "            0.0000, 0.0367, 0.3268, 0.3750, 0.4384, 0.0787, 0.0000, 0.2140,\n",
       "            0.0223, 0.2594, 0.0000, 0.1345, 0.0000, 0.1244, 0.0000, 0.0000,\n",
       "            0.0000, 0.0000, 0.0000, 0.1551, 0.0000, 0.0000],\n",
       "           [0.0443, 0.0000, 0.5665, 0.0353, 0.2579, 0.0000, 0.1826, 0.0000,\n",
       "            0.0959, 0.0374, 0.0000, 0.3511, 0.0000, 0.1984, 0.4071, 0.0000,\n",
       "            0.4278, 0.3067, 0.0000, 0.0000, 0.0000, 0.0000, 0.0000, 0.0000,\n",
       "            0.5185, 0.2257, 0.0000, 0.0272, 0.3182, 0.0625],\n",
       "           [0.0000, 0.0000, 0.0000, 0.1808, 0.0000, 0.0000, 0.0000, 0.7271,\n",
       "            0.0000, 0.2825, 0.0927, 0.0000, 0.0000, 0.0000, 0.0401, 0.0000,\n",
       "            0.0000, 0.2073, 0.0000, 0.0000, 0.2296, 0.3315, 0.0407, 0.0000,\n",
       "            0.0348, 0.4161, 0.0000, 0.0000, 0.0113, 0.0000],\n",
       "           [0.1240, 0.0000, 0.2055, 0.0170, 0.0000, 0.0000, 0.0000, 0.0000,\n",
       "            0.1324, 0.0000, 0.2051, 0.0000, 0.0000, 0.0443, 0.0000, 0.3472,\n",
       "            0.0000, 0.0410, 0.0000, 0.0000, 0.0495, 0.0000, 0.0000, 0.1231,\n",
       "            0.0000, 0.0000, 0.1329, 0.3721, 0.2257, 0.0000],\n",
       "           [0.0000, 0.1575, 0.0000, 0.0000, 0.0483, 0.0000, 0.2776, 0.2185,\n",
       "            0.0000, 0.0000, 0.0155, 0.0000, 0.0000, 0.0000, 0.0000, 0.0000,\n",
       "            0.0769, 0.4499, 0.3997, 0.0000, 0.0000, 0.0000, 0.0000, 0.0992,\n",
       "            0.0000, 0.0000, 0.3711, 0.0000, 0.1406, 0.0488],\n",
       "           [0.1686, 0.0000, 0.0000, 0.5925, 0.0849, 0.1313, 0.0416, 0.0000,\n",
       "            0.7244, 0.1893, 0.1070, 0.0000, 0.1485, 0.0000, 0.2356, 0.0000,\n",
       "            0.1278, 0.1311, 0.0000, 0.2496, 0.1596, 0.0000, 0.1801, 0.0000,\n",
       "            0.0000, 0.0000, 0.0000, 0.0000, 0.3381, 0.0000],\n",
       "           [0.0000, 0.4516, 0.0000, 0.4718, 0.3553, 0.0000, 0.0000, 0.0130,\n",
       "            0.0000, 0.0000, 0.2493, 0.0158, 0.0000, 0.0000, 0.0000, 0.0000,\n",
       "            0.0000, 0.1234, 0.5844, 0.0000, 0.2639, 0.0000, 0.4391, 0.0000,\n",
       "            0.0000, 0.0000, 0.0000, 0.0000, 0.0742, 0.0000],\n",
       "           [0.0000, 0.0000, 0.5569, 0.0000, 0.0000, 0.0342, 0.0344, 0.0000,\n",
       "            0.2470, 0.0000, 0.0475, 0.0000, 0.0000, 0.0000, 0.3215, 0.0000,\n",
       "            0.0613, 0.2041, 0.0000, 0.0753, 0.0000, 0.2267, 0.1462, 0.3660,\n",
       "            0.0000, 0.2279, 0.1495, 0.0000, 0.0000, 0.0000],\n",
       "           [0.0000, 0.0000, 0.0943, 0.0000, 0.8249, 0.0000, 0.0606, 0.0000,\n",
       "            0.1461, 0.3490, 0.0615, 0.0000, 0.0000, 0.0000, 0.1209, 0.0000,\n",
       "            0.0804, 0.0807, 0.0673, 0.0000, 0.2344, 0.0000, 0.1983, 0.0000,\n",
       "            0.2170, 0.0355, 0.0000, 0.0223, 0.0000, 0.0898],\n",
       "           [0.1629, 0.1108, 0.0000, 0.0000, 0.0731, 0.0000, 0.0000, 0.2853,\n",
       "            0.2521, 0.1357, 0.0000, 0.1114, 0.4758, 0.0000, 0.3664, 0.2652,\n",
       "            0.0000, 0.3186, 0.0000, 0.2143, 0.0000, 0.0000, 0.4188, 0.0000,\n",
       "            0.0000, 0.0000, 0.3508, 0.5329, 0.6666, 0.0000]]]], device='cuda:0',\n",
       "        grad_fn=<ViewBackward0>),\n",
       " torch.Size([1, 1, 30, 30]))"
      ]
     },
     "execution_count": 6,
     "metadata": {},
     "output_type": "execute_result"
    }
   ],
   "execution_count": 6
  },
  {
   "metadata": {},
   "cell_type": "markdown",
   "source": "### Setup Loss, optimizer and evaluation metrics",
   "id": "eee172db70a38518"
  },
  {
   "metadata": {
    "ExecuteTime": {
     "end_time": "2024-08-04T12:21:23.317161Z",
     "start_time": "2024-08-04T12:21:22.914383Z"
    }
   },
   "cell_type": "code",
   "source": [
    "loss_fn = torch.nn.MSELoss()\n",
    "optimizer = torch.optim.SGD(params=model.parameters(), lr=0.01)"
   ],
   "id": "1ce92989eac86aa2",
   "outputs": [],
   "execution_count": 7
  },
  {
   "metadata": {},
   "cell_type": "markdown",
   "source": "### Run Training Loop",
   "id": "518300e154e22dd8"
  },
  {
   "metadata": {
    "ExecuteTime": {
     "end_time": "2024-08-04T12:25:00.719963Z",
     "start_time": "2024-08-04T12:21:23.318425Z"
    }
   },
   "cell_type": "code",
   "source": [
    "from timeit import default_timer as timer \n",
    "\n",
    "epochs = 50\n",
    "\n",
    "time_start = timer()\n",
    "for epoch in range(epochs):\n",
    "    ### Training\n",
    "    train_loss = 0\n",
    "    train_accuracy = 0\n",
    "\n",
    "    model.train() # Set model into training mode\n",
    "    \n",
    "    for b, (X_train, y_train, challenge_ids) in enumerate(train_dataloader):\n",
    "        for challenge_id in challenge_ids:\n",
    "            X_shots, y_shots = train_dataset.get_samples(challenge_id)\n",
    "            X_shots, y_shots = X_shots.to(device) / 10, y_shots.to(device) / 10\n",
    "            \n",
    "            # Forward pass:\n",
    "            shots_pred = model(X_shots)\n",
    "            \n",
    "            # Calculate loss:\n",
    "            loss = loss_fn(shots_pred, y_shots)\n",
    "            \n",
    "            # Reset optimizer gradients:\n",
    "            optimizer.zero_grad()\n",
    "            \n",
    "            # Backward pass:\n",
    "            loss.backward()\n",
    "            \n",
    "            # Adjust parameters:\n",
    "            optimizer.step()\n",
    "        \n",
    "        # Send to device and normalize:\n",
    "        X_train, y_train = X_train.to(device) / 10, y_train.to(device) / 10\n",
    "        \n",
    "        # Forward pass:\n",
    "        train_pred = model(X_train)\n",
    "        \n",
    "        # Calculate loss:\n",
    "        loss = loss_fn(train_pred, y_train)\n",
    "        train_loss += loss\n",
    "        train_accuracy += accuracy_fn(y_train, norm_arc20204(train_pred))\n",
    "        \n",
    "        # Reset optimizer gradients:\n",
    "        optimizer.zero_grad()\n",
    "        \n",
    "        # Backward pass:\n",
    "        loss.backward()\n",
    "        \n",
    "        # Adjust parameters:\n",
    "        optimizer.step()\n",
    "\n",
    "    train_loss /= len(train_dataloader.dataset)\n",
    "    train_accuracy /= len(train_dataloader.dataset)\n",
    "    \n",
    "    ### Testing\n",
    "    test_loss = 0\n",
    "    test_accuracy = 0\n",
    "    model.eval() # set model into evaluation mode\n",
    "\n",
    "    with torch.inference_mode():\n",
    "        for X_test, y_test, _ in test_dataloader:\n",
    "            # Send to device and normalize:\n",
    "            X_test, y_test = X_test.to(device) / 10, y_test.to(device) / 10\n",
    "\n",
    "            # Forward pass:\n",
    "            test_pred = model(X_test)\n",
    "\n",
    "            # Calculate loss:\n",
    "            loss = loss_fn(test_pred, y_test)\n",
    "            test_loss += loss\n",
    "            test_accuracy += accuracy_fn(y_test, norm_arc20204(test_pred))\n",
    "    \n",
    "        test_loss /= len(test_dataloader.dataset)\n",
    "        test_accuracy /= len(test_dataloader.dataset)\n",
    "    \n",
    "    print(f\"Epoch {epoch + 1}/{epochs} | Train loss: {train_loss:.5f} | Train accuracy: {train_accuracy:.2f}% | Test loss: {test_loss:.5f} | Test accuracy: {test_accuracy:.2f}%\")\n",
    "time_end = timer()\n",
    "\n",
    "print(f\"Total time taken: {time_end - time_start}\")"
   ],
   "id": "96d6551b2f990249",
   "outputs": [
    {
     "name": "stdout",
     "output_type": "stream",
     "text": [
      "Epoch 1/50 | Train loss: 0.01075 | Train accuracy: 0.09% | Test loss: 0.01042 | Test accuracy: 0.23%\n",
      "Epoch 2/50 | Train loss: 0.00984 | Train accuracy: 0.07% | Test loss: 0.01018 | Test accuracy: 0.19%\n",
      "Epoch 3/50 | Train loss: 0.00954 | Train accuracy: 0.06% | Test loss: 0.00977 | Test accuracy: 0.20%\n",
      "Epoch 4/50 | Train loss: 0.00924 | Train accuracy: 0.06% | Test loss: 0.00945 | Test accuracy: 0.21%\n",
      "Epoch 5/50 | Train loss: 0.00907 | Train accuracy: 0.06% | Test loss: 0.00947 | Test accuracy: 0.19%\n",
      "Epoch 6/50 | Train loss: 0.00891 | Train accuracy: 0.06% | Test loss: 0.00924 | Test accuracy: 0.20%\n",
      "Epoch 7/50 | Train loss: 0.00867 | Train accuracy: 0.06% | Test loss: 0.00900 | Test accuracy: 0.19%\n",
      "Epoch 8/50 | Train loss: 0.00849 | Train accuracy: 0.07% | Test loss: 0.00888 | Test accuracy: 0.19%\n",
      "Epoch 9/50 | Train loss: 0.00827 | Train accuracy: 0.07% | Test loss: 0.00868 | Test accuracy: 0.20%\n",
      "Epoch 10/50 | Train loss: 0.00818 | Train accuracy: 0.07% | Test loss: 0.00872 | Test accuracy: 0.18%\n",
      "Epoch 11/50 | Train loss: 0.00812 | Train accuracy: 0.07% | Test loss: 0.00843 | Test accuracy: 0.21%\n",
      "Epoch 12/50 | Train loss: 0.00803 | Train accuracy: 0.07% | Test loss: 0.00843 | Test accuracy: 0.19%\n",
      "Epoch 13/50 | Train loss: 0.00791 | Train accuracy: 0.07% | Test loss: 0.00819 | Test accuracy: 0.25%\n",
      "Epoch 14/50 | Train loss: 0.00774 | Train accuracy: 0.07% | Test loss: 0.00829 | Test accuracy: 0.18%\n",
      "Epoch 15/50 | Train loss: 0.00766 | Train accuracy: 0.07% | Test loss: 0.00826 | Test accuracy: 0.18%\n",
      "Epoch 16/50 | Train loss: 0.00760 | Train accuracy: 0.07% | Test loss: 0.00817 | Test accuracy: 0.19%\n",
      "Epoch 17/50 | Train loss: 0.00754 | Train accuracy: 0.07% | Test loss: 0.00806 | Test accuracy: 0.18%\n",
      "Epoch 18/50 | Train loss: 0.00746 | Train accuracy: 0.07% | Test loss: 0.00802 | Test accuracy: 0.19%\n",
      "Epoch 19/50 | Train loss: 0.00743 | Train accuracy: 0.07% | Test loss: 0.00801 | Test accuracy: 0.19%\n",
      "Epoch 20/50 | Train loss: 0.00741 | Train accuracy: 0.07% | Test loss: 0.00802 | Test accuracy: 0.18%\n",
      "Epoch 21/50 | Train loss: 0.00739 | Train accuracy: 0.07% | Test loss: 0.00793 | Test accuracy: 0.18%\n",
      "Epoch 22/50 | Train loss: 0.00735 | Train accuracy: 0.07% | Test loss: 0.00798 | Test accuracy: 0.18%\n",
      "Epoch 23/50 | Train loss: 0.00727 | Train accuracy: 0.07% | Test loss: 0.00785 | Test accuracy: 0.17%\n",
      "Epoch 24/50 | Train loss: 0.00725 | Train accuracy: 0.07% | Test loss: 0.00790 | Test accuracy: 0.17%\n",
      "Epoch 25/50 | Train loss: 0.00722 | Train accuracy: 0.07% | Test loss: 0.00802 | Test accuracy: 0.18%\n",
      "Epoch 26/50 | Train loss: 0.00719 | Train accuracy: 0.07% | Test loss: 0.00774 | Test accuracy: 0.18%\n",
      "Epoch 27/50 | Train loss: 0.00715 | Train accuracy: 0.07% | Test loss: 0.00778 | Test accuracy: 0.18%\n",
      "Epoch 28/50 | Train loss: 0.00715 | Train accuracy: 0.07% | Test loss: 0.00777 | Test accuracy: 0.18%\n",
      "Epoch 29/50 | Train loss: 0.00714 | Train accuracy: 0.07% | Test loss: 0.00784 | Test accuracy: 0.17%\n",
      "Epoch 30/50 | Train loss: 0.00714 | Train accuracy: 0.07% | Test loss: 0.00759 | Test accuracy: 0.23%\n",
      "Epoch 31/50 | Train loss: 0.00714 | Train accuracy: 0.07% | Test loss: 0.00783 | Test accuracy: 0.18%\n",
      "Epoch 32/50 | Train loss: 0.00707 | Train accuracy: 0.07% | Test loss: 0.00756 | Test accuracy: 0.19%\n",
      "Epoch 33/50 | Train loss: 0.00690 | Train accuracy: 0.07% | Test loss: 0.00761 | Test accuracy: 0.17%\n",
      "Epoch 34/50 | Train loss: 0.00684 | Train accuracy: 0.07% | Test loss: 0.00751 | Test accuracy: 0.18%\n",
      "Epoch 35/50 | Train loss: 0.00678 | Train accuracy: 0.07% | Test loss: 0.00741 | Test accuracy: 0.18%\n",
      "Epoch 36/50 | Train loss: 0.00676 | Train accuracy: 0.07% | Test loss: 0.00751 | Test accuracy: 0.17%\n",
      "Epoch 37/50 | Train loss: 0.00675 | Train accuracy: 0.07% | Test loss: 0.00746 | Test accuracy: 0.17%\n",
      "Epoch 38/50 | Train loss: 0.00673 | Train accuracy: 0.07% | Test loss: 0.00751 | Test accuracy: 0.17%\n",
      "Epoch 39/50 | Train loss: 0.00673 | Train accuracy: 0.07% | Test loss: 0.00740 | Test accuracy: 0.18%\n",
      "Epoch 40/50 | Train loss: 0.00670 | Train accuracy: 0.07% | Test loss: 0.00739 | Test accuracy: 0.16%\n",
      "Epoch 41/50 | Train loss: 0.00666 | Train accuracy: 0.07% | Test loss: 0.00728 | Test accuracy: 0.17%\n",
      "Epoch 42/50 | Train loss: 0.00660 | Train accuracy: 0.07% | Test loss: 0.00729 | Test accuracy: 0.17%\n",
      "Epoch 43/50 | Train loss: 0.00656 | Train accuracy: 0.07% | Test loss: 0.00732 | Test accuracy: 0.16%\n",
      "Epoch 44/50 | Train loss: 0.00650 | Train accuracy: 0.07% | Test loss: 0.00729 | Test accuracy: 0.16%\n",
      "Epoch 45/50 | Train loss: 0.00648 | Train accuracy: 0.07% | Test loss: 0.00720 | Test accuracy: 0.17%\n",
      "Epoch 46/50 | Train loss: 0.00642 | Train accuracy: 0.07% | Test loss: 0.00722 | Test accuracy: 0.17%\n",
      "Epoch 47/50 | Train loss: 0.00635 | Train accuracy: 0.07% | Test loss: 0.00708 | Test accuracy: 0.17%\n",
      "Epoch 48/50 | Train loss: 0.00629 | Train accuracy: 0.07% | Test loss: 0.00707 | Test accuracy: 0.17%\n",
      "Epoch 49/50 | Train loss: 0.00627 | Train accuracy: 0.07% | Test loss: 0.00702 | Test accuracy: 0.16%\n",
      "Epoch 50/50 | Train loss: 0.00626 | Train accuracy: 0.07% | Test loss: 0.00711 | Test accuracy: 0.17%\n",
      "Total time taken: 217.3964193310003\n"
     ]
    }
   ],
   "execution_count": 8
  },
  {
   "metadata": {},
   "cell_type": "markdown",
   "source": "# Evaluate Model",
   "id": "12e02627456a3a8b"
  },
  {
   "metadata": {
    "ExecuteTime": {
     "end_time": "2024-08-04T12:25:57.746166Z",
     "start_time": "2024-08-04T12:25:57.185885Z"
    }
   },
   "cell_type": "code",
   "source": [
    "evaluations = 3\n",
    "\n",
    "evaluation_dataset = FewShotDataset(\n",
    "    dataset_dir=dataset_dir,\n",
    "    dataset_name='evaluation'\n",
    ")\n",
    "\n",
    "model.eval() # set model into evaluation mode\n",
    "with torch.inference_mode():\n",
    "    \n",
    "    for _ in range(evaluations):\n",
    "        X, y, _ = random.choice(evaluation_dataset)\n",
    "        X, y = X.to(device) / 10, y.to(device) / 10\n",
    "        \n",
    "        y_pred = model(X)[0]\n",
    "        y_pred_norm = norm_arc20204(y_pred)\n",
    "        \n",
    "        plot.input_and_output(X * 10, y * 10, y_pred_norm * 10)\n",
    "        accuracy_pred = accuracy_fn(y, y_pred_norm)\n",
    "        print(f\"Accuracy: {accuracy_pred:.2f}% ({int(accuracy_pred / 100 * 900)}/900)\")\n"
   ],
   "id": "14b6af5afe472c9e",
   "outputs": [
    {
     "data": {
      "text/plain": [
       "<Figure size 1920x1440 with 3 Axes>"
      ],
      "image/png": "[encoded data removed]"
     },
     "metadata": {},
     "output_type": "display_data"
    },
    {
     "name": "stdout",
     "output_type": "stream",
     "text": [
      "Accuracy: 11.33% (102/900)\n"
     ]
    },
    {
     "data": {
      "text/plain": [
       "<Figure size 1920x1440 with 3 Axes>"
      ],
      "image/png": "[encoded data removed]"
     },
     "metadata": {},
     "output_type": "display_data"
    },
    {
     "name": "stdout",
     "output_type": "stream",
     "text": [
      "Accuracy: 44.11% (397/900)\n"
     ]
    },
    {
     "data": {
      "text/plain": [
       "<Figure size 1920x1440 with 3 Axes>"
      ],
      "image/png": "[encoded data removed]"
     },
     "metadata": {},
     "output_type": "display_data"
    },
    {
     "name": "stdout",
     "output_type": "stream",
     "text": [
      "Accuracy: 10.00% (90/900)\n"
     ]
    }
   ],
   "execution_count": 13
  },
  {
   "metadata": {},
   "cell_type": "code",
   "outputs": [],
   "execution_count": null,
   "source": "",
   "id": "2db9dc3a233128c0"
  }
 ],
 "metadata": {
  "kernelspec": {
   "display_name": "Python 3 (ipykernel)",
   "language": "python",
   "name": "python3"
  },
  "language_info": {
   "codemirror_mode": {
    "name": "ipython",
    "version": 3
   },
   "file_extension": ".py",
   "mimetype": "text/x-python",
   "name": "python",
   "nbconvert_exporter": "python",
   "pygments_lexer": "ipython3",
   "version": "3.12.4"
  }
 },
 "nbformat": 4,
 "nbformat_minor": 5
}
