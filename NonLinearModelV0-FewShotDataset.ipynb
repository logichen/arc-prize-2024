{
 "cells": [
  {
   "metadata": {},
   "cell_type": "markdown",
   "source": [
    "# LinearModelV0 with FewShotDataset\n",
    "\n",
    "This notebook is an experimental approach on solving the ARC challenge. See https://arcprize.org/ for more details."
   ],
   "id": "2deab4fa4b404fd9"
  },
  {
   "cell_type": "code",
   "id": "469d911a-eb08-40db-9491-58582e0a5244",
   "metadata": {
    "ExecuteTime": {
     "end_time": "2024-08-04T11:50:53.406164Z",
     "start_time": "2024-08-04T11:50:52.119065Z"
    }
   },
   "source": [
    "import os\n",
    "import random\n",
    "\n",
    "import torch\n",
    "\n",
    "from pathlib import Path\n",
    "\n",
    "from arc2024.data import FewShotDataset\n",
    "from arc2024.utils import plot\n",
    "from arc2024.utils.calc import accuracy_fn, norm_arc20204\n",
    "from arc2024.models.non_linear import NonLinearModelV0"
   ],
   "outputs": [],
   "execution_count": 1
  },
  {
   "metadata": {},
   "cell_type": "markdown",
   "source": "# Setup Device Agnostic Environment",
   "id": "238e55441bbcf17a"
  },
  {
   "metadata": {
    "ExecuteTime": {
     "end_time": "2024-08-04T11:50:53.735484Z",
     "start_time": "2024-08-04T11:50:53.407224Z"
    }
   },
   "cell_type": "code",
   "source": [
    "import arc2024.utils.amdgpu as amd\n",
    "\n",
    "if amd.is_amdgpu_on_linux():\n",
    "    # Use ROCm on rx6600/6600xt by setting the environment variable HSA_OVERRIDE_GFX_VERSION to \"10.3.0\"\n",
    "    # Source: https://github.com/ROCm/ROCm/issues/1698#issuecomment-1261646854\n",
    "    amd.setup_amdgpu_environment(\n",
    "        hsa_override_gfx_version=\"10.3.0\"\n",
    "    )\n",
    "\n",
    "device = torch.device('cuda' if torch.cuda.is_available() else 'cpu')\n",
    "device"
   ],
   "id": "564e0858a54fdba8",
   "outputs": [
    {
     "data": {
      "text/plain": [
       "device(type='cuda')"
      ]
     },
     "execution_count": 2,
     "metadata": {},
     "output_type": "execute_result"
    }
   ],
   "execution_count": 2
  },
  {
   "metadata": {},
   "cell_type": "markdown",
   "source": "## Prepare Datasets and DataLoaders",
   "id": "e1d56ce2d680401c"
  },
  {
   "metadata": {
    "ExecuteTime": {
     "end_time": "2024-08-04T11:50:56.851890Z",
     "start_time": "2024-08-04T11:50:53.736320Z"
    }
   },
   "cell_type": "code",
   "source": [
    "dataset_dir = Path('datasets')\n",
    "\n",
    "BATCH_SIZE = 32\n",
    "NUM_WORKERS = os.cpu_count()\n",
    "\n",
    "train_dataset = FewShotDataset(\n",
    "    dataset_dir=dataset_dir,\n",
    "    dataset_name='training',\n",
    "    permutations_enabled=True\n",
    ")\n",
    "train_dataloader = torch.utils.data.DataLoader(\n",
    "    dataset=train_dataset,\n",
    "    batch_size=BATCH_SIZE,\n",
    "    shuffle=True,\n",
    "    num_workers=NUM_WORKERS\n",
    ")\n",
    "\n",
    "test_dataset = FewShotDataset(\n",
    "    dataset_dir=dataset_dir,\n",
    "    dataset_name='evaluation'\n",
    ")\n",
    "test_dataloader = torch.utils.data.DataLoader(\n",
    "    dataset=test_dataset,\n",
    "    batch_size=BATCH_SIZE,\n",
    "    shuffle=True,\n",
    "    num_workers=NUM_WORKERS\n",
    ")"
   ],
   "id": "bb2cae609fdde826",
   "outputs": [],
   "execution_count": 3
  },
  {
   "metadata": {},
   "cell_type": "markdown",
   "source": "## Train Model",
   "id": "2177ae9236464708"
  },
  {
   "metadata": {
    "ExecuteTime": {
     "end_time": "2024-08-04T11:50:57.073232Z",
     "start_time": "2024-08-04T11:50:56.852787Z"
    }
   },
   "cell_type": "code",
   "source": [
    "model = NonLinearModelV0(\n",
    "    in_features=900, # 30x30\n",
    "    hidden_features=600, # do some compression\n",
    "    out_features=900\n",
    ").to(device)\n",
    "model"
   ],
   "id": "3f0a32b80655a8ce",
   "outputs": [
    {
     "data": {
      "text/plain": [
       "NonLinearModelV0(\n",
       "  (flatten): Flatten(start_dim=1, end_dim=-1)\n",
       "  (linear1): Linear(in_features=900, out_features=600, bias=True)\n",
       "  (relu1): ReLU()\n",
       "  (linear2): Linear(in_features=600, out_features=900, bias=True)\n",
       "  (relu2): ReLU()\n",
       "  (unflatten): Unflatten(dim=1, unflattened_size=(1, 30, 30))\n",
       ")"
      ]
     },
     "execution_count": 4,
     "metadata": {},
     "output_type": "execute_result"
    }
   ],
   "execution_count": 4
  },
  {
   "metadata": {},
   "cell_type": "markdown",
   "source": "### Verify Input and Output Shapes with Random Tensor",
   "id": "73ba81c9ca21ee99"
  },
  {
   "metadata": {
    "ExecuteTime": {
     "end_time": "2024-08-04T11:50:57.215515Z",
     "start_time": "2024-08-04T11:50:57.074613Z"
    }
   },
   "cell_type": "code",
   "source": [
    "x = torch.rand([1, 30, 30]).to(device)\n",
    "model(x).shape"
   ],
   "id": "e1b7befceacdb2e",
   "outputs": [
    {
     "data": {
      "text/plain": [
       "torch.Size([1, 1, 30, 30])"
      ]
     },
     "execution_count": 5,
     "metadata": {},
     "output_type": "execute_result"
    }
   ],
   "execution_count": 5
  },
  {
   "metadata": {
    "ExecuteTime": {
     "end_time": "2024-08-04T11:50:57.315863Z",
     "start_time": "2024-08-04T11:50:57.216313Z"
    }
   },
   "cell_type": "code",
   "source": [
    "X, y, _ = train_dataset[0]\n",
    "X = X.to(device) / 10\n",
    "y = y.to(device) / 10\n",
    "\n",
    "y_pred = model(X)\n",
    "y_pred, y_pred.shape"
   ],
   "id": "c490ced35ddd64a0",
   "outputs": [
    {
     "data": {
      "text/plain": [
       "(tensor([[[[0.0000e+00, 0.0000e+00, 0.0000e+00, 5.5225e-02, 0.0000e+00,\n",
       "            0.0000e+00, 1.9791e-01, 0.0000e+00, 4.5243e-01, 1.5903e-01,\n",
       "            2.1470e-01, 0.0000e+00, 3.6250e-01, 1.1012e-02, 0.0000e+00,\n",
       "            1.4122e-01, 2.0517e-02, 2.0999e-02, 0.0000e+00, 0.0000e+00,\n",
       "            0.0000e+00, 0.0000e+00, 4.7870e-01, 8.5000e-02, 0.0000e+00,\n",
       "            0.0000e+00, 1.4447e-01, 0.0000e+00, 0.0000e+00, 1.8012e-02],\n",
       "           [0.0000e+00, 0.0000e+00, 0.0000e+00, 4.9556e-02, 2.5982e-02,\n",
       "            0.0000e+00, 0.0000e+00, 0.0000e+00, 1.5531e-01, 2.6795e-01,\n",
       "            1.1282e-01, 8.0584e-02, 0.0000e+00, 3.4540e-01, 4.8572e-02,\n",
       "            0.0000e+00, 1.1542e-02, 1.2030e-01, 0.0000e+00, 1.0766e-01,\n",
       "            2.4363e-01, 2.3322e-01, 0.0000e+00, 1.6380e-01, 3.5870e-01,\n",
       "            0.0000e+00, 0.0000e+00, 2.0072e-01, 4.7069e-02, 3.1660e-01],\n",
       "           [2.4797e-01, 0.0000e+00, 0.0000e+00, 2.1843e-01, 5.7689e-01,\n",
       "            0.0000e+00, 2.9945e-02, 2.0824e-03, 0.0000e+00, 1.5653e-01,\n",
       "            1.9400e-01, 4.1654e-02, 0.0000e+00, 4.9124e-01, 2.0953e-01,\n",
       "            3.8600e-01, 0.0000e+00, 0.0000e+00, 1.5589e-02, 1.0963e-02,\n",
       "            3.8534e-01, 0.0000e+00, 0.0000e+00, 3.4272e-01, 0.0000e+00,\n",
       "            0.0000e+00, 1.0082e-01, 0.0000e+00, 2.5423e-01, 0.0000e+00],\n",
       "           [3.0205e-02, 1.3610e-01, 1.8303e-01, 1.3253e-01, 1.6310e-01,\n",
       "            4.2882e-01, 2.9380e-02, 4.5895e-01, 0.0000e+00, 9.1736e-02,\n",
       "            0.0000e+00, 1.6930e-01, 1.7820e-01, 0.0000e+00, 0.0000e+00,\n",
       "            0.0000e+00, 1.7565e-01, 1.6712e-02, 0.0000e+00, 3.5989e-01,\n",
       "            0.0000e+00, 0.0000e+00, 3.3578e-01, 3.6483e-01, 1.0590e-01,\n",
       "            0.0000e+00, 1.1329e-01, 0.0000e+00, 0.0000e+00, 0.0000e+00],\n",
       "           [0.0000e+00, 0.0000e+00, 1.2322e-01, 2.4853e-01, 8.4558e-02,\n",
       "            0.0000e+00, 2.3687e-01, 0.0000e+00, 0.0000e+00, 0.0000e+00,\n",
       "            0.0000e+00, 0.0000e+00, 2.0766e-01, 3.9475e-01, 0.0000e+00,\n",
       "            0.0000e+00, 0.0000e+00, 0.0000e+00, 1.2458e-01, 0.0000e+00,\n",
       "            0.0000e+00, 3.8520e-01, 0.0000e+00, 4.5568e-01, 0.0000e+00,\n",
       "            0.0000e+00, 1.1202e-01, 1.0220e-01, 2.1484e-01, 3.3173e-01],\n",
       "           [0.0000e+00, 0.0000e+00, 0.0000e+00, 4.6937e-02, 0.0000e+00,\n",
       "            1.1129e-01, 0.0000e+00, 7.8753e-02, 7.8930e-02, 4.4111e-01,\n",
       "            0.0000e+00, 0.0000e+00, 0.0000e+00, 0.0000e+00, 2.1573e-01,\n",
       "            0.0000e+00, 3.2940e-01, 1.4386e-01, 0.0000e+00, 0.0000e+00,\n",
       "            0.0000e+00, 0.0000e+00, 3.5182e-01, 0.0000e+00, 0.0000e+00,\n",
       "            0.0000e+00, 0.0000e+00, 9.5088e-02, 2.4996e-02, 1.0366e-01],\n",
       "           [2.0144e-01, 2.0666e-01, 0.0000e+00, 0.0000e+00, 2.4567e-01,\n",
       "            6.8335e-01, 3.1364e-01, 3.6018e-01, 6.8719e-02, 1.7621e-01,\n",
       "            0.0000e+00, 2.5202e-01, 1.0332e-01, 3.1910e-02, 0.0000e+00,\n",
       "            1.0253e-01, 0.0000e+00, 0.0000e+00, 2.2938e-01, 0.0000e+00,\n",
       "            1.2517e-01, 0.0000e+00, 0.0000e+00, 2.9572e-01, 5.5172e-02,\n",
       "            0.0000e+00, 0.0000e+00, 0.0000e+00, 9.4292e-02, 0.0000e+00],\n",
       "           [0.0000e+00, 0.0000e+00, 1.2367e-01, 0.0000e+00, 2.0910e-01,\n",
       "            2.3194e-02, 0.0000e+00, 0.0000e+00, 1.7959e-01, 1.1697e-01,\n",
       "            3.2711e-01, 5.3378e-01, 1.6634e-01, 4.7276e-02, 1.0749e-01,\n",
       "            0.0000e+00, 0.0000e+00, 3.9257e-02, 0.0000e+00, 2.3390e-01,\n",
       "            0.0000e+00, 1.6252e-01, 0.0000e+00, 0.0000e+00, 0.0000e+00,\n",
       "            1.0488e-01, 1.3477e-01, 8.3478e-02, 2.9721e-01, 0.0000e+00],\n",
       "           [0.0000e+00, 0.0000e+00, 0.0000e+00, 0.0000e+00, 3.0263e-01,\n",
       "            1.1651e-01, 1.5803e-01, 3.5126e-01, 0.0000e+00, 2.7467e-01,\n",
       "            0.0000e+00, 0.0000e+00, 3.5287e-01, 2.0427e-01, 0.0000e+00,\n",
       "            0.0000e+00, 0.0000e+00, 3.2918e-01, 1.8897e-03, 0.0000e+00,\n",
       "            1.5827e-01, 2.3766e-01, 0.0000e+00, 0.0000e+00, 0.0000e+00,\n",
       "            0.0000e+00, 0.0000e+00, 0.0000e+00, 0.0000e+00, 0.0000e+00],\n",
       "           [0.0000e+00, 1.6467e-01, 9.5559e-02, 0.0000e+00, 0.0000e+00,\n",
       "            2.6633e-01, 0.0000e+00, 0.0000e+00, 1.3751e-01, 0.0000e+00,\n",
       "            2.5822e-01, 7.1914e-02, 0.0000e+00, 0.0000e+00, 1.3663e-01,\n",
       "            0.0000e+00, 0.0000e+00, 1.5349e-01, 3.7038e-01, 8.2123e-02,\n",
       "            2.2452e-01, 7.3830e-02, 1.0590e-01, 1.2276e-01, 1.6833e-01,\n",
       "            2.7413e-02, 3.1745e-01, 0.0000e+00, 0.0000e+00, 2.2765e-01],\n",
       "           [3.3346e-01, 2.4551e-02, 0.0000e+00, 1.4596e-01, 5.6200e-02,\n",
       "            0.0000e+00, 0.0000e+00, 0.0000e+00, 0.0000e+00, 3.3777e-01,\n",
       "            1.7907e-01, 2.0825e-01, 0.0000e+00, 5.3836e-02, 2.2037e-01,\n",
       "            0.0000e+00, 0.0000e+00, 1.5543e-01, 0.0000e+00, 0.0000e+00,\n",
       "            2.6392e-01, 6.5531e-02, 6.7418e-02, 3.1381e-02, 1.8091e-01,\n",
       "            0.0000e+00, 3.7625e-01, 0.0000e+00, 8.5890e-02, 3.7670e-01],\n",
       "           [0.0000e+00, 1.7475e-02, 0.0000e+00, 2.1829e-01, 0.0000e+00,\n",
       "            0.0000e+00, 2.3958e-02, 0.0000e+00, 1.5258e-01, 0.0000e+00,\n",
       "            2.5346e-01, 0.0000e+00, 0.0000e+00, 2.0364e-01, 3.8354e-01,\n",
       "            2.9868e-01, 0.0000e+00, 0.0000e+00, 0.0000e+00, 0.0000e+00,\n",
       "            6.6773e-02, 0.0000e+00, 2.0800e-01, 3.4263e-01, 0.0000e+00,\n",
       "            2.5606e-01, 0.0000e+00, 2.3920e-01, 9.3246e-02, 2.2150e-01],\n",
       "           [0.0000e+00, 0.0000e+00, 0.0000e+00, 3.8424e-02, 1.0792e-01,\n",
       "            0.0000e+00, 8.0567e-02, 0.0000e+00, 0.0000e+00, 0.0000e+00,\n",
       "            0.0000e+00, 1.2874e-01, 1.8667e-01, 1.1549e-01, 5.1797e-01,\n",
       "            1.8959e-01, 0.0000e+00, 0.0000e+00, 3.9445e-02, 0.0000e+00,\n",
       "            0.0000e+00, 1.7701e-01, 5.4461e-02, 1.2515e-01, 0.0000e+00,\n",
       "            9.2890e-03, 5.5231e-01, 3.4020e-02, 0.0000e+00, 8.1200e-02],\n",
       "           [0.0000e+00, 3.0966e-01, 1.7064e-01, 7.9201e-02, 0.0000e+00,\n",
       "            0.0000e+00, 0.0000e+00, 1.5467e-01, 2.7026e-01, 3.6748e-01,\n",
       "            0.0000e+00, 0.0000e+00, 0.0000e+00, 0.0000e+00, 9.4434e-02,\n",
       "            0.0000e+00, 0.0000e+00, 6.6939e-02, 0.0000e+00, 0.0000e+00,\n",
       "            1.2821e-01, 0.0000e+00, 2.2590e-01, 0.0000e+00, 1.4905e-03,\n",
       "            0.0000e+00, 6.3350e-02, 0.0000e+00, 6.3121e-02, 8.4138e-02],\n",
       "           [0.0000e+00, 0.0000e+00, 0.0000e+00, 9.3521e-02, 0.0000e+00,\n",
       "            0.0000e+00, 2.4223e-02, 0.0000e+00, 0.0000e+00, 7.4563e-02,\n",
       "            8.9674e-02, 2.1009e-01, 0.0000e+00, 0.0000e+00, 0.0000e+00,\n",
       "            0.0000e+00, 0.0000e+00, 0.0000e+00, 1.4312e-01, 2.0709e-02,\n",
       "            0.0000e+00, 3.0283e-01, 5.3193e-01, 2.9047e-01, 0.0000e+00,\n",
       "            4.3434e-01, 0.0000e+00, 0.0000e+00, 0.0000e+00, 3.6183e-02],\n",
       "           [4.8216e-01, 5.8374e-03, 0.0000e+00, 6.0716e-02, 3.6935e-01,\n",
       "            3.0070e-01, 0.0000e+00, 0.0000e+00, 0.0000e+00, 2.7732e-01,\n",
       "            7.2973e-02, 0.0000e+00, 9.5319e-03, 2.2368e-02, 1.3115e-01,\n",
       "            0.0000e+00, 0.0000e+00, 3.7175e-02, 0.0000e+00, 0.0000e+00,\n",
       "            1.1036e-01, 0.0000e+00, 2.9078e-01, 0.0000e+00, 0.0000e+00,\n",
       "            0.0000e+00, 0.0000e+00, 0.0000e+00, 2.9295e-01, 1.7247e-03],\n",
       "           [3.5599e-01, 0.0000e+00, 0.0000e+00, 5.3831e-01, 0.0000e+00,\n",
       "            0.0000e+00, 9.0924e-02, 0.0000e+00, 2.3521e-01, 3.0130e-02,\n",
       "            3.0466e-02, 9.7588e-02, 0.0000e+00, 1.7547e-01, 4.2244e-01,\n",
       "            0.0000e+00, 3.0800e-01, 0.0000e+00, 0.0000e+00, 0.0000e+00,\n",
       "            2.3143e-01, 0.0000e+00, 0.0000e+00, 1.1090e-01, 0.0000e+00,\n",
       "            5.0292e-02, 2.5653e-01, 0.0000e+00, 0.0000e+00, 0.0000e+00],\n",
       "           [1.1466e-01, 0.0000e+00, 0.0000e+00, 0.0000e+00, 3.7953e-02,\n",
       "            0.0000e+00, 0.0000e+00, 1.0299e-02, 5.3731e-02, 1.2218e-01,\n",
       "            0.0000e+00, 0.0000e+00, 8.7466e-03, 3.8322e-02, 0.0000e+00,\n",
       "            0.0000e+00, 0.0000e+00, 6.7087e-02, 2.8155e-01, 0.0000e+00,\n",
       "            0.0000e+00, 2.1985e-01, 2.3709e-01, 0.0000e+00, 0.0000e+00,\n",
       "            0.0000e+00, 6.9151e-02, 5.3117e-02, 0.0000e+00, 7.7613e-02],\n",
       "           [0.0000e+00, 0.0000e+00, 6.0051e-02, 3.5972e-02, 2.6537e-01,\n",
       "            0.0000e+00, 3.6459e-01, 0.0000e+00, 0.0000e+00, 0.0000e+00,\n",
       "            2.1624e-01, 0.0000e+00, 0.0000e+00, 0.0000e+00, 0.0000e+00,\n",
       "            1.7674e-01, 0.0000e+00, 5.0379e-01, 1.5528e-01, 8.3128e-03,\n",
       "            2.1700e-02, 1.8746e-01, 0.0000e+00, 0.0000e+00, 0.0000e+00,\n",
       "            1.4229e-02, 9.0282e-02, 0.0000e+00, 0.0000e+00, 4.3302e-01],\n",
       "           [5.9838e-02, 3.6458e-01, 0.0000e+00, 0.0000e+00, 0.0000e+00,\n",
       "            5.4755e-03, 2.3101e-01, 1.0113e-02, 2.0038e-01, 0.0000e+00,\n",
       "            7.5653e-02, 1.0587e-01, 0.0000e+00, 0.0000e+00, 0.0000e+00,\n",
       "            1.2993e-01, 0.0000e+00, 0.0000e+00, 0.0000e+00, 2.1938e-02,\n",
       "            0.0000e+00, 1.6662e-01, 2.7624e-02, 3.8208e-02, 0.0000e+00,\n",
       "            0.0000e+00, 2.4551e-02, 7.9518e-02, 2.8461e-01, 0.0000e+00],\n",
       "           [2.2816e-02, 0.0000e+00, 0.0000e+00, 2.9132e-01, 1.1732e-01,\n",
       "            0.0000e+00, 2.8552e-01, 0.0000e+00, 1.3180e-01, 4.3399e-01,\n",
       "            3.2899e-01, 0.0000e+00, 0.0000e+00, 2.4058e-02, 2.1255e-01,\n",
       "            3.1237e-01, 0.0000e+00, 0.0000e+00, 2.3850e-01, 0.0000e+00,\n",
       "            1.3168e-01, 1.8538e-01, 0.0000e+00, 9.5238e-02, 1.0891e-01,\n",
       "            7.8963e-02, 0.0000e+00, 0.0000e+00, 0.0000e+00, 0.0000e+00],\n",
       "           [1.0053e-01, 0.0000e+00, 6.1861e-02, 2.0473e-01, 0.0000e+00,\n",
       "            0.0000e+00, 0.0000e+00, 0.0000e+00, 0.0000e+00, 0.0000e+00,\n",
       "            0.0000e+00, 2.1034e-01, 1.0999e-01, 0.0000e+00, 1.3850e-01,\n",
       "            2.0542e-01, 9.8897e-02, 0.0000e+00, 0.0000e+00, 5.9741e-02,\n",
       "            1.6346e-01, 0.0000e+00, 0.0000e+00, 0.0000e+00, 0.0000e+00,\n",
       "            0.0000e+00, 2.7879e-01, 2.7724e-01, 0.0000e+00, 0.0000e+00],\n",
       "           [2.7600e-01, 0.0000e+00, 0.0000e+00, 0.0000e+00, 1.2841e-01,\n",
       "            0.0000e+00, 1.3299e-01, 0.0000e+00, 0.0000e+00, 1.5665e-01,\n",
       "            9.1220e-02, 4.2725e-01, 3.2395e-01, 1.0622e-01, 1.0441e-01,\n",
       "            1.7513e-01, 1.6214e-01, 1.6006e-01, 1.6384e-01, 0.0000e+00,\n",
       "            8.9988e-02, 0.0000e+00, 0.0000e+00, 0.0000e+00, 0.0000e+00,\n",
       "            4.1839e-02, 0.0000e+00, 0.0000e+00, 3.4225e-02, 5.5159e-03],\n",
       "           [0.0000e+00, 0.0000e+00, 0.0000e+00, 2.3636e-01, 2.4400e-01,\n",
       "            6.4164e-02, 0.0000e+00, 0.0000e+00, 4.5589e-02, 0.0000e+00,\n",
       "            0.0000e+00, 5.1451e-01, 2.0593e-02, 0.0000e+00, 0.0000e+00,\n",
       "            3.5209e-01, 0.0000e+00, 8.7615e-02, 1.8751e-01, 1.6820e-01,\n",
       "            7.4408e-02, 0.0000e+00, 0.0000e+00, 0.0000e+00, 0.0000e+00,\n",
       "            0.0000e+00, 1.4404e-01, 6.7181e-02, 4.3742e-02, 0.0000e+00],\n",
       "           [0.0000e+00, 0.0000e+00, 0.0000e+00, 0.0000e+00, 4.8948e-02,\n",
       "            0.0000e+00, 9.7610e-02, 2.6886e-01, 0.0000e+00, 7.2920e-02,\n",
       "            0.0000e+00, 1.1106e-01, 2.1929e-01, 1.2910e-01, 1.8405e-01,\n",
       "            0.0000e+00, 3.1787e-01, 0.0000e+00, 1.8105e-01, 2.8604e-01,\n",
       "            4.0752e-01, 0.0000e+00, 0.0000e+00, 1.0878e-01, 2.5216e-01,\n",
       "            2.7522e-01, 2.5958e-01, 1.9822e-01, 1.0199e-01, 0.0000e+00],\n",
       "           [2.0738e-01, 0.0000e+00, 3.7649e-01, 0.0000e+00, 0.0000e+00,\n",
       "            2.0449e-01, 1.9570e-01, 5.2037e-01, 0.0000e+00, 1.9833e-01,\n",
       "            1.8055e-01, 0.0000e+00, 2.8968e-01, 0.0000e+00, 1.0015e-04,\n",
       "            0.0000e+00, 4.5418e-01, 4.1958e-03, 1.0385e-01, 0.0000e+00,\n",
       "            1.5160e-01, 0.0000e+00, 0.0000e+00, 0.0000e+00, 1.7962e-01,\n",
       "            0.0000e+00, 0.0000e+00, 1.1640e-02, 1.6479e-01, 0.0000e+00],\n",
       "           [4.6581e-02, 3.3793e-01, 0.0000e+00, 1.4630e-01, 0.0000e+00,\n",
       "            6.2886e-02, 0.0000e+00, 1.2158e-01, 0.0000e+00, 6.7937e-02,\n",
       "            8.2272e-02, 0.0000e+00, 0.0000e+00, 0.0000e+00, 3.1514e-02,\n",
       "            1.3487e-01, 4.3242e-01, 3.9145e-01, 1.8086e-01, 1.9404e-01,\n",
       "            0.0000e+00, 0.0000e+00, 0.0000e+00, 2.0351e-01, 0.0000e+00,\n",
       "            4.9651e-01, 0.0000e+00, 0.0000e+00, 3.6358e-01, 2.3425e-01],\n",
       "           [0.0000e+00, 0.0000e+00, 6.5572e-02, 0.0000e+00, 3.8769e-01,\n",
       "            2.6383e-01, 1.2048e-01, 0.0000e+00, 0.0000e+00, 0.0000e+00,\n",
       "            0.0000e+00, 4.1000e-01, 6.7166e-02, 0.0000e+00, 0.0000e+00,\n",
       "            0.0000e+00, 7.9115e-02, 8.5149e-02, 0.0000e+00, 0.0000e+00,\n",
       "            0.0000e+00, 0.0000e+00, 2.8242e-01, 2.1089e-01, 0.0000e+00,\n",
       "            0.0000e+00, 0.0000e+00, 0.0000e+00, 6.7904e-01, 0.0000e+00],\n",
       "           [0.0000e+00, 2.7334e-01, 2.1056e-01, 2.9759e-03, 0.0000e+00,\n",
       "            4.1997e-01, 0.0000e+00, 4.0890e-01, 6.3292e-02, 1.8677e-01,\n",
       "            0.0000e+00, 0.0000e+00, 5.0565e-02, 0.0000e+00, 5.8106e-02,\n",
       "            5.2212e-02, 0.0000e+00, 3.4214e-01, 3.2913e-02, 0.0000e+00,\n",
       "            2.7328e-01, 3.7720e-01, 0.0000e+00, 1.6799e-01, 0.0000e+00,\n",
       "            5.8991e-03, 2.0821e-02, 0.0000e+00, 2.8001e-02, 0.0000e+00],\n",
       "           [0.0000e+00, 0.0000e+00, 1.5544e-01, 0.0000e+00, 0.0000e+00,\n",
       "            2.0010e-01, 0.0000e+00, 2.0773e-01, 0.0000e+00, 8.9085e-02,\n",
       "            1.8297e-01, 5.7790e-01, 5.6340e-02, 3.6536e-02, 0.0000e+00,\n",
       "            2.0006e-02, 0.0000e+00, 0.0000e+00, 3.2096e-02, 2.8178e-01,\n",
       "            0.0000e+00, 1.8694e-02, 0.0000e+00, 0.0000e+00, 0.0000e+00,\n",
       "            0.0000e+00, 1.4136e-01, 0.0000e+00, 8.5615e-01, 0.0000e+00]]]],\n",
       "        device='cuda:0', grad_fn=<ViewBackward0>),\n",
       " torch.Size([1, 1, 30, 30]))"
      ]
     },
     "execution_count": 6,
     "metadata": {},
     "output_type": "execute_result"
    }
   ],
   "execution_count": 6
  },
  {
   "metadata": {},
   "cell_type": "markdown",
   "source": "### Setup Loss, optimizer and evaluation metrics",
   "id": "eee172db70a38518"
  },
  {
   "metadata": {
    "ExecuteTime": {
     "end_time": "2024-08-04T11:50:57.712646Z",
     "start_time": "2024-08-04T11:50:57.316941Z"
    }
   },
   "cell_type": "code",
   "source": [
    "loss_fn = torch.nn.MSELoss()\n",
    "optimizer = torch.optim.SGD(params=model.parameters(), lr=0.01)"
   ],
   "id": "1ce92989eac86aa2",
   "outputs": [],
   "execution_count": 7
  },
  {
   "metadata": {},
   "cell_type": "markdown",
   "source": "### Run Training Loop",
   "id": "518300e154e22dd8"
  },
  {
   "metadata": {
    "ExecuteTime": {
     "end_time": "2024-08-04T11:53:48.976742Z",
     "start_time": "2024-08-04T11:50:57.713505Z"
    }
   },
   "cell_type": "code",
   "source": [
    "from timeit import default_timer as timer \n",
    "\n",
    "episodes = 3\n",
    "epochs = 50\n",
    "\n",
    "time_start = timer()\n",
    "for epoch in range(epochs):\n",
    "    ### Training\n",
    "    train_loss = 0\n",
    "    train_accuracy = 0\n",
    "\n",
    "    model.train() # Set model into training mode\n",
    "    \n",
    "    for b, (X_train, y_train, challenge_ids) in enumerate(train_dataloader):\n",
    "        for challenge_id in challenge_ids:\n",
    "            X_shots, y_shots = train_dataset.get_samples(challenge_id, episodes)\n",
    "            X_shots, y_shots = X_shots.to(device) / 10, y_shots.to(device) / 10\n",
    "            \n",
    "            # Forward pass:\n",
    "            shots_pred = model(X_shots)\n",
    "            \n",
    "            # Calculate loss:\n",
    "            loss = loss_fn(shots_pred, y_shots)\n",
    "            \n",
    "            # Reset optimizer gradients:\n",
    "            optimizer.zero_grad()\n",
    "            \n",
    "            # Backward pass:\n",
    "            loss.backward()\n",
    "            \n",
    "            # Adjust parameters:\n",
    "            optimizer.step()\n",
    "        \n",
    "        # Send to device and normalize:\n",
    "        X_train, y_train = X_train.to(device) / 10, y_train.to(device) / 10\n",
    "        \n",
    "        # Forward pass:\n",
    "        train_pred = model(X_train)\n",
    "        \n",
    "        # Calculate loss:\n",
    "        loss = loss_fn(train_pred, y_train)\n",
    "        train_loss += loss\n",
    "        train_accuracy += accuracy_fn(y_train, norm_arc20204(train_pred))\n",
    "        \n",
    "        # Reset optimizer gradients:\n",
    "        optimizer.zero_grad()\n",
    "        \n",
    "        # Backward pass:\n",
    "        loss.backward()\n",
    "        \n",
    "        # Adjust parameters:\n",
    "        optimizer.step()\n",
    "\n",
    "    train_loss /= len(train_dataloader.dataset)\n",
    "    train_accuracy /= len(train_dataloader.dataset)\n",
    "    \n",
    "    ### Testing\n",
    "    test_loss = 0\n",
    "    test_accuracy = 0\n",
    "    model.eval() # set model into evaluation mode\n",
    "\n",
    "    with torch.inference_mode():\n",
    "        for X_test, y_test, _ in test_dataloader:\n",
    "            # Send to device and normalize:\n",
    "            X_test, y_test = X_test.to(device) / 10, y_test.to(device) / 10\n",
    "\n",
    "            # Forward pass:\n",
    "            test_pred = model(X_test)\n",
    "\n",
    "            # Calculate loss:\n",
    "            loss = loss_fn(test_pred, y_test)\n",
    "            test_loss += loss\n",
    "            test_accuracy += accuracy_fn(y_test, norm_arc20204(test_pred))\n",
    "    \n",
    "        test_loss /= len(test_dataloader.dataset)\n",
    "        test_accuracy /= len(test_dataloader.dataset)\n",
    "    \n",
    "    print(f\"Epoch {epoch + 1}/{epochs} | Train loss: {train_loss:.5f} | Train accuracy: {train_accuracy:.2f}% | Test loss: {test_loss:.5f} | Test accuracy: {test_accuracy:.2f}%\")\n",
    "time_end = timer()\n",
    "\n",
    "print(f\"Total time taken: {time_end - time_start}\")"
   ],
   "id": "96d6551b2f990249",
   "outputs": [
    {
     "name": "stdout",
     "output_type": "stream",
     "text": [
      "Epoch 1/50 | Train loss: 0.00983 | Train accuracy: 0.10% | Test loss: 0.00997 | Test accuracy: 0.23%\n",
      "Epoch 2/50 | Train loss: 0.00886 | Train accuracy: 0.09% | Test loss: 0.00922 | Test accuracy: 0.20%\n",
      "Epoch 3/50 | Train loss: 0.00858 | Train accuracy: 0.07% | Test loss: 0.00893 | Test accuracy: 0.20%\n",
      "Epoch 4/50 | Train loss: 0.00824 | Train accuracy: 0.06% | Test loss: 0.00868 | Test accuracy: 0.19%\n",
      "Epoch 5/50 | Train loss: 0.00800 | Train accuracy: 0.06% | Test loss: 0.00845 | Test accuracy: 0.19%\n",
      "Epoch 6/50 | Train loss: 0.00782 | Train accuracy: 0.06% | Test loss: 0.00826 | Test accuracy: 0.19%\n",
      "Epoch 7/50 | Train loss: 0.00756 | Train accuracy: 0.06% | Test loss: 0.00803 | Test accuracy: 0.18%\n",
      "Epoch 8/50 | Train loss: 0.00738 | Train accuracy: 0.07% | Test loss: 0.00784 | Test accuracy: 0.20%\n",
      "Epoch 9/50 | Train loss: 0.00722 | Train accuracy: 0.07% | Test loss: 0.00770 | Test accuracy: 0.20%\n",
      "Epoch 10/50 | Train loss: 0.00717 | Train accuracy: 0.07% | Test loss: 0.00768 | Test accuracy: 0.18%\n",
      "Epoch 11/50 | Train loss: 0.00708 | Train accuracy: 0.07% | Test loss: 0.00760 | Test accuracy: 0.18%\n",
      "Epoch 12/50 | Train loss: 0.00693 | Train accuracy: 0.07% | Test loss: 0.00748 | Test accuracy: 0.18%\n",
      "Epoch 13/50 | Train loss: 0.00689 | Train accuracy: 0.07% | Test loss: 0.00740 | Test accuracy: 0.20%\n",
      "Epoch 14/50 | Train loss: 0.00683 | Train accuracy: 0.07% | Test loss: 0.00754 | Test accuracy: 0.18%\n",
      "Epoch 15/50 | Train loss: 0.00672 | Train accuracy: 0.07% | Test loss: 0.00725 | Test accuracy: 0.19%\n",
      "Epoch 16/50 | Train loss: 0.00668 | Train accuracy: 0.07% | Test loss: 0.00731 | Test accuracy: 0.17%\n",
      "Epoch 17/50 | Train loss: 0.00665 | Train accuracy: 0.07% | Test loss: 0.00727 | Test accuracy: 0.18%\n",
      "Epoch 18/50 | Train loss: 0.00665 | Train accuracy: 0.07% | Test loss: 0.00711 | Test accuracy: 0.19%\n",
      "Epoch 19/50 | Train loss: 0.00664 | Train accuracy: 0.07% | Test loss: 0.00718 | Test accuracy: 0.18%\n",
      "Epoch 20/50 | Train loss: 0.00657 | Train accuracy: 0.07% | Test loss: 0.00722 | Test accuracy: 0.19%\n",
      "Epoch 21/50 | Train loss: 0.00654 | Train accuracy: 0.07% | Test loss: 0.00723 | Test accuracy: 0.18%\n",
      "Epoch 22/50 | Train loss: 0.00648 | Train accuracy: 0.06% | Test loss: 0.00712 | Test accuracy: 0.17%\n",
      "Epoch 23/50 | Train loss: 0.00641 | Train accuracy: 0.07% | Test loss: 0.00708 | Test accuracy: 0.18%\n",
      "Epoch 24/50 | Train loss: 0.00635 | Train accuracy: 0.07% | Test loss: 0.00703 | Test accuracy: 0.19%\n",
      "Epoch 25/50 | Train loss: 0.00630 | Train accuracy: 0.07% | Test loss: 0.00707 | Test accuracy: 0.18%\n",
      "Epoch 26/50 | Train loss: 0.00625 | Train accuracy: 0.07% | Test loss: 0.00685 | Test accuracy: 0.17%\n",
      "Epoch 27/50 | Train loss: 0.00616 | Train accuracy: 0.07% | Test loss: 0.00694 | Test accuracy: 0.17%\n",
      "Epoch 28/50 | Train loss: 0.00616 | Train accuracy: 0.07% | Test loss: 0.00692 | Test accuracy: 0.18%\n",
      "Epoch 29/50 | Train loss: 0.00615 | Train accuracy: 0.07% | Test loss: 0.00694 | Test accuracy: 0.21%\n",
      "Epoch 30/50 | Train loss: 0.00615 | Train accuracy: 0.07% | Test loss: 0.00683 | Test accuracy: 0.18%\n",
      "Epoch 31/50 | Train loss: 0.00609 | Train accuracy: 0.07% | Test loss: 0.00692 | Test accuracy: 0.17%\n",
      "Epoch 32/50 | Train loss: 0.00604 | Train accuracy: 0.07% | Test loss: 0.00688 | Test accuracy: 0.17%\n",
      "Epoch 33/50 | Train loss: 0.00600 | Train accuracy: 0.07% | Test loss: 0.00687 | Test accuracy: 0.17%\n",
      "Epoch 34/50 | Train loss: 0.00598 | Train accuracy: 0.07% | Test loss: 0.00678 | Test accuracy: 0.16%\n",
      "Epoch 35/50 | Train loss: 0.00594 | Train accuracy: 0.07% | Test loss: 0.00672 | Test accuracy: 0.17%\n",
      "Epoch 36/50 | Train loss: 0.00590 | Train accuracy: 0.07% | Test loss: 0.00668 | Test accuracy: 0.18%\n",
      "Epoch 37/50 | Train loss: 0.00589 | Train accuracy: 0.07% | Test loss: 0.00680 | Test accuracy: 0.16%\n",
      "Epoch 38/50 | Train loss: 0.00586 | Train accuracy: 0.07% | Test loss: 0.00663 | Test accuracy: 0.18%\n",
      "Epoch 39/50 | Train loss: 0.00582 | Train accuracy: 0.07% | Test loss: 0.00665 | Test accuracy: 0.17%\n",
      "Epoch 40/50 | Train loss: 0.00579 | Train accuracy: 0.07% | Test loss: 0.00658 | Test accuracy: 0.17%\n",
      "Epoch 41/50 | Train loss: 0.00578 | Train accuracy: 0.07% | Test loss: 0.00660 | Test accuracy: 0.17%\n",
      "Epoch 42/50 | Train loss: 0.00576 | Train accuracy: 0.07% | Test loss: 0.00659 | Test accuracy: 0.17%\n",
      "Epoch 43/50 | Train loss: 0.00574 | Train accuracy: 0.07% | Test loss: 0.00651 | Test accuracy: 0.17%\n",
      "Epoch 44/50 | Train loss: 0.00572 | Train accuracy: 0.07% | Test loss: 0.00650 | Test accuracy: 0.17%\n",
      "Epoch 45/50 | Train loss: 0.00569 | Train accuracy: 0.07% | Test loss: 0.00654 | Test accuracy: 0.16%\n",
      "Epoch 46/50 | Train loss: 0.00567 | Train accuracy: 0.07% | Test loss: 0.00652 | Test accuracy: 0.16%\n",
      "Epoch 47/50 | Train loss: 0.00567 | Train accuracy: 0.07% | Test loss: 0.00650 | Test accuracy: 0.18%\n",
      "Epoch 48/50 | Train loss: 0.00566 | Train accuracy: 0.07% | Test loss: 0.00650 | Test accuracy: 0.16%\n",
      "Epoch 49/50 | Train loss: 0.00565 | Train accuracy: 0.07% | Test loss: 0.00658 | Test accuracy: 0.16%\n",
      "Epoch 50/50 | Train loss: 0.00565 | Train accuracy: 0.07% | Test loss: 0.00677 | Test accuracy: 0.16%\n",
      "Total time taken: 171.2583015320015\n"
     ]
    }
   ],
   "execution_count": 8
  },
  {
   "metadata": {},
   "cell_type": "markdown",
   "source": "# Evaluate Model",
   "id": "12e02627456a3a8b"
  },
  {
   "metadata": {
    "ExecuteTime": {
     "end_time": "2024-08-04T11:53:49.802540Z",
     "start_time": "2024-08-04T11:53:48.978007Z"
    }
   },
   "cell_type": "code",
   "source": [
    "evaluations = 3\n",
    "\n",
    "evaluation_dataset = FewShotDataset(\n",
    "    dataset_dir=dataset_dir,\n",
    "    dataset_name='evaluation'\n",
    ")\n",
    "\n",
    "model.eval() # set model into evaluation mode\n",
    "with torch.inference_mode():\n",
    "    \n",
    "    for _ in range(evaluations):\n",
    "        X, y, _ = random.choice(evaluation_dataset)\n",
    "        X, y = X.to(device) / 10, y.to(device) / 10\n",
    "        \n",
    "        y_pred = model(X)[0]\n",
    "        y_pred_norm = norm_arc20204(y_pred)\n",
    "        \n",
    "        plot.input_and_output(X * 10, y * 10, y_pred_norm * 10)\n",
    "        accuracy_pred = accuracy_fn(y, y_pred_norm)\n",
    "        print(f\"Accuracy: {accuracy_pred:.2f}% ({int(accuracy_pred / 100 * 900)}/900)\")\n"
   ],
   "id": "14b6af5afe472c9e",
   "outputs": [
    {
     "data": {
      "text/plain": [
       "<Figure size 1920x1440 with 3 Axes>"
      ],
      "image/png": "[encoded data removed]"
     },
     "metadata": {},
     "output_type": "display_data"
    },
    {
     "name": "stdout",
     "output_type": "stream",
     "text": [
      "Accuracy: 5.33% (48/900)\n"
     ]
    },
    {
     "data": {
      "text/plain": [
       "<Figure size 1920x1440 with 3 Axes>"
      ],
      "image/png": "[encoded data removed]"
     },
     "metadata": {},
     "output_type": "display_data"
    },
    {
     "name": "stdout",
     "output_type": "stream",
     "text": [
      "Accuracy: 53.67% (482/900)\n"
     ]
    },
    {
     "data": {
      "text/plain": [
       "<Figure size 1920x1440 with 3 Axes>"
      ],
      "image/png": "[encoded data removed]"
     },
     "metadata": {},
     "output_type": "display_data"
    },
    {
     "name": "stdout",
     "output_type": "stream",
     "text": [
      "Accuracy: 52.00% (468/900)\n"
     ]
    }
   ],
   "execution_count": 9
  },
  {
   "metadata": {
    "ExecuteTime": {
     "end_time": "2024-08-04T11:53:49.805585Z",
     "start_time": "2024-08-04T11:53:49.803647Z"
    }
   },
   "cell_type": "code",
   "source": "",
   "id": "283bc873102e917a",
   "outputs": [],
   "execution_count": 9
  }
 ],
 "metadata": {
  "kernelspec": {
   "display_name": "Python 3 (ipykernel)",
   "language": "python",
   "name": "python3"
  },
  "language_info": {
   "codemirror_mode": {
    "name": "ipython",
    "version": 3
   },
   "file_extension": ".py",
   "mimetype": "text/x-python",
   "name": "python",
   "nbconvert_exporter": "python",
   "pygments_lexer": "ipython3",
   "version": "3.12.4"
  }
 },
 "nbformat": 4,
 "nbformat_minor": 5
}
