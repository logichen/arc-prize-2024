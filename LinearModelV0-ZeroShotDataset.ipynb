{
 "cells": [
  {
   "metadata": {},
   "cell_type": "markdown",
   "source": [
    "# LinearModelV0 with ZeroShotDataset\n",
    "\n",
    "This notebook is an experimental approach on solving the ARC challenge. See https://arcprize.org/ for more details."
   ],
   "id": "2deab4fa4b404fd9"
  },
  {
   "cell_type": "code",
   "id": "469d911a-eb08-40db-9491-58582e0a5244",
   "metadata": {
    "ExecuteTime": {
     "end_time": "2024-08-05T13:08:15.806060Z",
     "start_time": "2024-08-05T13:08:14.577479Z"
    }
   },
   "source": [
    "import os\n",
    "import random\n",
    "\n",
    "import torch\n",
    "\n",
    "from pathlib import Path\n",
    "\n",
    "from arc2024.data import ZeroShotDataset\n",
    "from arc2024.utils import plot\n",
    "from arc2024.utils.calc import accuracy_fn, norm_arc20204\n",
    "from arc2024.models.linear import LinearModelV0"
   ],
   "outputs": [],
   "execution_count": 1
  },
  {
   "metadata": {},
   "cell_type": "markdown",
   "source": "# Setup Device Agnostic Environment",
   "id": "238e55441bbcf17a"
  },
  {
   "metadata": {
    "ExecuteTime": {
     "end_time": "2024-08-05T13:08:17.333319Z",
     "start_time": "2024-08-05T13:08:15.807397Z"
    }
   },
   "cell_type": "code",
   "source": [
    "import arc2024.utils.amdgpu as amd\n",
    "\n",
    "if amd.is_amdgpu_on_linux():\n",
    "    # Use ROCm on rx6600/6600xt by setting the environment variable HSA_OVERRIDE_GFX_VERSION to \"10.3.0\"\n",
    "    # Source: https://github.com/ROCm/ROCm/issues/1698#issuecomment-1261646854\n",
    "    amd.setup_amdgpu_environment(\n",
    "        hsa_override_gfx_version=\"10.3.0\"\n",
    "    )\n",
    "\n",
    "device = torch.device('cuda' if torch.cuda.is_available() else 'cpu')\n",
    "device"
   ],
   "id": "564e0858a54fdba8",
   "outputs": [
    {
     "data": {
      "text/plain": [
       "device(type='cuda')"
      ]
     },
     "execution_count": 2,
     "metadata": {},
     "output_type": "execute_result"
    }
   ],
   "execution_count": 2
  },
  {
   "metadata": {},
   "cell_type": "markdown",
   "source": "## Prepare Datasets and DataLoaders",
   "id": "e1d56ce2d680401c"
  },
  {
   "metadata": {
    "ExecuteTime": {
     "end_time": "2024-08-05T13:08:17.437730Z",
     "start_time": "2024-08-05T13:08:17.334303Z"
    }
   },
   "cell_type": "code",
   "source": [
    "dataset_dir = Path('datasets')\n",
    "\n",
    "BATCH_SIZE = 32\n",
    "NUM_WORKERS = os.cpu_count()\n",
    "\n",
    "train_dataset = ZeroShotDataset(\n",
    "    dataset_dir=dataset_dir,\n",
    "    dataset_name='training',\n",
    "    mode='train',\n",
    "    permutations_enabled=True\n",
    ")\n",
    "train_dataloader = torch.utils.data.DataLoader(\n",
    "    dataset=train_dataset,\n",
    "    batch_size=BATCH_SIZE,\n",
    "    shuffle=True,\n",
    "    num_workers=NUM_WORKERS\n",
    ")\n",
    "\n",
    "test_dataset = ZeroShotDataset(\n",
    "    dataset_dir=dataset_dir,\n",
    "    dataset_name='training',\n",
    "    mode='test'\n",
    ")\n",
    "test_dataloader = torch.utils.data.DataLoader(\n",
    "    dataset=test_dataset,\n",
    "    batch_size=BATCH_SIZE,\n",
    "    shuffle=True,\n",
    "    num_workers=NUM_WORKERS\n",
    ")"
   ],
   "id": "bb2cae609fdde826",
   "outputs": [
    {
     "ename": "TypeError",
     "evalue": "ZeroShotDataset.__init__() got an unexpected keyword argument 'permutations'",
     "output_type": "error",
     "traceback": [
      "\u001B[0;31m---------------------------------------------------------------------------\u001B[0m",
      "\u001B[0;31mTypeError\u001B[0m                                 Traceback (most recent call last)",
      "Cell \u001B[0;32mIn[3], line 6\u001B[0m\n\u001B[1;32m      3\u001B[0m BATCH_SIZE \u001B[38;5;241m=\u001B[39m \u001B[38;5;241m32\u001B[39m\n\u001B[1;32m      4\u001B[0m NUM_WORKERS \u001B[38;5;241m=\u001B[39m os\u001B[38;5;241m.\u001B[39mcpu_count()\n\u001B[0;32m----> 6\u001B[0m train_dataset \u001B[38;5;241m=\u001B[39m \u001B[43mZeroShotDataset\u001B[49m\u001B[43m(\u001B[49m\n\u001B[1;32m      7\u001B[0m \u001B[43m    \u001B[49m\u001B[43mdataset_dir\u001B[49m\u001B[38;5;241;43m=\u001B[39;49m\u001B[43mdataset_dir\u001B[49m\u001B[43m,\u001B[49m\n\u001B[1;32m      8\u001B[0m \u001B[43m    \u001B[49m\u001B[43mdataset_name\u001B[49m\u001B[38;5;241;43m=\u001B[39;49m\u001B[38;5;124;43m'\u001B[39;49m\u001B[38;5;124;43mtraining\u001B[39;49m\u001B[38;5;124;43m'\u001B[39;49m\u001B[43m,\u001B[49m\n\u001B[1;32m      9\u001B[0m \u001B[43m    \u001B[49m\u001B[43mmode\u001B[49m\u001B[38;5;241;43m=\u001B[39;49m\u001B[38;5;124;43m'\u001B[39;49m\u001B[38;5;124;43mtrain\u001B[39;49m\u001B[38;5;124;43m'\u001B[39;49m\u001B[43m,\u001B[49m\n\u001B[1;32m     10\u001B[0m \u001B[43m    \u001B[49m\u001B[43mpermutations\u001B[49m\u001B[38;5;241;43m=\u001B[39;49m\u001B[38;5;28;43;01mTrue\u001B[39;49;00m\n\u001B[1;32m     11\u001B[0m \u001B[43m)\u001B[49m\n\u001B[1;32m     12\u001B[0m train_dataloader \u001B[38;5;241m=\u001B[39m torch\u001B[38;5;241m.\u001B[39mutils\u001B[38;5;241m.\u001B[39mdata\u001B[38;5;241m.\u001B[39mDataLoader(\n\u001B[1;32m     13\u001B[0m     dataset\u001B[38;5;241m=\u001B[39mtrain_dataset,\n\u001B[1;32m     14\u001B[0m     batch_size\u001B[38;5;241m=\u001B[39mBATCH_SIZE,\n\u001B[1;32m     15\u001B[0m     shuffle\u001B[38;5;241m=\u001B[39m\u001B[38;5;28;01mTrue\u001B[39;00m,\n\u001B[1;32m     16\u001B[0m     num_workers\u001B[38;5;241m=\u001B[39mNUM_WORKERS\n\u001B[1;32m     17\u001B[0m )\n\u001B[1;32m     19\u001B[0m test_dataset \u001B[38;5;241m=\u001B[39m ZeroShotDataset(\n\u001B[1;32m     20\u001B[0m     dataset_dir\u001B[38;5;241m=\u001B[39mdataset_dir,\n\u001B[1;32m     21\u001B[0m     dataset_name\u001B[38;5;241m=\u001B[39m\u001B[38;5;124m'\u001B[39m\u001B[38;5;124mtraining\u001B[39m\u001B[38;5;124m'\u001B[39m,\n\u001B[1;32m     22\u001B[0m     mode\u001B[38;5;241m=\u001B[39m\u001B[38;5;124m'\u001B[39m\u001B[38;5;124mtest\u001B[39m\u001B[38;5;124m'\u001B[39m\n\u001B[1;32m     23\u001B[0m )\n",
      "\u001B[0;31mTypeError\u001B[0m: ZeroShotDataset.__init__() got an unexpected keyword argument 'permutations'"
     ]
    }
   ],
   "execution_count": 3
  },
  {
   "metadata": {},
   "cell_type": "markdown",
   "source": "## Train Model",
   "id": "2177ae9236464708"
  },
  {
   "metadata": {
    "ExecuteTime": {
     "end_time": "2024-08-05T13:11:20.829053Z",
     "start_time": "2024-08-05T13:11:20.817848Z"
    }
   },
   "cell_type": "code",
   "source": [
    "model = LinearModelV0(\n",
    "    in_features=900, # 30x30\n",
    "    hidden_features=600, # do some compression\n",
    "    out_features=900\n",
    ").to(device)\n",
    "model"
   ],
   "id": "3f0a32b80655a8ce",
   "outputs": [
    {
     "data": {
      "text/plain": [
       "LinearModelV0(\n",
       "  (flatten): Flatten(start_dim=1, end_dim=-1)\n",
       "  (linear1): Linear(in_features=900, out_features=600, bias=True)\n",
       "  (linear2): Linear(in_features=600, out_features=900, bias=True)\n",
       "  (unflatten): Unflatten(dim=1, unflattened_size=(1, 30, 30))\n",
       ")"
      ]
     },
     "execution_count": 6,
     "metadata": {},
     "output_type": "execute_result"
    }
   ],
   "execution_count": 6
  },
  {
   "metadata": {},
   "cell_type": "markdown",
   "source": "### Verify Input and Output Shapes with Random Tensor",
   "id": "73ba81c9ca21ee99"
  },
  {
   "metadata": {
    "ExecuteTime": {
     "end_time": "2024-08-04T09:02:51.464373Z",
     "start_time": "2024-08-04T09:02:51.334613Z"
    }
   },
   "cell_type": "code",
   "source": [
    "x = torch.rand([1, 30, 30]).to(device)\n",
    "model(x).shape"
   ],
   "id": "e1b7befceacdb2e",
   "outputs": [
    {
     "data": {
      "text/plain": [
       "torch.Size([1, 1, 30, 30])"
      ]
     },
     "execution_count": 5,
     "metadata": {},
     "output_type": "execute_result"
    }
   ],
   "execution_count": 5
  },
  {
   "metadata": {
    "ExecuteTime": {
     "end_time": "2024-08-04T09:02:51.566099Z",
     "start_time": "2024-08-04T09:02:51.465171Z"
    }
   },
   "cell_type": "code",
   "source": [
    "X, y = train_dataset[0]\n",
    "X = X.to(device) / 10\n",
    "y = y.to(device) / 10\n",
    "\n",
    "y_pred = model(X)\n",
    "y_pred, y_pred.shape"
   ],
   "id": "c490ced35ddd64a0",
   "outputs": [
    {
     "data": {
      "text/plain": [
       "(tensor([[[[-4.8337e-01,  4.8315e-01,  3.6437e-01, -5.6359e-01,  6.2014e-01,\n",
       "            -6.7032e-02,  1.7201e-02, -7.0121e-02, -4.7959e-01, -1.2394e-01,\n",
       "            -1.4778e-01,  9.1916e-01, -2.1771e-01,  5.1516e-01, -1.6900e-01,\n",
       "            -6.5748e-02,  2.2605e-02, -2.5891e-01, -2.5802e-01,  4.5856e-02,\n",
       "            -7.2338e-02,  7.2264e-01, -1.8200e-01,  1.4919e-02, -8.3140e-02,\n",
       "             2.1500e-01, -1.9390e-02, -5.4412e-01, -5.0965e-02,  7.0793e-01],\n",
       "           [-2.0728e-02,  5.4514e-01, -6.0683e-02,  5.9501e-02, -7.4433e-01,\n",
       "            -6.7553e-01,  3.9786e-01, -1.4026e-01,  3.6978e-01,  4.1006e-02,\n",
       "             1.7110e-01, -2.1978e-01, -2.0643e-01, -4.7765e-01,  4.7733e-02,\n",
       "            -1.2846e-01,  4.2846e-01, -4.5792e-02,  5.1822e-01, -9.4144e-02,\n",
       "            -3.6969e-01, -1.2886e-01,  2.8938e-01, -1.5998e-01,  2.9505e-01,\n",
       "             6.1630e-01,  1.5193e-01,  3.0220e-01,  2.7131e-01, -6.6088e-02],\n",
       "           [-8.5810e-02, -4.4198e-02,  4.2329e-01, -1.8665e-01,  5.3957e-02,\n",
       "             9.4372e-01,  5.1522e-01,  4.9535e-02,  4.9305e-01, -1.1505e-01,\n",
       "             4.8415e-02, -9.2483e-02,  2.1547e-02, -2.0128e-01, -2.9598e-01,\n",
       "            -3.8664e-01, -2.5236e-01,  4.1115e-02, -5.4129e-01,  5.0746e-01,\n",
       "            -1.1387e-01,  3.6555e-01,  1.6686e-01,  7.6541e-02, -3.7510e-02,\n",
       "            -5.4265e-02,  2.6273e-01,  2.1290e-01,  3.1903e-02,  1.0428e-01],\n",
       "           [ 1.4161e-01,  5.8231e-03,  1.0481e-01, -1.9972e-01,  3.9910e-01,\n",
       "            -3.8682e-01,  1.2757e-01,  2.8285e-02,  1.7974e-01,  4.8516e-01,\n",
       "            -1.9231e-01, -1.9396e-01, -4.7163e-01,  1.0992e-01,  5.6961e-01,\n",
       "             3.9444e-01,  3.9445e-01, -1.4062e-01, -1.3606e-01,  1.8319e-01,\n",
       "             2.6012e-02,  2.1781e-01,  8.1256e-03, -2.1442e-01,  2.8264e-01,\n",
       "             4.0281e-01, -5.3428e-01, -3.0017e-01,  1.5258e-01,  3.3650e-01],\n",
       "           [ 5.6228e-01,  2.0439e-01, -2.6401e-01,  1.1070e-01, -4.3604e-01,\n",
       "            -1.6361e-01, -8.3430e-02, -8.4837e-02,  1.5420e-01,  1.7113e-01,\n",
       "            -2.9058e-04, -1.0800e-01,  1.0412e-02, -4.7428e-02, -1.8887e-01,\n",
       "            -6.1550e-02, -4.4854e-02,  3.7006e-01, -2.3107e-01, -5.1429e-01,\n",
       "             3.9044e-01, -2.7383e-01,  2.2770e-01,  2.4041e-01,  6.3263e-01,\n",
       "             3.0919e-01, -2.2868e-01, -4.2422e-02, -4.5046e-01, -1.0635e-02],\n",
       "           [-1.4507e-01,  3.2765e-01, -2.7945e-01,  1.6684e-01,  2.7038e-01,\n",
       "            -1.6476e-01,  3.4525e-01,  2.1232e-01,  2.8514e-02,  4.3406e-01,\n",
       "            -1.0686e-01,  2.2355e-01,  5.3219e-01,  4.7305e-01, -2.3613e-01,\n",
       "             2.6535e-01, -4.5756e-02,  1.5198e-01,  2.4507e-01, -4.9665e-02,\n",
       "             3.7630e-01,  6.0882e-01,  6.9837e-02,  3.0556e-01, -4.3547e-01,\n",
       "             5.2101e-02, -3.5813e-01, -2.0990e-01, -3.5342e-01, -5.3223e-02],\n",
       "           [ 9.8490e-01,  2.9658e-01,  6.2655e-01, -1.8745e-01, -7.4745e-01,\n",
       "            -5.4386e-01, -3.6913e-01, -2.3017e-01, -4.7724e-02,  5.0501e-02,\n",
       "             2.2752e-01, -7.8408e-02,  1.1506e-02,  5.3191e-01,  5.6384e-01,\n",
       "             2.8855e-01,  1.1880e-01,  5.1026e-03,  7.9549e-01, -2.2374e-01,\n",
       "            -8.3015e-02,  3.2749e-01,  6.5391e-01,  1.5335e-01,  2.4774e-01,\n",
       "            -6.1108e-02, -1.3227e-01,  8.4570e-02,  1.7997e-01, -1.4045e-01],\n",
       "           [-3.7290e-01, -1.0196e-02,  2.7741e-01, -2.6915e-01,  3.9259e-02,\n",
       "             1.2283e-01,  2.1937e-01,  2.3208e-01,  4.3184e-01, -7.7776e-02,\n",
       "            -5.3480e-01, -9.0235e-02, -1.3869e-01, -7.4412e-01, -5.8569e-01,\n",
       "            -5.9547e-01, -3.1728e-01, -5.0853e-01, -3.1897e-02,  4.0337e-01,\n",
       "            -6.3231e-01,  5.9469e-01, -2.7298e-01, -3.1320e-02,  6.3718e-01,\n",
       "             3.8847e-02, -4.0102e-01,  3.4351e-01,  2.7056e-01, -2.3614e-01],\n",
       "           [-1.5200e-01, -8.1731e-02,  2.6823e-01, -5.1605e-01,  1.4661e-01,\n",
       "            -4.5503e-01,  4.8496e-02, -1.3001e-01,  4.4762e-01,  3.7172e-01,\n",
       "             4.4182e-01, -1.8109e-01, -2.7840e-01,  4.2096e-02, -5.9049e-02,\n",
       "             1.9881e-01,  1.5972e-01,  5.9532e-02,  1.2679e-02, -1.3847e-01,\n",
       "             2.5897e-01,  4.6326e-01, -3.7605e-01,  6.5371e-01, -2.0197e-01,\n",
       "             1.7902e-01,  2.7779e-01,  5.7879e-01,  1.2907e-02,  3.4104e-01],\n",
       "           [ 5.0007e-01, -2.6577e-01,  6.6512e-01,  6.3165e-01,  3.1328e-02,\n",
       "             2.0774e-02,  3.6710e-01,  4.2683e-01,  2.6133e-01, -4.1343e-01,\n",
       "            -5.2159e-02,  6.7491e-01, -6.1771e-03,  5.8212e-02,  6.2615e-01,\n",
       "            -9.1038e-02,  1.1581e-01, -3.7675e-01,  2.6064e-01, -1.8183e-01,\n",
       "            -6.1358e-01,  6.8307e-01, -2.0401e-02,  2.7794e-01,  9.3900e-02,\n",
       "            -4.5374e-01, -2.9913e-01,  4.3895e-01,  1.6186e-01, -1.4611e-01],\n",
       "           [-1.3173e-01, -2.3370e-02, -2.6124e-01,  5.7604e-01,  2.8483e-01,\n",
       "            -3.8411e-01, -2.3133e-01, -7.4898e-02,  2.1710e-01,  4.5228e-01,\n",
       "             5.4208e-02,  1.5260e-01,  2.1587e-01,  4.3209e-01, -2.6141e-01,\n",
       "             1.0938e-01, -4.1946e-01,  3.6224e-01,  1.3522e-02,  2.5634e-01,\n",
       "            -2.3485e-01,  4.4412e-02, -3.7527e-02, -7.6971e-03,  1.1297e-01,\n",
       "            -4.9063e-01, -9.3916e-02, -1.1584e-01,  1.8848e-01,  4.6304e-01],\n",
       "           [-1.9517e-01, -2.5031e-01, -2.6791e-01, -8.1154e-02, -7.2034e-02,\n",
       "            -1.0090e-01,  4.2423e-01,  1.2699e-01,  5.7078e-02, -3.3315e-01,\n",
       "             3.7147e-01,  2.4971e-01,  7.3660e-02, -4.7145e-01, -2.8608e-01,\n",
       "            -4.5012e-02,  1.7064e-01,  4.7082e-01,  7.1797e-03,  5.2425e-01,\n",
       "            -1.7360e-01,  2.2776e-01, -2.5871e-01,  1.6126e-01,  5.9220e-02,\n",
       "            -1.5001e-01,  2.1112e-01, -8.5647e-02,  2.4736e-01, -4.0427e-01],\n",
       "           [-5.4295e-01,  1.8458e-01, -7.4947e-02,  8.1312e-01,  7.0210e-03,\n",
       "             5.1703e-02,  5.7791e-02,  2.6149e-01, -4.6634e-01, -2.3022e-03,\n",
       "            -2.5064e-01, -1.2289e-01, -8.5206e-02,  4.5835e-01,  1.0936e-01,\n",
       "            -7.9431e-02,  3.7321e-02, -3.5921e-01,  4.6272e-01, -5.0202e-01,\n",
       "            -6.8364e-01, -3.0242e-01, -5.3922e-01, -8.1604e-02, -5.3298e-01,\n",
       "             7.8796e-02, -3.1767e-01,  5.3943e-01, -3.8773e-01, -6.1004e-01],\n",
       "           [-1.8945e-02,  3.2014e-01,  3.9490e-01,  9.7923e-02,  2.1236e-01,\n",
       "             1.6142e-01, -1.0568e-01,  9.0312e-02, -3.4819e-01, -6.8255e-02,\n",
       "            -1.4853e-01, -4.7330e-01,  7.1720e-02,  2.3241e-01, -6.4679e-03,\n",
       "            -2.8070e-01, -5.2241e-01, -4.1575e-02,  4.5118e-01, -4.7343e-01,\n",
       "            -6.3390e-01, -3.4132e-01,  3.6908e-02,  1.6355e-01, -3.3030e-01,\n",
       "            -2.6613e-01,  2.9264e-01, -2.7776e-01, -2.8638e-01,  1.6716e-02],\n",
       "           [ 6.5127e-01, -2.7455e-01,  1.7013e-01,  4.4679e-01, -5.5359e-01,\n",
       "             1.3792e-02, -3.0005e-01, -3.3985e-02,  7.8898e-02,  6.9432e-02,\n",
       "             1.0069e-01,  2.5707e-01, -5.4267e-01, -5.4625e-01,  1.5139e-01,\n",
       "            -3.6017e-01,  6.3716e-03,  6.5660e-01, -1.6662e-01, -1.4800e-02,\n",
       "             4.3107e-01,  6.2936e-01,  1.6808e-01, -1.2344e-01,  1.4365e-01,\n",
       "            -1.3065e-01, -5.4476e-03,  7.9649e-02, -6.4784e-01,  1.7865e-01],\n",
       "           [ 4.2179e-02, -5.2450e-02,  5.1012e-01,  1.7771e-01,  2.5735e-02,\n",
       "             2.7862e-01, -2.6710e-01, -2.1730e-02, -6.5095e-01,  6.8355e-01,\n",
       "             1.6283e-01,  3.1444e-01, -2.6219e-01, -3.6385e-02,  1.8842e-01,\n",
       "            -5.0121e-02,  1.9807e-01,  3.8646e-02,  6.8440e-02,  4.4610e-01,\n",
       "             1.7738e-01,  6.5594e-01,  1.9623e-01,  6.6195e-01,  2.0725e-01,\n",
       "             1.0988e-01,  1.2010e-01, -2.2167e-01,  3.4763e-01,  4.0355e-01],\n",
       "           [ 1.7165e-01, -2.9842e-01, -9.4932e-02, -3.5570e-01,  4.4285e-01,\n",
       "             1.3367e-01, -3.2229e-01, -1.2329e-01, -2.6459e-02, -8.5800e-02,\n",
       "             7.9861e-02,  1.0516e-01,  3.6181e-01, -2.2799e-01,  4.2138e-01,\n",
       "             2.3539e-01, -7.3011e-02, -1.8987e-01,  9.9935e-02,  2.7912e-01,\n",
       "            -3.8955e-03,  3.4711e-01,  4.1776e-02, -5.1072e-02, -1.0882e-01,\n",
       "             3.8369e-01, -4.2033e-01,  1.8649e-01,  2.3004e-01, -2.5659e-01],\n",
       "           [-2.4198e-01, -9.5013e-02,  3.5066e-01,  1.1119e-01,  8.1985e-02,\n",
       "            -1.0312e-01,  1.6357e-01,  8.5927e-02, -2.6441e-01,  6.0993e-01,\n",
       "             7.4072e-02, -2.2983e-01, -2.7041e-01, -2.4950e-01, -6.8332e-02,\n",
       "            -1.4170e-01, -5.0500e-01,  3.3317e-01,  1.5641e-01,  5.3893e-01,\n",
       "             4.0985e-02,  3.6255e-01, -1.5708e-01, -7.6591e-02, -5.5868e-01,\n",
       "             9.4225e-02,  1.7281e-02,  1.9194e-01, -2.8914e-01, -2.8625e-02],\n",
       "           [-4.5199e-01, -7.6375e-02, -1.3590e-01, -1.1692e-01,  9.8585e-02,\n",
       "             1.1347e-01, -3.2055e-01,  7.6540e-02, -3.8497e-01,  4.5096e-01,\n",
       "             2.9114e-01, -4.8223e-01,  4.4580e-01, -2.1911e-01,  2.7391e-02,\n",
       "             2.5994e-01,  1.3664e-01, -2.2487e-01,  2.7218e-01,  1.4445e-01,\n",
       "            -5.8509e-02,  2.9920e-01, -5.7397e-01,  7.7787e-02,  1.0873e-01,\n",
       "             8.9341e-02,  5.9694e-02,  2.1634e-01,  4.0977e-01, -2.5445e-01],\n",
       "           [-1.1658e-01, -1.6516e-01,  5.3478e-02, -5.0356e-01,  5.1097e-02,\n",
       "            -4.8359e-01,  1.1674e-01, -2.2211e-01,  1.5345e-01, -6.5735e-01,\n",
       "             3.6300e-01,  6.2020e-01,  1.6721e-01, -2.0381e-01, -1.3331e-02,\n",
       "            -1.7511e-01,  7.3814e-02,  4.6118e-01, -1.7275e-01, -1.7085e-01,\n",
       "            -6.1157e-01, -1.7674e-01, -1.3328e-01,  1.8837e-01,  3.2464e-01,\n",
       "             4.8750e-01, -2.3758e-01,  1.3293e-01,  1.9772e-01,  1.6151e-01],\n",
       "           [-3.5902e-01,  1.2303e-01, -1.0481e-01,  1.6539e-01, -4.5115e-01,\n",
       "            -2.4084e-01, -9.4822e-01,  1.1026e-02, -4.1490e-01,  2.6902e-01,\n",
       "            -1.1302e-02, -2.4873e-01, -5.4540e-01, -6.6202e-02, -4.7275e-02,\n",
       "             8.1023e-01,  2.6941e-01, -2.3234e-01,  3.2028e-01,  1.0208e+00,\n",
       "             2.5856e-01,  2.2180e-01,  1.8639e-01, -1.0434e-01,  1.0655e-01,\n",
       "            -2.6930e-01, -1.9295e-01,  2.4362e-01,  1.8902e-02,  1.1182e-01],\n",
       "           [-1.6996e-01, -8.2074e-02,  2.4179e-01, -4.9444e-02, -2.0900e-01,\n",
       "            -6.3892e-02, -2.1753e-01, -3.2342e-01,  1.7439e-01,  3.0239e-01,\n",
       "            -1.6807e-01, -8.4114e-01,  2.0299e-01,  1.1875e-02, -7.9631e-01,\n",
       "            -1.8639e-01,  3.2197e-02,  8.8211e-03, -1.1670e-02, -3.8284e-01,\n",
       "             5.9183e-01, -2.9045e-01, -5.6914e-01, -1.7833e-01,  2.4894e-01,\n",
       "            -6.2766e-01,  3.3697e-01, -4.9879e-01, -1.0832e-01, -1.4781e-01],\n",
       "           [-5.3228e-01, -2.5376e-01,  2.1933e-01,  2.6740e-01, -3.3720e-01,\n",
       "             2.0478e-01, -1.4665e-01, -1.4734e-01,  5.6989e-02,  1.9102e-01,\n",
       "             1.8572e-01, -3.4286e-01,  3.0930e-01, -9.3134e-02,  1.1364e-01,\n",
       "             3.7738e-01, -7.7172e-01,  6.3150e-01, -8.6616e-02, -3.0137e-01,\n",
       "             1.5406e-01, -2.0051e-01, -1.4048e-01,  4.6293e-01,  2.8180e-01,\n",
       "             3.4770e-01,  1.0594e-01, -6.0159e-02, -1.6691e-01, -2.9888e-01],\n",
       "           [ 1.8691e-01,  2.0428e-02,  2.7649e-01,  2.8637e-02,  3.1537e-01,\n",
       "            -2.4963e-02, -3.8656e-02, -3.9764e-01, -2.5235e-01,  2.3198e-01,\n",
       "             1.7318e-01,  1.9505e-01, -4.2308e-01,  4.3897e-01, -9.4587e-02,\n",
       "            -4.5520e-01, -2.1699e-01,  4.8700e-02,  1.5504e-01, -2.1069e-01,\n",
       "             1.7332e-01,  3.0427e-01,  3.3945e-02, -1.0370e-01, -3.7948e-01,\n",
       "            -4.0999e-01,  1.4219e-01,  8.4575e-02, -6.5740e-02,  1.3309e-01],\n",
       "           [-5.8776e-01,  2.5752e-01, -3.2781e-01, -1.9833e-01, -1.9608e-01,\n",
       "             5.7515e-01,  1.7871e-01, -3.7267e-01,  4.2466e-01, -3.0884e-01,\n",
       "            -3.2963e-02, -1.5442e-01, -5.5375e-01, -6.9350e-02,  5.8935e-02,\n",
       "            -5.4365e-01, -5.3111e-01, -1.5730e-01,  3.6265e-01, -2.2037e-01,\n",
       "            -1.9972e-02, -1.2587e-01,  1.7928e-01,  1.1774e-01,  1.8356e-01,\n",
       "             1.5832e-01, -5.9831e-01, -9.5681e-02, -1.3700e-01,  7.2461e-01],\n",
       "           [ 1.9834e-01, -1.1492e-01,  8.6377e-01,  3.8691e-01, -8.0560e-02,\n",
       "             4.9664e-01, -1.0823e-01, -2.2886e-02, -6.2044e-01, -1.0683e-01,\n",
       "            -1.9169e-01, -2.8772e-02,  4.9156e-01, -3.8586e-01,  2.6934e-01,\n",
       "            -3.5672e-01,  4.7872e-01, -2.1400e-01,  3.0839e-01,  1.4770e-01,\n",
       "            -6.0134e-01,  3.2795e-01, -1.3197e-01, -5.2431e-01, -1.4219e-01,\n",
       "             3.2644e-01,  3.4051e-01,  3.8220e-01,  3.0001e-03, -3.7337e-02],\n",
       "           [ 2.3701e-01,  5.5477e-02, -3.1056e-01, -7.0190e-01,  3.5404e-01,\n",
       "             4.2310e-02, -5.9616e-01,  8.7568e-02, -5.5227e-01, -2.4884e-01,\n",
       "             4.7261e-01,  5.8506e-02,  1.2376e-02,  5.1836e-01,  2.7799e-01,\n",
       "            -2.1283e-01,  3.0564e-01, -2.9812e-02,  2.0590e-01,  3.4267e-01,\n",
       "             2.0336e-01, -3.8728e-01,  1.0458e-01, -4.9755e-01,  1.2938e-01,\n",
       "            -7.4679e-02,  4.1578e-01, -2.3610e-02, -1.7892e-01, -2.0295e-01],\n",
       "           [ 6.1113e-01,  2.8232e-01, -2.1266e-01,  7.3791e-02, -3.6133e-01,\n",
       "            -1.8397e-01,  4.3313e-01,  2.5784e-01,  2.3369e-02, -5.5916e-01,\n",
       "            -4.2556e-01,  4.1296e-01, -8.0758e-02,  2.1637e-01,  2.5328e-01,\n",
       "             4.0879e-01, -1.0701e-01,  1.5204e-01, -1.7843e-01, -1.7046e-01,\n",
       "             2.3235e-02, -2.1646e-01, -1.0510e-02, -2.7373e-01, -6.2894e-01,\n",
       "             7.5442e-02, -2.9997e-01, -1.1380e-02,  6.9675e-02, -3.8603e-01],\n",
       "           [ 1.9776e-01,  9.6429e-02, -4.5512e-02, -8.9004e-02, -1.2913e-01,\n",
       "            -4.5694e-03,  4.2666e-01,  1.6198e-01, -2.5691e-01,  6.5298e-01,\n",
       "             2.7491e-01, -1.4855e-01, -7.9767e-02,  8.7831e-02, -7.0161e-02,\n",
       "             1.9285e-01, -9.6621e-03, -5.1369e-01,  6.8390e-02, -2.7359e-01,\n",
       "            -3.4037e-01, -5.2258e-01, -6.2326e-01, -2.6120e-01, -2.7117e-01,\n",
       "             7.1668e-03,  2.4602e-01, -2.0752e-01, -2.9321e-01,  2.4759e-01],\n",
       "           [-5.0913e-02, -2.1531e-01,  1.3057e-01,  3.4430e-01, -1.5151e-01,\n",
       "            -3.7554e-01,  1.7777e-01,  1.4737e-01, -4.9471e-02, -9.4144e-02,\n",
       "             1.7077e-01,  6.8229e-02, -9.2917e-02,  3.1382e-01,  1.2480e-01,\n",
       "             1.3295e-01,  6.4377e-02, -7.1704e-02,  3.6560e-01,  4.0089e-01,\n",
       "            -9.3229e-02,  1.0154e-01,  2.2469e-01,  7.3309e-02, -5.4365e-01,\n",
       "            -4.5253e-02, -8.9962e-01,  1.2139e-01,  7.7033e-02, -8.8410e-02]]]],\n",
       "        device='cuda:0', grad_fn=<ViewBackward0>),\n",
       " torch.Size([1, 1, 30, 30]))"
      ]
     },
     "execution_count": 6,
     "metadata": {},
     "output_type": "execute_result"
    }
   ],
   "execution_count": 6
  },
  {
   "metadata": {},
   "cell_type": "markdown",
   "source": "### Setup Loss, optimizer and evaluation metrics",
   "id": "eee172db70a38518"
  },
  {
   "metadata": {
    "ExecuteTime": {
     "end_time": "2024-08-04T09:02:51.967500Z",
     "start_time": "2024-08-04T09:02:51.567054Z"
    }
   },
   "cell_type": "code",
   "source": [
    "loss_fn = torch.nn.MSELoss()\n",
    "optimizer = torch.optim.SGD(params=model.parameters(), lr=0.01)"
   ],
   "id": "1ce92989eac86aa2",
   "outputs": [],
   "execution_count": 7
  },
  {
   "metadata": {},
   "cell_type": "markdown",
   "source": "### Run Training Loop",
   "id": "518300e154e22dd8"
  },
  {
   "metadata": {
    "ExecuteTime": {
     "end_time": "2024-08-04T09:03:57.220899Z",
     "start_time": "2024-08-04T09:02:51.968283Z"
    }
   },
   "cell_type": "code",
   "source": [
    "from timeit import default_timer as timer \n",
    "\n",
    "epochs = 50\n",
    "\n",
    "time_start = timer()\n",
    "for epoch in range(epochs):\n",
    "    ### Training\n",
    "    train_loss = 0\n",
    "    train_accuracy = 0\n",
    "\n",
    "    model.train() # Set model into training mode\n",
    "    \n",
    "    for b, (X_train, y_train) in enumerate(train_dataloader):\n",
    "        # Send to device and normalize:\n",
    "        X_train, y_train = X_train.to(device) / 10, y_train.to(device) / 10\n",
    "        \n",
    "        # Forward pass:\n",
    "        train_pred = model(X_train)\n",
    "        \n",
    "        # Calculate loss:\n",
    "        loss = loss_fn(train_pred, y_train)\n",
    "        train_loss += loss\n",
    "        train_accuracy += accuracy_fn(y_train, norm_arc20204(train_pred))\n",
    "        \n",
    "        # Reset optimizer gradients:\n",
    "        optimizer.zero_grad()\n",
    "        \n",
    "        # Backward pass:\n",
    "        loss.backward()\n",
    "        \n",
    "        # Adjust parameters:\n",
    "        optimizer.step()\n",
    "\n",
    "    train_loss /= len(train_dataloader.dataset)\n",
    "    train_accuracy /= len(train_dataloader.dataset)\n",
    "    \n",
    "    ### Testing\n",
    "    test_loss = 0\n",
    "    test_accuracy = 0\n",
    "    model.eval() # set model into evaluation mode\n",
    "\n",
    "    with torch.inference_mode():\n",
    "        for X_test, y_test in test_dataloader:\n",
    "            # Send to device and normalize:\n",
    "            X_test, y_test = X_test.to(device) / 10, y_test.to(device) / 10\n",
    "\n",
    "            # Forward pass:\n",
    "            test_pred = model(X_test)\n",
    "\n",
    "            # Calculate loss:\n",
    "            loss = loss_fn(test_pred, y_test)\n",
    "            test_loss += loss\n",
    "            test_accuracy += accuracy_fn(y_test, norm_arc20204(test_pred))\n",
    "    \n",
    "        test_loss /= len(test_dataloader.dataset)\n",
    "        test_accuracy /= len(test_dataloader.dataset)\n",
    "    \n",
    "    print(f\"Epoch {epoch + 1}/{epochs} | Train loss: {train_loss:.5f} | Train accuracy: {train_accuracy:.2f}% | Test loss: {test_loss:.5f} | Test accuracy: {test_accuracy:.2f}%\")\n",
    "time_end = timer()\n",
    "\n",
    "print(f\"Total time taken: {time_end - time_start}\")"
   ],
   "id": "96d6551b2f990249",
   "outputs": [
    {
     "name": "stdout",
     "output_type": "stream",
     "text": [
      "Epoch 1/50 | Train loss: 0.00444 | Train accuracy: 0.04% | Test loss: 0.00222 | Test accuracy: 0.03%\n",
      "Epoch 2/50 | Train loss: 0.00094 | Train accuracy: 0.04% | Test loss: 0.00216 | Test accuracy: 0.03%\n",
      "Epoch 3/50 | Train loss: 0.00092 | Train accuracy: 0.05% | Test loss: 0.00213 | Test accuracy: 0.03%\n",
      "Epoch 4/50 | Train loss: 0.00090 | Train accuracy: 0.04% | Test loss: 0.00208 | Test accuracy: 0.03%\n",
      "Epoch 5/50 | Train loss: 0.00089 | Train accuracy: 0.05% | Test loss: 0.00205 | Test accuracy: 0.03%\n",
      "Epoch 6/50 | Train loss: 0.00088 | Train accuracy: 0.04% | Test loss: 0.00202 | Test accuracy: 0.03%\n",
      "Epoch 7/50 | Train loss: 0.00087 | Train accuracy: 0.04% | Test loss: 0.00198 | Test accuracy: 0.03%\n",
      "Epoch 8/50 | Train loss: 0.00085 | Train accuracy: 0.04% | Test loss: 0.00196 | Test accuracy: 0.03%\n",
      "Epoch 9/50 | Train loss: 0.00084 | Train accuracy: 0.05% | Test loss: 0.00192 | Test accuracy: 0.03%\n",
      "Epoch 10/50 | Train loss: 0.00084 | Train accuracy: 0.05% | Test loss: 0.00191 | Test accuracy: 0.03%\n",
      "Epoch 11/50 | Train loss: 0.00083 | Train accuracy: 0.05% | Test loss: 0.00189 | Test accuracy: 0.03%\n",
      "Epoch 12/50 | Train loss: 0.00082 | Train accuracy: 0.05% | Test loss: 0.00186 | Test accuracy: 0.03%\n",
      "Epoch 13/50 | Train loss: 0.00081 | Train accuracy: 0.05% | Test loss: 0.00184 | Test accuracy: 0.03%\n",
      "Epoch 14/50 | Train loss: 0.00080 | Train accuracy: 0.05% | Test loss: 0.00182 | Test accuracy: 0.03%\n",
      "Epoch 15/50 | Train loss: 0.00080 | Train accuracy: 0.05% | Test loss: 0.00181 | Test accuracy: 0.03%\n",
      "Epoch 16/50 | Train loss: 0.00079 | Train accuracy: 0.05% | Test loss: 0.00179 | Test accuracy: 0.03%\n",
      "Epoch 17/50 | Train loss: 0.00078 | Train accuracy: 0.05% | Test loss: 0.00177 | Test accuracy: 0.03%\n",
      "Epoch 18/50 | Train loss: 0.00078 | Train accuracy: 0.05% | Test loss: 0.00176 | Test accuracy: 0.03%\n",
      "Epoch 19/50 | Train loss: 0.00077 | Train accuracy: 0.05% | Test loss: 0.00174 | Test accuracy: 0.03%\n",
      "Epoch 20/50 | Train loss: 0.00077 | Train accuracy: 0.05% | Test loss: 0.00173 | Test accuracy: 0.03%\n",
      "Epoch 21/50 | Train loss: 0.00076 | Train accuracy: 0.05% | Test loss: 0.00171 | Test accuracy: 0.03%\n",
      "Epoch 22/50 | Train loss: 0.00075 | Train accuracy: 0.05% | Test loss: 0.00170 | Test accuracy: 0.03%\n",
      "Epoch 23/50 | Train loss: 0.00075 | Train accuracy: 0.05% | Test loss: 0.00168 | Test accuracy: 0.03%\n",
      "Epoch 24/50 | Train loss: 0.00074 | Train accuracy: 0.05% | Test loss: 0.00167 | Test accuracy: 0.03%\n",
      "Epoch 25/50 | Train loss: 0.00074 | Train accuracy: 0.05% | Test loss: 0.00166 | Test accuracy: 0.03%\n",
      "Epoch 26/50 | Train loss: 0.00074 | Train accuracy: 0.05% | Test loss: 0.00165 | Test accuracy: 0.03%\n",
      "Epoch 27/50 | Train loss: 0.00073 | Train accuracy: 0.05% | Test loss: 0.00164 | Test accuracy: 0.03%\n",
      "Epoch 28/50 | Train loss: 0.00073 | Train accuracy: 0.05% | Test loss: 0.00162 | Test accuracy: 0.03%\n",
      "Epoch 29/50 | Train loss: 0.00072 | Train accuracy: 0.05% | Test loss: 0.00161 | Test accuracy: 0.03%\n",
      "Epoch 30/50 | Train loss: 0.00072 | Train accuracy: 0.05% | Test loss: 0.00160 | Test accuracy: 0.03%\n",
      "Epoch 31/50 | Train loss: 0.00072 | Train accuracy: 0.05% | Test loss: 0.00160 | Test accuracy: 0.03%\n",
      "Epoch 32/50 | Train loss: 0.00071 | Train accuracy: 0.05% | Test loss: 0.00158 | Test accuracy: 0.03%\n",
      "Epoch 33/50 | Train loss: 0.00071 | Train accuracy: 0.05% | Test loss: 0.00158 | Test accuracy: 0.03%\n",
      "Epoch 34/50 | Train loss: 0.00071 | Train accuracy: 0.05% | Test loss: 0.00157 | Test accuracy: 0.03%\n",
      "Epoch 35/50 | Train loss: 0.00070 | Train accuracy: 0.05% | Test loss: 0.00157 | Test accuracy: 0.03%\n",
      "Epoch 36/50 | Train loss: 0.00070 | Train accuracy: 0.05% | Test loss: 0.00155 | Test accuracy: 0.03%\n",
      "Epoch 37/50 | Train loss: 0.00070 | Train accuracy: 0.05% | Test loss: 0.00155 | Test accuracy: 0.03%\n",
      "Epoch 38/50 | Train loss: 0.00070 | Train accuracy: 0.05% | Test loss: 0.00155 | Test accuracy: 0.04%\n",
      "Epoch 39/50 | Train loss: 0.00069 | Train accuracy: 0.05% | Test loss: 0.00154 | Test accuracy: 0.03%\n",
      "Epoch 40/50 | Train loss: 0.00069 | Train accuracy: 0.05% | Test loss: 0.00153 | Test accuracy: 0.03%\n",
      "Epoch 41/50 | Train loss: 0.00069 | Train accuracy: 0.05% | Test loss: 0.00152 | Test accuracy: 0.03%\n",
      "Epoch 42/50 | Train loss: 0.00069 | Train accuracy: 0.05% | Test loss: 0.00152 | Test accuracy: 0.04%\n",
      "Epoch 43/50 | Train loss: 0.00068 | Train accuracy: 0.05% | Test loss: 0.00151 | Test accuracy: 0.03%\n",
      "Epoch 44/50 | Train loss: 0.00068 | Train accuracy: 0.05% | Test loss: 0.00151 | Test accuracy: 0.04%\n",
      "Epoch 45/50 | Train loss: 0.00068 | Train accuracy: 0.05% | Test loss: 0.00151 | Test accuracy: 0.04%\n",
      "Epoch 46/50 | Train loss: 0.00068 | Train accuracy: 0.05% | Test loss: 0.00150 | Test accuracy: 0.03%\n",
      "Epoch 47/50 | Train loss: 0.00068 | Train accuracy: 0.05% | Test loss: 0.00150 | Test accuracy: 0.03%\n",
      "Epoch 48/50 | Train loss: 0.00068 | Train accuracy: 0.05% | Test loss: 0.00149 | Test accuracy: 0.03%\n",
      "Epoch 49/50 | Train loss: 0.00067 | Train accuracy: 0.05% | Test loss: 0.00149 | Test accuracy: 0.04%\n",
      "Epoch 50/50 | Train loss: 0.00067 | Train accuracy: 0.05% | Test loss: 0.00148 | Test accuracy: 0.03%\n",
      "Total time taken: 65.24822096699995\n"
     ]
    }
   ],
   "execution_count": 8
  },
  {
   "metadata": {},
   "cell_type": "markdown",
   "source": "# Evaluate Model",
   "id": "12e02627456a3a8b"
  },
  {
   "metadata": {
    "ExecuteTime": {
     "end_time": "2024-08-04T09:03:57.901748Z",
     "start_time": "2024-08-04T09:03:57.222010Z"
    }
   },
   "cell_type": "code",
   "source": [
    "evaluations = 3\n",
    "\n",
    "evaluation_dataset = ZeroShotDataset(\n",
    "    dataset_dir=dataset_dir,\n",
    "    dataset_name='evaluation',\n",
    "    mode='test'\n",
    ")\n",
    "\n",
    "model.eval() # set model into evaluation mode\n",
    "with torch.inference_mode():\n",
    "    \n",
    "    for _ in range(evaluations):\n",
    "        X, y = random.choice(evaluation_dataset)\n",
    "        X, y = X.to(device) / 10, y.to(device) / 10\n",
    "        \n",
    "        y_pred = model(X)[0]\n",
    "        y_pred_norm = norm_arc20204(y_pred)\n",
    "        \n",
    "        plot.input_and_output(X * 10, y * 10, y_pred_norm * 10)\n",
    "        accuracy_pred = accuracy_fn(y, y_pred_norm)\n",
    "        print(f\"Accuracy: {accuracy_pred:.2f}% ({int(accuracy_pred / 100 * 900)}/900)\")\n"
   ],
   "id": "14b6af5afe472c9e",
   "outputs": [
    {
     "data": {
      "text/plain": [
       "<Figure size 1920x1440 with 3 Axes>"
      ],
      "image/png": "[encoded data removed]"
     },
     "metadata": {},
     "output_type": "display_data"
    },
    {
     "name": "stdout",
     "output_type": "stream",
     "text": [
      "Accuracy: 1.78% (16/900)\n"
     ]
    },
    {
     "data": {
      "text/plain": [
       "<Figure size 1920x1440 with 3 Axes>"
      ],
      "image/png": "[encoded data removed]"
     },
     "metadata": {},
     "output_type": "display_data"
    },
    {
     "name": "stdout",
     "output_type": "stream",
     "text": [
      "Accuracy: 2.33% (21/900)\n"
     ]
    },
    {
     "data": {
      "text/plain": [
       "<Figure size 1920x1440 with 3 Axes>"
      ],
      "image/png": "[encoded data removed]"
     },
     "metadata": {},
     "output_type": "display_data"
    },
    {
     "name": "stdout",
     "output_type": "stream",
     "text": [
      "Accuracy: 3.33% (30/900)\n"
     ]
    }
   ],
   "execution_count": 9
  },
  {
   "metadata": {
    "ExecuteTime": {
     "end_time": "2024-08-04T09:03:57.904918Z",
     "start_time": "2024-08-04T09:03:57.902997Z"
    }
   },
   "cell_type": "code",
   "source": "",
   "id": "283bc873102e917a",
   "outputs": [],
   "execution_count": 9
  }
 ],
 "metadata": {
  "kernelspec": {
   "display_name": "Python 3 (ipykernel)",
   "language": "python",
   "name": "python3"
  },
  "language_info": {
   "codemirror_mode": {
    "name": "ipython",
    "version": 3
   },
   "file_extension": ".py",
   "mimetype": "text/x-python",
   "name": "python",
   "nbconvert_exporter": "python",
   "pygments_lexer": "ipython3",
   "version": "3.12.4"
  }
 },
 "nbformat": 4,
 "nbformat_minor": 5
}
