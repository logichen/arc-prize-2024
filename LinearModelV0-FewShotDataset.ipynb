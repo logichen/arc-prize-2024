{
 "cells": [
  {
   "metadata": {},
   "cell_type": "markdown",
   "source": [
    "# LinearModelV0 with FewShotDataset\n",
    "\n",
    "This notebook is an experimental approach on solving the ARC challenge. See https://arcprize.org/ for more details."
   ],
   "id": "2deab4fa4b404fd9"
  },
  {
   "cell_type": "code",
   "id": "469d911a-eb08-40db-9491-58582e0a5244",
   "metadata": {
    "ExecuteTime": {
     "end_time": "2024-08-04T12:16:40.406304Z",
     "start_time": "2024-08-04T12:16:39.021327Z"
    }
   },
   "source": [
    "import os\n",
    "import random\n",
    "\n",
    "import torch\n",
    "\n",
    "from pathlib import Path\n",
    "\n",
    "from arc2024.data import FewShotDataset\n",
    "from arc2024.utils import plot\n",
    "from arc2024.utils.calc import accuracy_fn, norm_arc20204\n",
    "from arc2024.models.linear import LinearModelV0"
   ],
   "outputs": [],
   "execution_count": 1
  },
  {
   "metadata": {},
   "cell_type": "markdown",
   "source": "# Setup Device Agnostic Environment",
   "id": "238e55441bbcf17a"
  },
  {
   "metadata": {
    "ExecuteTime": {
     "end_time": "2024-08-04T12:16:40.670384Z",
     "start_time": "2024-08-04T12:16:40.407520Z"
    }
   },
   "cell_type": "code",
   "source": [
    "import arc2024.utils.amdgpu as amd\n",
    "\n",
    "if amd.is_amdgpu_on_linux():\n",
    "    # Use ROCm on rx6600/6600xt by setting the environment variable HSA_OVERRIDE_GFX_VERSION to \"10.3.0\"\n",
    "    # Source: https://github.com/ROCm/ROCm/issues/1698#issuecomment-1261646854\n",
    "    amd.setup_amdgpu_environment(\n",
    "        hsa_override_gfx_version=\"10.3.0\"\n",
    "    )\n",
    "\n",
    "device = torch.device('cuda' if torch.cuda.is_available() else 'cpu')\n",
    "device"
   ],
   "id": "564e0858a54fdba8",
   "outputs": [
    {
     "data": {
      "text/plain": [
       "device(type='cuda')"
      ]
     },
     "execution_count": 2,
     "metadata": {},
     "output_type": "execute_result"
    }
   ],
   "execution_count": 2
  },
  {
   "metadata": {},
   "cell_type": "markdown",
   "source": "## Prepare Datasets and DataLoaders",
   "id": "e1d56ce2d680401c"
  },
  {
   "metadata": {
    "ExecuteTime": {
     "end_time": "2024-08-04T12:16:43.732170Z",
     "start_time": "2024-08-04T12:16:40.671681Z"
    }
   },
   "cell_type": "code",
   "source": [
    "dataset_dir = Path('datasets')\n",
    "\n",
    "BATCH_SIZE = 32\n",
    "NUM_WORKERS = os.cpu_count()\n",
    "\n",
    "train_dataset = FewShotDataset(\n",
    "    dataset_dir=dataset_dir,\n",
    "    dataset_name='training',\n",
    "    permutations_enabled=True\n",
    ")\n",
    "train_dataloader = torch.utils.data.DataLoader(\n",
    "    dataset=train_dataset,\n",
    "    batch_size=BATCH_SIZE,\n",
    "    shuffle=True,\n",
    "    num_workers=NUM_WORKERS\n",
    ")\n",
    "\n",
    "test_dataset = FewShotDataset(\n",
    "    dataset_dir=dataset_dir,\n",
    "    dataset_name='evaluation'\n",
    ")\n",
    "test_dataloader = torch.utils.data.DataLoader(\n",
    "    dataset=test_dataset,\n",
    "    batch_size=BATCH_SIZE,\n",
    "    shuffle=True,\n",
    "    num_workers=NUM_WORKERS\n",
    ")"
   ],
   "id": "bb2cae609fdde826",
   "outputs": [],
   "execution_count": 3
  },
  {
   "metadata": {},
   "cell_type": "markdown",
   "source": "## Train Model",
   "id": "2177ae9236464708"
  },
  {
   "metadata": {
    "ExecuteTime": {
     "end_time": "2024-08-04T12:16:43.942732Z",
     "start_time": "2024-08-04T12:16:43.733407Z"
    }
   },
   "cell_type": "code",
   "source": [
    "model = LinearModelV0(\n",
    "    in_features=900, # 30x30\n",
    "    hidden_features=600, # do some compression\n",
    "    out_features=900\n",
    ").to(device)\n",
    "model"
   ],
   "id": "3f0a32b80655a8ce",
   "outputs": [
    {
     "data": {
      "text/plain": [
       "LinearModelV0(\n",
       "  (flatten): Flatten(start_dim=1, end_dim=-1)\n",
       "  (linear1): Linear(in_features=900, out_features=600, bias=True)\n",
       "  (linear2): Linear(in_features=600, out_features=900, bias=True)\n",
       "  (unflatten): Unflatten(dim=1, unflattened_size=(1, 30, 30))\n",
       ")"
      ]
     },
     "execution_count": 4,
     "metadata": {},
     "output_type": "execute_result"
    }
   ],
   "execution_count": 4
  },
  {
   "metadata": {},
   "cell_type": "markdown",
   "source": "### Verify Input and Output Shapes with Random Tensor",
   "id": "73ba81c9ca21ee99"
  },
  {
   "metadata": {
    "ExecuteTime": {
     "end_time": "2024-08-04T12:16:44.077180Z",
     "start_time": "2024-08-04T12:16:43.944161Z"
    }
   },
   "cell_type": "code",
   "source": [
    "x = torch.rand([1, 30, 30]).to(device)\n",
    "model(x).shape"
   ],
   "id": "e1b7befceacdb2e",
   "outputs": [
    {
     "data": {
      "text/plain": [
       "torch.Size([1, 1, 30, 30])"
      ]
     },
     "execution_count": 5,
     "metadata": {},
     "output_type": "execute_result"
    }
   ],
   "execution_count": 5
  },
  {
   "metadata": {
    "ExecuteTime": {
     "end_time": "2024-08-04T12:16:44.180832Z",
     "start_time": "2024-08-04T12:16:44.077997Z"
    }
   },
   "cell_type": "code",
   "source": [
    "X, y, _ = train_dataset[0]\n",
    "X = X.to(device) / 10\n",
    "y = y.to(device) / 10\n",
    "\n",
    "y_pred = model(X)\n",
    "y_pred, y_pred.shape"
   ],
   "id": "c490ced35ddd64a0",
   "outputs": [
    {
     "data": {
      "text/plain": [
       "(tensor([[[[-3.4362e-02,  2.1158e-01,  2.1703e-01, -3.1466e-01, -2.5986e-01,\n",
       "             2.6655e-01,  1.1567e-01, -3.2522e-01, -2.5393e-01,  2.3032e-01,\n",
       "            -5.1505e-02, -5.0914e-01,  1.4388e-01, -1.1451e-02,  3.1818e-01,\n",
       "             4.8996e-01, -2.4046e-01, -6.9063e-02,  3.7322e-02, -5.2762e-02,\n",
       "             2.2509e-01,  8.6671e-02, -3.1280e-02,  5.9788e-01,  4.3380e-01,\n",
       "            -1.0309e-01, -4.0655e-01, -1.7868e-01, -3.8538e-01,  4.3124e-01],\n",
       "           [-5.9575e-01,  2.4030e-01, -1.0793e-01, -2.3164e-01, -2.1486e-01,\n",
       "            -2.9420e-01,  7.6137e-02, -2.4182e-01,  3.7595e-01,  3.8628e-02,\n",
       "             4.3092e-02,  1.2002e-02,  4.4093e-01, -1.8819e-01,  1.1214e-01,\n",
       "             2.8706e-01,  1.6704e-01,  1.0157e+00,  6.8763e-01, -2.1403e-01,\n",
       "            -7.8181e-02,  1.5850e-01, -5.3578e-01, -1.8367e-01,  3.1817e-02,\n",
       "             4.3888e-01,  5.3140e-02, -1.7274e-01, -9.5473e-02, -2.6546e-01],\n",
       "           [-1.2572e-01, -9.1964e-02, -1.9609e-01,  7.4262e-01, -5.0431e-01,\n",
       "             1.6261e-01, -2.2708e-01, -1.2196e-01,  3.0774e-01, -3.3749e-01,\n",
       "             2.3210e-01, -2.1343e-01, -2.4820e-01, -1.1996e-01, -2.9963e-02,\n",
       "             9.1971e-02,  5.1396e-02, -8.2759e-02,  2.9120e-01, -1.3839e-01,\n",
       "             1.7496e-02, -4.3694e-01, -4.9474e-01, -2.8814e-01, -1.6879e-02,\n",
       "             8.5410e-02,  2.3917e-01, -2.4367e-01, -1.2870e-01, -2.5101e-01],\n",
       "           [-2.7553e-01, -1.0476e-01, -4.7198e-01, -1.1936e-01, -1.0820e-01,\n",
       "             8.2326e-02,  5.2400e-02,  4.0876e-01,  7.6306e-02, -1.9987e-01,\n",
       "             2.0667e-01, -2.3266e-01,  8.0223e-02,  2.4860e-01, -9.6900e-02,\n",
       "             7.2011e-02, -6.3380e-01, -7.8391e-04, -4.6032e-01,  3.0132e-01,\n",
       "            -2.7460e-01, -1.0862e-01, -1.1559e-01, -5.4223e-01,  4.4279e-02,\n",
       "             4.1864e-01, -3.7809e-01, -2.0204e-01,  2.7579e-01, -9.0753e-02],\n",
       "           [ 8.5249e-02, -2.3485e-01,  5.7355e-01,  7.4679e-01,  1.6756e-01,\n",
       "             4.4343e-02, -2.3522e-01, -1.6929e-01, -2.4284e-01, -5.2148e-01,\n",
       "            -1.8036e-01, -4.4759e-01, -6.9526e-02,  6.9664e-01, -9.3757e-02,\n",
       "            -1.4275e-01,  1.9492e-01,  1.5163e-02, -2.6996e-01, -1.7356e-03,\n",
       "             6.5761e-02, -2.4847e-02, -2.5523e-01, -1.0636e-01, -1.5590e-01,\n",
       "            -1.9120e-01, -1.3842e-01, -5.6637e-01, -3.8152e-01,  6.0262e-01],\n",
       "           [-6.0312e-01,  2.3911e-01, -5.1360e-01, -3.7095e-01,  2.9416e-01,\n",
       "             3.2091e-01, -5.0257e-01, -1.3407e-01,  2.8208e-01,  1.7763e-01,\n",
       "            -3.2844e-01, -1.2150e-01,  1.0320e-01, -2.0340e-01,  2.6987e-01,\n",
       "            -1.6308e-01,  2.4516e-02,  2.0930e-01, -1.2819e-02,  3.2290e-01,\n",
       "             5.4473e-01,  2.2183e-02, -3.5146e-02,  1.3635e-01, -9.1765e-02,\n",
       "             1.1252e-01, -1.0058e-01, -2.0271e-01,  1.3911e-01,  3.4821e-01],\n",
       "           [-1.1314e-01, -2.3699e-01, -1.7855e-01,  1.6091e-02,  5.1491e-01,\n",
       "            -1.5502e-01, -4.3929e-01,  1.0316e-01,  2.1244e-01, -3.9003e-01,\n",
       "             1.2806e-01,  4.9306e-02,  6.2288e-01,  2.9768e-01,  6.7510e-02,\n",
       "             8.7954e-03, -2.2908e-01, -1.3029e-01,  1.3095e-01, -1.4547e-01,\n",
       "            -7.9495e-02, -1.1464e-01, -1.7068e-01, -6.3959e-02, -1.5793e-01,\n",
       "             2.2491e-01,  2.5918e-02, -2.6728e-01,  2.3295e-01, -2.7820e-01],\n",
       "           [ 2.6531e-01,  1.8395e-01, -3.3796e-02,  7.4129e-02,  6.8057e-02,\n",
       "             2.5091e-01,  3.2863e-01,  1.8460e-01,  2.3218e-01,  1.6016e-01,\n",
       "             3.6554e-02, -3.8365e-01, -3.0091e-01, -2.2472e-01,  3.0103e-01,\n",
       "            -1.3246e-01,  1.7334e-01,  2.5824e-01, -3.0516e-01,  4.0253e-01,\n",
       "             1.4208e-01,  4.1190e-03, -2.6862e-01,  1.2892e-01, -1.9727e-02,\n",
       "             9.5791e-02, -5.0196e-01, -2.6665e-01,  8.6270e-02, -1.4420e-01],\n",
       "           [-1.1520e-01,  2.7202e-01,  3.2613e-01,  8.8789e-02, -1.6503e-01,\n",
       "             5.6307e-01, -2.6473e-02,  2.7965e-01,  2.5328e-01, -4.8404e-01,\n",
       "             1.2525e-01,  3.2596e-01,  3.9169e-01,  3.0737e-01,  3.4980e-01,\n",
       "            -2.1013e-02,  4.8579e-01,  5.0008e-02,  6.7095e-02,  2.5529e-01,\n",
       "             7.5494e-01,  7.7166e-02, -3.5057e-03, -2.3670e-01,  4.0842e-01,\n",
       "             1.6955e-01, -1.2808e-01,  3.6058e-01,  2.0715e-01,  2.3905e-01],\n",
       "           [ 2.5705e-01,  2.1950e-01, -3.3755e-01,  3.7889e-01,  1.8189e-01,\n",
       "             5.0764e-01, -4.9772e-01, -8.4482e-02, -1.7448e-03, -3.4564e-02,\n",
       "             4.2753e-01, -9.0647e-02, -4.9509e-01, -9.0528e-02,  2.1380e-03,\n",
       "             8.0505e-01, -5.0943e-02,  2.3975e-01, -2.6773e-01, -5.0199e-01,\n",
       "             4.3947e-01, -1.1046e-01,  3.0617e-01,  2.6937e-01,  4.3870e-02,\n",
       "             5.2540e-01, -3.0495e-01,  4.6335e-01, -9.3448e-02, -2.3718e-01],\n",
       "           [-2.5638e-02, -4.2183e-01,  1.1982e-01, -7.4977e-02, -4.0561e-01,\n",
       "             2.5337e-01, -5.5370e-01, -2.8966e-01,  4.3156e-01, -1.0212e-01,\n",
       "             2.0685e-01,  1.5139e-01, -4.2481e-02,  6.6875e-02, -1.9089e-01,\n",
       "             2.4692e-01,  1.6691e-01,  2.3697e-01, -8.6693e-02, -5.6963e-02,\n",
       "            -1.6193e-01, -2.6857e-01,  1.6181e-01, -9.4602e-02,  1.2739e-01,\n",
       "            -2.8727e-01, -2.2325e-02, -2.2305e-01, -4.2208e-03, -1.8932e-01],\n",
       "           [-2.9239e-01, -6.4355e-01, -2.3824e-01, -5.8021e-02,  5.4526e-01,\n",
       "             1.5193e-01, -3.4269e-02,  1.3079e-01,  1.9327e-01,  1.8426e-01,\n",
       "             7.8374e-02, -9.1659e-02,  2.5778e-01, -5.2129e-01, -1.5944e-01,\n",
       "            -3.0013e-01, -1.0619e-01, -7.0818e-01, -8.5887e-01,  1.1103e-01,\n",
       "             3.0848e-01, -3.8053e-01, -1.2105e-01,  1.8914e-01,  9.3045e-02,\n",
       "            -2.0486e-01,  6.1930e-02, -4.0875e-02, -3.1109e-03,  1.2170e-01],\n",
       "           [-1.1305e-01,  2.2217e-01,  5.0696e-01,  3.7897e-01,  3.3712e-01,\n",
       "             1.7238e-01, -2.7249e-03,  2.2713e-02, -3.0568e-01,  4.1192e-01,\n",
       "            -1.4440e-02, -3.1112e-01,  2.3117e-01,  4.0813e-01, -9.4250e-02,\n",
       "             2.1557e-01, -1.2306e-01, -1.5017e-01, -5.7109e-01,  3.1590e-01,\n",
       "             8.3111e-02, -7.8740e-02,  1.2599e-01,  1.5519e-02, -1.7679e-01,\n",
       "            -1.5786e-01, -3.2644e-01,  2.6088e-01, -3.9442e-01,  3.1470e-02],\n",
       "           [-1.0515e-01,  2.9907e-01, -9.1029e-01,  4.8355e-02,  4.0907e-01,\n",
       "            -1.8653e-01,  3.8267e-01, -2.0680e-01, -2.3846e-01, -1.4388e-01,\n",
       "            -5.5574e-02, -5.1353e-01,  2.8919e-01,  4.5996e-01,  2.6105e-01,\n",
       "            -2.5288e-01, -1.7087e-01, -1.8438e-01, -3.9791e-01, -3.4314e-03,\n",
       "            -4.8855e-02, -1.3392e-01, -4.8416e-01, -9.7530e-02, -3.0739e-01,\n",
       "            -5.1962e-01, -1.5252e-01, -1.2284e-01,  5.4335e-01, -1.5963e-01],\n",
       "           [-2.9269e-01, -7.9601e-02, -1.6628e-01, -2.6621e-01,  1.0571e-01,\n",
       "             8.6332e-02, -6.8223e-01,  1.4018e-01,  2.1219e-01,  1.3886e-01,\n",
       "            -9.6586e-02, -7.9139e-02,  3.1921e-01, -1.5330e-01, -5.6994e-01,\n",
       "            -1.2756e-01, -2.1613e-01, -2.2891e-01, -6.2898e-02, -1.5126e-01,\n",
       "             2.0880e-01, -1.7301e-01, -5.8038e-01,  1.0397e-01,  5.5572e-02,\n",
       "             1.3499e-01, -1.6109e-01, -2.1121e-01,  2.1563e-01,  6.8343e-01],\n",
       "           [ 3.2998e-01,  5.6038e-01,  2.7737e-01, -1.5036e-01,  4.4462e-01,\n",
       "            -3.2651e-01, -3.1103e-01,  7.8490e-01, -4.2199e-01, -2.5183e-02,\n",
       "            -6.8792e-01, -1.1082e-01, -3.2991e-01,  3.0786e-01, -8.1121e-02,\n",
       "            -2.1258e-01,  4.7133e-01,  1.4386e-02,  1.6624e-01, -1.2377e-02,\n",
       "             6.9809e-01, -1.5740e-01, -8.5936e-02,  4.6689e-01, -2.3045e-01,\n",
       "            -1.5983e-01, -3.0855e-01, -1.1761e-01, -2.7072e-01,  9.8885e-02],\n",
       "           [ 2.0820e-01,  2.6574e-02,  8.1451e-02,  3.9677e-01,  4.8247e-02,\n",
       "            -6.4176e-01, -6.4750e-02,  1.4750e-01, -1.2158e-01, -3.5062e-01,\n",
       "            -4.7299e-01,  1.2882e-01,  1.3663e-02, -3.9058e-01, -3.9264e-01,\n",
       "             9.4934e-02,  5.9845e-01, -2.9345e-01, -3.1090e-01,  5.7248e-04,\n",
       "            -2.4592e-01, -7.3368e-03,  3.5891e-02, -3.0726e-01, -4.1191e-01,\n",
       "             2.1497e-01, -7.2706e-02,  3.5699e-02,  9.3964e-02, -2.0569e-01],\n",
       "           [-2.0368e-01, -2.2758e-02, -2.9074e-01, -1.7548e-01,  1.3091e-01,\n",
       "            -3.8416e-01,  3.8222e-01,  1.0969e-01, -3.2496e-01, -2.8796e-01,\n",
       "            -3.0152e-01, -2.1572e-01,  1.3336e-01,  1.2998e-01,  2.3915e-02,\n",
       "             2.6994e-01,  1.7122e-01, -3.6063e-02, -2.1162e-01,  1.7527e-01,\n",
       "             7.7189e-02,  2.1171e-01, -7.6005e-02,  5.1027e-01, -8.6897e-02,\n",
       "            -8.0106e-01, -5.4733e-01, -9.3488e-02, -2.1530e-01,  2.1117e-02],\n",
       "           [-3.7076e-01,  2.6987e-01, -4.6052e-01, -2.4986e-01,  6.6648e-01,\n",
       "             2.2116e-01, -4.1339e-02, -3.0095e-01, -4.8885e-01,  5.4123e-01,\n",
       "             1.5394e-01, -1.4930e-02,  2.1542e-01,  9.9062e-02,  1.5282e-01,\n",
       "            -1.3043e-01,  4.5385e-01, -5.4591e-03, -6.9234e-01,  9.9683e-02,\n",
       "             2.1529e-01, -4.3187e-01, -3.9773e-01, -4.8615e-01,  2.4027e-01,\n",
       "             2.6432e-01,  3.9156e-02, -3.2429e-01,  1.0780e-02, -5.6731e-01],\n",
       "           [ 1.7331e-01, -4.5302e-01,  8.6094e-01,  4.7403e-01, -1.4645e-01,\n",
       "             1.6026e-01, -3.0565e-01, -8.6327e-01, -1.3672e-01, -6.8982e-01,\n",
       "             7.0746e-02, -4.4029e-01,  4.9350e-02,  1.2615e-01, -2.6094e-01,\n",
       "            -3.5625e-01,  2.3654e-01,  1.4039e-01, -2.8049e-02, -7.7650e-01,\n",
       "            -5.9259e-01,  7.4931e-01,  3.6685e-01,  2.1491e-01, -3.2489e-01,\n",
       "             1.4581e-02,  3.1517e-01,  1.7252e-01,  5.4478e-02,  5.3626e-01],\n",
       "           [ 2.5226e-01, -3.3497e-01, -4.2254e-01, -1.0293e-01,  1.5788e-01,\n",
       "            -1.3639e-02,  4.3176e-01, -1.4627e-01, -8.7014e-02,  3.2712e-01,\n",
       "            -1.5391e-02, -3.4384e-01,  1.0280e-01,  2.5738e-01,  6.1756e-01,\n",
       "            -3.1463e-02, -1.2210e-01,  3.8250e-02,  2.6647e-01, -7.4850e-02,\n",
       "             2.6720e-01, -2.1246e-01, -3.3710e-01,  1.9834e-01, -1.1890e-02,\n",
       "            -1.0738e-01, -2.3829e-01, -2.1227e-01, -7.5769e-01,  1.2894e-01],\n",
       "           [-3.3308e-01,  2.9179e-01,  1.2588e-01, -8.1584e-02,  7.7012e-02,\n",
       "             7.4231e-02,  1.9373e-01,  3.2873e-02,  1.3519e-02, -3.2404e-01,\n",
       "             1.8832e-01, -2.1032e-01, -1.0720e-01, -8.7149e-03,  2.4519e-01,\n",
       "            -3.9812e-01, -2.5914e-01, -2.9468e-02,  1.6585e-03,  6.0924e-01,\n",
       "            -2.8786e-02, -2.4683e-02, -1.6814e-01, -2.9340e-01, -2.4900e-01,\n",
       "             2.6328e-01, -3.6971e-01, -1.2420e-01, -4.7241e-03, -6.9104e-04],\n",
       "           [-2.3632e-01,  2.6139e-01,  4.8881e-01,  1.3452e-01, -9.0517e-02,\n",
       "             3.2722e-01, -3.6165e-01,  1.7970e-01, -2.7304e-01,  6.1312e-02,\n",
       "             5.2912e-01,  1.1345e-01, -2.3496e-01, -8.2468e-02,  1.6204e-01,\n",
       "            -9.4900e-02, -3.5140e-01, -2.1012e-01,  3.3704e-01,  3.1238e-01,\n",
       "            -2.3101e-01, -3.4233e-01,  4.6478e-01, -9.8632e-02, -2.9684e-01,\n",
       "             4.2988e-01, -2.4744e-01,  5.4404e-02, -2.0649e-01, -4.2692e-01],\n",
       "           [ 9.6853e-02, -3.4934e-01,  5.0090e-01, -1.0225e-01,  2.8275e-01,\n",
       "             5.5543e-01,  1.8900e-01, -4.2333e-01, -2.4092e-01,  2.8428e-01,\n",
       "            -5.4062e-01, -2.3450e-01,  1.1967e-02, -3.5655e-02,  5.4689e-01,\n",
       "             9.4172e-02, -4.8974e-01, -9.2693e-02,  1.9782e-01, -1.6013e-01,\n",
       "            -1.6300e-01, -9.3187e-02, -1.4346e-01,  2.2672e-01, -1.3639e-01,\n",
       "            -3.3328e-01,  9.3227e-02, -5.4900e-01, -5.2219e-01,  6.2333e-02],\n",
       "           [-7.3600e-02,  2.7100e-02, -6.4636e-02, -2.8974e-01,  1.1020e-01,\n",
       "             1.3172e-02,  3.5131e-02,  6.5857e-01,  6.6150e-01, -5.3971e-02,\n",
       "            -2.1131e-02,  1.5043e-01, -4.4797e-03, -4.2545e-02, -4.2060e-01,\n",
       "             9.8075e-02, -4.4380e-01, -3.1988e-01, -2.8126e-01,  6.3093e-01,\n",
       "            -2.1012e-02, -2.4403e-01,  5.0175e-02, -2.8564e-01,  1.0279e-01,\n",
       "             3.2449e-01,  1.9910e-01,  2.3240e-01, -3.2873e-01, -4.7835e-02],\n",
       "           [-7.4797e-01, -9.6459e-01,  3.1270e-01, -5.2049e-01,  1.9293e-01,\n",
       "             6.2886e-01, -5.4248e-01, -2.0773e-01, -1.0084e-01, -7.7147e-02,\n",
       "            -4.0880e-01, -6.3634e-01, -1.1140e-01, -3.6241e-01,  2.8934e-01,\n",
       "            -8.7114e-02,  4.4419e-01, -1.0490e-01, -9.8399e-02,  6.4745e-03,\n",
       "             9.1706e-02, -5.6715e-01, -1.6222e-01, -1.9874e-01, -1.4600e-01,\n",
       "             2.0349e-01,  1.1519e-01,  7.2266e-02,  1.9737e-02, -7.1619e-02],\n",
       "           [ 4.1858e-01, -3.1600e-02,  3.4947e-01, -3.3411e-01, -5.5121e-02,\n",
       "            -3.6408e-01,  2.6913e-01,  2.6602e-01, -1.5173e-01,  5.8955e-02,\n",
       "             4.8265e-01,  2.4662e-01, -3.8437e-01,  1.8557e-01, -3.6671e-01,\n",
       "            -1.8582e-01,  4.3140e-01, -5.4488e-01, -8.9727e-02,  2.7712e-01,\n",
       "             2.2437e-01,  3.6156e-01,  1.4749e-01, -3.8583e-02, -5.3555e-01,\n",
       "            -1.4083e-01, -2.1293e-01,  5.4646e-02,  2.9191e-01,  4.0154e-01],\n",
       "           [ 1.3013e-01, -5.0530e-02, -8.3254e-03,  4.1893e-01,  2.3762e-01,\n",
       "            -3.1271e-01,  1.1238e-01,  9.7908e-02, -5.1991e-01, -1.2226e-02,\n",
       "            -4.0840e-02,  3.8624e-01, -4.7246e-01, -3.0546e-01, -1.6703e-01,\n",
       "            -4.4532e-01,  2.9873e-01,  1.3459e-01, -8.6444e-02, -1.3129e-01,\n",
       "             3.9416e-02, -1.4149e-01, -7.7337e-02, -9.4940e-02,  1.8656e-01,\n",
       "             1.0775e-02,  3.5622e-02,  2.8080e-01,  3.7709e-01, -1.1633e-01],\n",
       "           [-5.0503e-01,  3.6568e-01, -1.1732e-01, -4.3494e-01, -4.1441e-01,\n",
       "            -1.6419e-01, -1.7607e-01, -2.2478e-01,  1.5430e-01, -2.3656e-01,\n",
       "            -3.7760e-02, -3.4934e-01,  3.3336e-01,  2.8074e-01,  5.8545e-02,\n",
       "            -2.2152e-01,  1.5651e-01, -2.0419e-01, -1.0528e-01,  2.9292e-03,\n",
       "            -1.2288e+00,  5.8825e-01, -1.5965e-01, -7.0405e-01, -3.4699e-02,\n",
       "             1.5792e-01,  3.5436e-01, -1.6850e-01,  2.0192e-01,  4.7684e-01],\n",
       "           [ 2.6622e-01, -3.5299e-01,  3.3910e-01,  4.4876e-01, -5.4496e-01,\n",
       "            -2.5999e-01,  1.5068e-01,  4.5345e-01, -1.5325e-01, -1.7094e-01,\n",
       "            -1.4086e-01, -7.0361e-02,  2.1535e-01,  4.0635e-01,  2.3391e-01,\n",
       "            -2.2940e-01, -2.6301e-01,  5.0605e-01,  6.0934e-02, -1.1172e-01,\n",
       "             1.2130e-01,  7.2090e-02, -2.7208e-01, -3.2085e-01, -3.4574e-01,\n",
       "            -4.6805e-02, -1.0209e-01,  3.8024e-01,  7.7958e-02,  2.3396e-01]]]],\n",
       "        device='cuda:0', grad_fn=<ViewBackward0>),\n",
       " torch.Size([1, 1, 30, 30]))"
      ]
     },
     "execution_count": 6,
     "metadata": {},
     "output_type": "execute_result"
    }
   ],
   "execution_count": 6
  },
  {
   "metadata": {},
   "cell_type": "markdown",
   "source": "### Setup Loss, optimizer and evaluation metrics",
   "id": "eee172db70a38518"
  },
  {
   "metadata": {
    "ExecuteTime": {
     "end_time": "2024-08-04T12:16:44.575128Z",
     "start_time": "2024-08-04T12:16:44.181705Z"
    }
   },
   "cell_type": "code",
   "source": [
    "loss_fn = torch.nn.MSELoss()\n",
    "optimizer = torch.optim.SGD(params=model.parameters(), lr=0.01)"
   ],
   "id": "1ce92989eac86aa2",
   "outputs": [],
   "execution_count": 7
  },
  {
   "metadata": {},
   "cell_type": "markdown",
   "source": "### Run Training Loop",
   "id": "518300e154e22dd8"
  },
  {
   "metadata": {
    "ExecuteTime": {
     "end_time": "2024-08-04T12:20:08.496498Z",
     "start_time": "2024-08-04T12:16:44.575969Z"
    }
   },
   "cell_type": "code",
   "source": [
    "from timeit import default_timer as timer \n",
    "\n",
    "epochs = 50\n",
    "\n",
    "time_start = timer()\n",
    "for epoch in range(epochs):\n",
    "    ### Training\n",
    "    train_loss = 0\n",
    "    train_accuracy = 0\n",
    "\n",
    "    model.train() # Set model into training mode\n",
    "    \n",
    "    for b, (X_train, y_train, challenge_ids) in enumerate(train_dataloader):\n",
    "        for challenge_id in challenge_ids:\n",
    "            X_shots, y_shots = train_dataset.get_samples(challenge_id)\n",
    "            X_shots, y_shots = X_shots.to(device) / 10, y_shots.to(device) / 10\n",
    "            \n",
    "            # Forward pass:\n",
    "            shots_pred = model(X_shots)\n",
    "            \n",
    "            # Calculate loss:\n",
    "            loss = loss_fn(shots_pred, y_shots)\n",
    "            \n",
    "            # Reset optimizer gradients:\n",
    "            optimizer.zero_grad()\n",
    "            \n",
    "            # Backward pass:\n",
    "            loss.backward()\n",
    "            \n",
    "            # Adjust parameters:\n",
    "            optimizer.step()\n",
    "        \n",
    "        # Send to device and normalize:\n",
    "        X_train, y_train = X_train.to(device) / 10, y_train.to(device) / 10\n",
    "        \n",
    "        # Forward pass:\n",
    "        train_pred = model(X_train)\n",
    "        \n",
    "        # Calculate loss:\n",
    "        loss = loss_fn(train_pred, y_train)\n",
    "        train_loss += loss\n",
    "        train_accuracy += accuracy_fn(y_train, norm_arc20204(train_pred))\n",
    "        \n",
    "        # Reset optimizer gradients:\n",
    "        optimizer.zero_grad()\n",
    "        \n",
    "        # Backward pass:\n",
    "        loss.backward()\n",
    "        \n",
    "        # Adjust parameters:\n",
    "        optimizer.step()\n",
    "\n",
    "    train_loss /= len(train_dataloader.dataset)\n",
    "    train_accuracy /= len(train_dataloader.dataset)\n",
    "    \n",
    "    ### Testing\n",
    "    test_loss = 0\n",
    "    test_accuracy = 0\n",
    "    model.eval() # set model into evaluation mode\n",
    "\n",
    "    with torch.inference_mode():\n",
    "        for X_test, y_test, _ in test_dataloader:\n",
    "            # Send to device and normalize:\n",
    "            X_test, y_test = X_test.to(device) / 10, y_test.to(device) / 10\n",
    "\n",
    "            # Forward pass:\n",
    "            test_pred = model(X_test)\n",
    "\n",
    "            # Calculate loss:\n",
    "            loss = loss_fn(test_pred, y_test)\n",
    "            test_loss += loss\n",
    "            test_accuracy += accuracy_fn(y_test, norm_arc20204(test_pred))\n",
    "    \n",
    "        test_loss /= len(test_dataloader.dataset)\n",
    "        test_accuracy /= len(test_dataloader.dataset)\n",
    "    \n",
    "    print(f\"Epoch {epoch + 1}/{epochs} | Train loss: {train_loss:.5f} | Train accuracy: {train_accuracy:.2f}% | Test loss: {test_loss:.5f} | Test accuracy: {test_accuracy:.2f}%\")\n",
    "time_end = timer()\n",
    "\n",
    "print(f\"Total time taken: {time_end - time_start}\")"
   ],
   "id": "96d6551b2f990249",
   "outputs": [
    {
     "name": "stdout",
     "output_type": "stream",
     "text": [
      "Epoch 1/50 | Train loss: 0.00132 | Train accuracy: 0.06% | Test loss: 0.00282 | Test accuracy: 0.06%\n",
      "Epoch 2/50 | Train loss: 0.00097 | Train accuracy: 0.06% | Test loss: 0.00260 | Test accuracy: 0.06%\n",
      "Epoch 3/50 | Train loss: 0.00091 | Train accuracy: 0.06% | Test loss: 0.00238 | Test accuracy: 0.06%\n",
      "Epoch 4/50 | Train loss: 0.00087 | Train accuracy: 0.06% | Test loss: 0.00242 | Test accuracy: 0.06%\n",
      "Epoch 5/50 | Train loss: 0.00085 | Train accuracy: 0.06% | Test loss: 0.00226 | Test accuracy: 0.06%\n",
      "Epoch 6/50 | Train loss: 0.00083 | Train accuracy: 0.07% | Test loss: 0.00223 | Test accuracy: 0.06%\n",
      "Epoch 7/50 | Train loss: 0.00082 | Train accuracy: 0.07% | Test loss: 0.00231 | Test accuracy: 0.07%\n",
      "Epoch 8/50 | Train loss: 0.00081 | Train accuracy: 0.07% | Test loss: 0.00233 | Test accuracy: 0.07%\n",
      "Epoch 9/50 | Train loss: 0.00080 | Train accuracy: 0.07% | Test loss: 0.00226 | Test accuracy: 0.07%\n",
      "Epoch 10/50 | Train loss: 0.00080 | Train accuracy: 0.07% | Test loss: 0.00221 | Test accuracy: 0.07%\n",
      "Epoch 11/50 | Train loss: 0.00079 | Train accuracy: 0.07% | Test loss: 0.00211 | Test accuracy: 0.07%\n",
      "Epoch 12/50 | Train loss: 0.00079 | Train accuracy: 0.07% | Test loss: 0.00233 | Test accuracy: 0.08%\n",
      "Epoch 13/50 | Train loss: 0.00078 | Train accuracy: 0.07% | Test loss: 0.00217 | Test accuracy: 0.07%\n",
      "Epoch 14/50 | Train loss: 0.00078 | Train accuracy: 0.07% | Test loss: 0.00251 | Test accuracy: 0.07%\n",
      "Epoch 15/50 | Train loss: 0.00078 | Train accuracy: 0.07% | Test loss: 0.00213 | Test accuracy: 0.06%\n",
      "Epoch 16/50 | Train loss: 0.00077 | Train accuracy: 0.07% | Test loss: 0.00225 | Test accuracy: 0.08%\n",
      "Epoch 17/50 | Train loss: 0.00077 | Train accuracy: 0.07% | Test loss: 0.00212 | Test accuracy: 0.07%\n",
      "Epoch 18/50 | Train loss: 0.00077 | Train accuracy: 0.07% | Test loss: 0.00215 | Test accuracy: 0.08%\n",
      "Epoch 19/50 | Train loss: 0.00077 | Train accuracy: 0.07% | Test loss: 0.00209 | Test accuracy: 0.07%\n",
      "Epoch 20/50 | Train loss: 0.00076 | Train accuracy: 0.07% | Test loss: 0.00230 | Test accuracy: 0.07%\n",
      "Epoch 21/50 | Train loss: 0.00076 | Train accuracy: 0.07% | Test loss: 0.00224 | Test accuracy: 0.07%\n",
      "Epoch 22/50 | Train loss: 0.00076 | Train accuracy: 0.07% | Test loss: 0.00245 | Test accuracy: 0.07%\n",
      "Epoch 23/50 | Train loss: 0.00076 | Train accuracy: 0.07% | Test loss: 0.00219 | Test accuracy: 0.06%\n",
      "Epoch 24/50 | Train loss: 0.00076 | Train accuracy: 0.07% | Test loss: 0.00223 | Test accuracy: 0.07%\n",
      "Epoch 25/50 | Train loss: 0.00076 | Train accuracy: 0.07% | Test loss: 0.00226 | Test accuracy: 0.07%\n",
      "Epoch 26/50 | Train loss: 0.00075 | Train accuracy: 0.07% | Test loss: 0.00232 | Test accuracy: 0.06%\n",
      "Epoch 27/50 | Train loss: 0.00075 | Train accuracy: 0.08% | Test loss: 0.00213 | Test accuracy: 0.06%\n",
      "Epoch 28/50 | Train loss: 0.00075 | Train accuracy: 0.07% | Test loss: 0.00217 | Test accuracy: 0.08%\n",
      "Epoch 29/50 | Train loss: 0.00075 | Train accuracy: 0.07% | Test loss: 0.00212 | Test accuracy: 0.06%\n",
      "Epoch 30/50 | Train loss: 0.00075 | Train accuracy: 0.07% | Test loss: 0.00219 | Test accuracy: 0.07%\n",
      "Epoch 31/50 | Train loss: 0.00075 | Train accuracy: 0.07% | Test loss: 0.00225 | Test accuracy: 0.07%\n",
      "Epoch 32/50 | Train loss: 0.00075 | Train accuracy: 0.07% | Test loss: 0.00220 | Test accuracy: 0.07%\n",
      "Epoch 33/50 | Train loss: 0.00075 | Train accuracy: 0.07% | Test loss: 0.00229 | Test accuracy: 0.06%\n",
      "Epoch 34/50 | Train loss: 0.00075 | Train accuracy: 0.07% | Test loss: 0.00226 | Test accuracy: 0.07%\n",
      "Epoch 35/50 | Train loss: 0.00075 | Train accuracy: 0.07% | Test loss: 0.00226 | Test accuracy: 0.07%\n",
      "Epoch 36/50 | Train loss: 0.00074 | Train accuracy: 0.07% | Test loss: 0.00242 | Test accuracy: 0.07%\n",
      "Epoch 37/50 | Train loss: 0.00074 | Train accuracy: 0.07% | Test loss: 0.00214 | Test accuracy: 0.06%\n",
      "Epoch 38/50 | Train loss: 0.00074 | Train accuracy: 0.07% | Test loss: 0.00218 | Test accuracy: 0.06%\n",
      "Epoch 39/50 | Train loss: 0.00074 | Train accuracy: 0.07% | Test loss: 0.00220 | Test accuracy: 0.06%\n",
      "Epoch 40/50 | Train loss: 0.00074 | Train accuracy: 0.07% | Test loss: 0.00220 | Test accuracy: 0.06%\n",
      "Epoch 41/50 | Train loss: 0.00074 | Train accuracy: 0.07% | Test loss: 0.00242 | Test accuracy: 0.06%\n",
      "Epoch 42/50 | Train loss: 0.00074 | Train accuracy: 0.07% | Test loss: 0.00216 | Test accuracy: 0.07%\n",
      "Epoch 43/50 | Train loss: 0.00074 | Train accuracy: 0.07% | Test loss: 0.00249 | Test accuracy: 0.06%\n",
      "Epoch 44/50 | Train loss: 0.00074 | Train accuracy: 0.07% | Test loss: 0.00235 | Test accuracy: 0.10%\n",
      "Epoch 45/50 | Train loss: 0.00074 | Train accuracy: 0.07% | Test loss: 0.00225 | Test accuracy: 0.06%\n",
      "Epoch 46/50 | Train loss: 0.00074 | Train accuracy: 0.08% | Test loss: 0.00224 | Test accuracy: 0.07%\n",
      "Epoch 47/50 | Train loss: 0.00074 | Train accuracy: 0.08% | Test loss: 0.00217 | Test accuracy: 0.12%\n",
      "Epoch 48/50 | Train loss: 0.00074 | Train accuracy: 0.07% | Test loss: 0.00216 | Test accuracy: 0.07%\n",
      "Epoch 49/50 | Train loss: 0.00074 | Train accuracy: 0.08% | Test loss: 0.00222 | Test accuracy: 0.06%\n",
      "Epoch 50/50 | Train loss: 0.00074 | Train accuracy: 0.07% | Test loss: 0.00223 | Test accuracy: 0.09%\n",
      "Total time taken: 203.91563416099962\n"
     ]
    }
   ],
   "execution_count": 8
  },
  {
   "metadata": {},
   "cell_type": "markdown",
   "source": "# Evaluate Model",
   "id": "12e02627456a3a8b"
  },
  {
   "metadata": {
    "ExecuteTime": {
     "end_time": "2024-08-04T12:20:29.956835Z",
     "start_time": "2024-08-04T12:20:29.350193Z"
    }
   },
   "cell_type": "code",
   "source": [
    "evaluations = 3\n",
    "\n",
    "evaluation_dataset = FewShotDataset(\n",
    "    dataset_dir=dataset_dir,\n",
    "    dataset_name='evaluation'\n",
    ")\n",
    "\n",
    "model.eval() # set model into evaluation mode\n",
    "with torch.inference_mode():\n",
    "    \n",
    "    for _ in range(evaluations):\n",
    "        X, y, _ = random.choice(evaluation_dataset)\n",
    "        X, y = X.to(device) / 10, y.to(device) / 10\n",
    "        \n",
    "        y_pred = model(X)[0]\n",
    "        y_pred_norm = norm_arc20204(y_pred)\n",
    "        \n",
    "        plot.input_and_output(X * 10, y * 10, y_pred_norm * 10)\n",
    "        accuracy_pred = accuracy_fn(y, y_pred_norm)\n",
    "        print(f\"Accuracy: {accuracy_pred:.2f}% ({int(accuracy_pred / 100 * 900)}/900)\")\n"
   ],
   "id": "14b6af5afe472c9e",
   "outputs": [
    {
     "data": {
      "text/plain": [
       "<Figure size 1920x1440 with 3 Axes>"
      ],
      "image/png": "[encoded data removed]"
     },
     "metadata": {},
     "output_type": "display_data"
    },
    {
     "name": "stdout",
     "output_type": "stream",
     "text": [
      "Accuracy: 3.56% (32/900)\n"
     ]
    },
    {
     "data": {
      "text/plain": [
       "<Figure size 1920x1440 with 3 Axes>"
      ],
      "image/png": "[encoded data removed]"
     },
     "metadata": {},
     "output_type": "display_data"
    },
    {
     "name": "stdout",
     "output_type": "stream",
     "text": [
      "Accuracy: 1.78% (16/900)\n"
     ]
    },
    {
     "data": {
      "text/plain": [
       "<Figure size 1920x1440 with 3 Axes>"
      ],
      "image/png": "[encoded data removed]"
     },
     "metadata": {},
     "output_type": "display_data"
    },
    {
     "name": "stdout",
     "output_type": "stream",
     "text": [
      "Accuracy: 8.33% (74/900)\n"
     ]
    }
   ],
   "execution_count": 10
  },
  {
   "metadata": {
    "ExecuteTime": {
     "end_time": "2024-08-04T12:20:09.293115Z",
     "start_time": "2024-08-04T12:20:09.291187Z"
    }
   },
   "cell_type": "code",
   "source": "",
   "id": "283bc873102e917a",
   "outputs": [],
   "execution_count": 9
  }
 ],
 "metadata": {
  "kernelspec": {
   "display_name": "Python 3 (ipykernel)",
   "language": "python",
   "name": "python3"
  },
  "language_info": {
   "codemirror_mode": {
    "name": "ipython",
    "version": 3
   },
   "file_extension": ".py",
   "mimetype": "text/x-python",
   "name": "python",
   "nbconvert_exporter": "python",
   "pygments_lexer": "ipython3",
   "version": "3.12.4"
  }
 },
 "nbformat": 4,
 "nbformat_minor": 5
}
