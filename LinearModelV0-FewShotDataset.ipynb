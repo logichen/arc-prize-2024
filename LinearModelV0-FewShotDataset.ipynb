{
 "cells": [
  {
   "metadata": {},
   "cell_type": "markdown",
   "source": [
    "# LinearModelV0 with FewShotDataset\n",
    "\n",
    "This notebook is an experimental approach on solving the ARC challenge. See https://arcprize.org/ for more details."
   ],
   "id": "2deab4fa4b404fd9"
  },
  {
   "cell_type": "code",
   "id": "469d911a-eb08-40db-9491-58582e0a5244",
   "metadata": {
    "ExecuteTime": {
     "end_time": "2024-08-04T11:43:34.426916Z",
     "start_time": "2024-08-04T11:43:33.237213Z"
    }
   },
   "source": [
    "import os\n",
    "import random\n",
    "\n",
    "import torch\n",
    "\n",
    "from pathlib import Path\n",
    "\n",
    "from arc2024.data import FewShotDataset\n",
    "from arc2024.utils import plot\n",
    "from arc2024.utils.calc import accuracy_fn, norm_arc20204\n",
    "from arc2024.models.linear import LinearModelV0"
   ],
   "outputs": [],
   "execution_count": 1
  },
  {
   "metadata": {},
   "cell_type": "markdown",
   "source": "# Setup Device Agnostic Environment",
   "id": "238e55441bbcf17a"
  },
  {
   "metadata": {
    "ExecuteTime": {
     "end_time": "2024-08-04T11:43:34.719488Z",
     "start_time": "2024-08-04T11:43:34.428057Z"
    }
   },
   "cell_type": "code",
   "source": [
    "import arc2024.utils.amdgpu as amd\n",
    "\n",
    "if amd.is_amdgpu_on_linux():\n",
    "    # Use ROCm on rx6600/6600xt by setting the environment variable HSA_OVERRIDE_GFX_VERSION to \"10.3.0\"\n",
    "    # Source: https://github.com/ROCm/ROCm/issues/1698#issuecomment-1261646854\n",
    "    amd.setup_amdgpu_environment(\n",
    "        hsa_override_gfx_version=\"10.3.0\"\n",
    "    )\n",
    "\n",
    "device = torch.device('cuda' if torch.cuda.is_available() else 'cpu')\n",
    "device"
   ],
   "id": "564e0858a54fdba8",
   "outputs": [
    {
     "data": {
      "text/plain": [
       "device(type='cuda')"
      ]
     },
     "execution_count": 2,
     "metadata": {},
     "output_type": "execute_result"
    }
   ],
   "execution_count": 2
  },
  {
   "metadata": {},
   "cell_type": "markdown",
   "source": "## Prepare Datasets and DataLoaders",
   "id": "e1d56ce2d680401c"
  },
  {
   "metadata": {
    "ExecuteTime": {
     "end_time": "2024-08-04T11:43:37.677711Z",
     "start_time": "2024-08-04T11:43:34.720661Z"
    }
   },
   "cell_type": "code",
   "source": [
    "dataset_dir = Path('datasets')\n",
    "\n",
    "BATCH_SIZE = 32\n",
    "NUM_WORKERS = os.cpu_count()\n",
    "\n",
    "train_dataset = FewShotDataset(\n",
    "    dataset_dir=dataset_dir,\n",
    "    dataset_name='training',\n",
    "    permutations_enabled=True\n",
    ")\n",
    "train_dataloader = torch.utils.data.DataLoader(\n",
    "    dataset=train_dataset,\n",
    "    batch_size=BATCH_SIZE,\n",
    "    shuffle=True,\n",
    "    num_workers=NUM_WORKERS\n",
    ")\n",
    "\n",
    "test_dataset = FewShotDataset(\n",
    "    dataset_dir=dataset_dir,\n",
    "    dataset_name='evaluation'\n",
    ")\n",
    "test_dataloader = torch.utils.data.DataLoader(\n",
    "    dataset=test_dataset,\n",
    "    batch_size=BATCH_SIZE,\n",
    "    shuffle=True,\n",
    "    num_workers=NUM_WORKERS\n",
    ")"
   ],
   "id": "bb2cae609fdde826",
   "outputs": [],
   "execution_count": 3
  },
  {
   "metadata": {},
   "cell_type": "markdown",
   "source": "## Train Model",
   "id": "2177ae9236464708"
  },
  {
   "metadata": {
    "ExecuteTime": {
     "end_time": "2024-08-04T11:43:37.883707Z",
     "start_time": "2024-08-04T11:43:37.679172Z"
    }
   },
   "cell_type": "code",
   "source": [
    "model = LinearModelV0(\n",
    "    in_features=900, # 30x30\n",
    "    hidden_features=600, # do some compression\n",
    "    out_features=900\n",
    ").to(device)\n",
    "model"
   ],
   "id": "3f0a32b80655a8ce",
   "outputs": [
    {
     "data": {
      "text/plain": [
       "LinearModelV0(\n",
       "  (flatten): Flatten(start_dim=1, end_dim=-1)\n",
       "  (linear1): Linear(in_features=900, out_features=600, bias=True)\n",
       "  (linear2): Linear(in_features=600, out_features=900, bias=True)\n",
       "  (unflatten): Unflatten(dim=1, unflattened_size=(1, 30, 30))\n",
       ")"
      ]
     },
     "execution_count": 4,
     "metadata": {},
     "output_type": "execute_result"
    }
   ],
   "execution_count": 4
  },
  {
   "metadata": {},
   "cell_type": "markdown",
   "source": "### Verify Input and Output Shapes with Random Tensor",
   "id": "73ba81c9ca21ee99"
  },
  {
   "metadata": {
    "ExecuteTime": {
     "end_time": "2024-08-04T11:43:38.013683Z",
     "start_time": "2024-08-04T11:43:37.884625Z"
    }
   },
   "cell_type": "code",
   "source": [
    "x = torch.rand([1, 30, 30]).to(device)\n",
    "model(x).shape"
   ],
   "id": "e1b7befceacdb2e",
   "outputs": [
    {
     "data": {
      "text/plain": [
       "torch.Size([1, 1, 30, 30])"
      ]
     },
     "execution_count": 5,
     "metadata": {},
     "output_type": "execute_result"
    }
   ],
   "execution_count": 5
  },
  {
   "metadata": {
    "ExecuteTime": {
     "end_time": "2024-08-04T11:43:38.113547Z",
     "start_time": "2024-08-04T11:43:38.014665Z"
    }
   },
   "cell_type": "code",
   "source": [
    "X, y, _ = train_dataset[0]\n",
    "X = X.to(device) / 10\n",
    "y = y.to(device) / 10\n",
    "\n",
    "y_pred = model(X)\n",
    "y_pred, y_pred.shape"
   ],
   "id": "c490ced35ddd64a0",
   "outputs": [
    {
     "data": {
      "text/plain": [
       "(tensor([[[[-2.1568e-01, -4.0137e-01,  2.6724e-01,  5.0032e-01, -4.7847e-01,\n",
       "            -3.4459e-02, -3.3309e-01,  4.0050e-01, -5.8557e-02,  6.4230e-01,\n",
       "            -1.4980e-01,  4.5844e-01, -3.2111e-01, -2.7306e-01, -4.1934e-01,\n",
       "             5.3013e-01, -8.1817e-02,  3.7286e-01,  2.9115e-01, -4.2794e-01,\n",
       "            -1.9543e-01,  6.0223e-03, -1.5698e-01, -4.7385e-02,  6.3567e-02,\n",
       "            -1.0673e-01,  3.2759e-01,  4.8625e-01, -9.9033e-02, -3.4296e-01],\n",
       "           [ 3.5707e-01, -4.8886e-02,  1.4782e-01,  1.3812e-01, -4.7564e-01,\n",
       "            -5.7745e-02, -2.2474e-01, -3.3578e-01,  5.7514e-01,  3.4141e-01,\n",
       "            -1.5085e-01, -3.0505e-01,  1.3396e-01,  1.7827e-01,  2.6323e-01,\n",
       "             2.1015e-01, -1.3417e-01, -6.0559e-02,  4.2614e-02, -1.3822e-01,\n",
       "            -4.0485e-01,  3.8044e-01,  3.3597e-02,  4.0333e-02, -5.3954e-01,\n",
       "             5.5254e-02, -1.8759e-02,  3.5867e-01, -1.7080e-01, -7.7632e-02],\n",
       "           [-6.3842e-02, -2.7248e-01,  5.2977e-02, -4.7267e-02,  1.7519e-01,\n",
       "            -7.0751e-01,  9.8324e-01, -2.8528e-01,  3.5095e-01,  2.7420e-02,\n",
       "            -5.0699e-02, -3.7939e-01, -2.4973e-01, -4.1133e-02, -6.3540e-02,\n",
       "            -1.7298e-01, -1.3941e-01, -3.6046e-01, -1.9217e-01,  6.9508e-02,\n",
       "            -2.6840e-01,  1.5972e-01, -2.8930e-02,  2.6348e-01, -7.7620e-02,\n",
       "            -2.0496e-01, -5.0876e-01, -3.8830e-01,  3.1452e-01, -4.6384e-01],\n",
       "           [ 4.8994e-02, -4.9134e-01,  1.3496e-02,  2.8739e-01, -1.9710e-01,\n",
       "             2.3375e-01, -2.3877e-01, -2.0673e-01, -3.4365e-01, -1.5744e-01,\n",
       "            -4.9292e-02, -3.2116e-01,  2.0542e-02,  9.1079e-02, -1.4637e-01,\n",
       "            -2.1688e-01,  8.6364e-02, -1.7927e-01,  3.1069e-01, -2.6981e-01,\n",
       "            -8.4658e-01,  1.6021e-01,  3.9130e-01, -2.2123e-01, -3.1740e-01,\n",
       "             4.1642e-01, -1.2453e-01,  1.9071e-01, -2.9265e-01, -3.7383e-01],\n",
       "           [ 7.8352e-02,  4.0895e-01,  5.7929e-01, -1.7940e-01, -3.7751e-01,\n",
       "            -1.8823e-01, -1.0264e-01,  3.1772e-01, -2.1345e-01, -2.1988e-01,\n",
       "            -2.0236e-01,  6.6800e-01,  3.9119e-01,  5.2251e-02,  8.1917e-02,\n",
       "            -9.7964e-02,  1.2263e-01, -2.8616e-01, -3.2793e-01, -1.8967e-01,\n",
       "            -5.0621e-01, -3.0627e-01, -2.2041e-02,  1.7994e-01, -1.8466e-01,\n",
       "            -2.7523e-01,  5.2378e-01, -1.5521e-01,  8.1140e-02,  9.8054e-02],\n",
       "           [-8.6876e-02, -6.1111e-01, -5.4829e-02, -2.5868e-01, -1.4897e-01,\n",
       "             4.0728e-02, -1.1851e-01, -5.1543e-01,  6.0744e-01, -5.7498e-01,\n",
       "             2.4607e-01,  1.1946e-01, -2.2289e-01, -1.3097e-01,  5.6247e-01,\n",
       "             7.9881e-02,  2.9394e-01,  5.7196e-01, -9.3965e-02,  6.2009e-02,\n",
       "             8.6597e-02,  1.5297e-01,  6.8062e-01, -1.7124e-01, -4.1644e-01,\n",
       "            -2.8630e-01,  2.9503e-01,  4.1334e-01, -1.5830e-02,  1.2362e-01],\n",
       "           [-1.8098e-01, -3.2253e-03,  4.2283e-02, -5.4432e-02, -4.1503e-01,\n",
       "             3.5359e-01, -9.2369e-02, -7.7820e-02, -4.6724e-01, -2.0051e-02,\n",
       "             1.2017e-01, -1.7167e-01, -6.6452e-01, -6.1124e-03, -3.3756e-01,\n",
       "             1.4685e-01,  8.4335e-02,  2.3931e-01,  9.5064e-02,  1.2824e-01,\n",
       "            -1.9071e-01,  1.0483e-01, -2.5814e-01, -4.6903e-01,  5.7540e-01,\n",
       "            -3.4576e-01,  1.0662e-02, -6.4319e-01,  1.8029e-01, -6.7449e-01],\n",
       "           [-6.2772e-01, -3.5157e-01, -4.0453e-01,  3.3302e-01,  2.8055e-01,\n",
       "             5.2333e-01,  2.9448e-01, -1.6142e-01, -2.8077e-01, -4.8520e-01,\n",
       "            -5.1976e-03,  2.3677e-01,  9.9435e-03,  1.3276e-01,  1.7720e-01,\n",
       "             2.1730e-01, -1.0883e-01,  6.1812e-02,  1.0487e-01, -1.2949e-01,\n",
       "             7.0828e-02, -3.3554e-01,  1.1489e-01, -4.2057e-01,  7.4385e-01,\n",
       "            -1.2193e-01,  6.7616e-02,  3.1212e-01, -1.9326e-01, -1.4218e-02],\n",
       "           [-5.2603e-01, -3.8466e-01,  2.2742e-01,  3.4352e-02, -6.3578e-01,\n",
       "            -1.2878e-01,  4.8704e-01,  4.4764e-01,  2.9383e-01,  7.7883e-01,\n",
       "             5.7082e-01, -2.0347e-01, -2.3318e-01, -4.0889e-02,  5.2996e-02,\n",
       "             4.6959e-01,  1.3262e-01,  2.3695e-01, -4.8541e-01, -4.6895e-02,\n",
       "             2.3754e-01,  1.1505e-02,  5.5546e-01,  3.9774e-01,  2.6202e-01,\n",
       "             6.0618e-02,  2.5324e-01,  3.6382e-01,  1.6821e-01,  1.7309e-01],\n",
       "           [-3.9331e-02, -3.0553e-01, -1.5340e-01, -2.4165e-01,  1.4740e-02,\n",
       "            -2.1880e-02, -5.1126e-01, -3.7121e-02,  2.8326e-01, -5.7182e-01,\n",
       "             7.1684e-01,  7.2711e-02, -4.8490e-02,  4.2771e-02,  8.0487e-02,\n",
       "             3.5629e-03,  1.9953e-01,  2.1174e-01,  3.2397e-02, -2.3990e-01,\n",
       "             6.9508e-03, -1.1518e-01,  2.4508e-01, -2.6665e-02,  3.5247e-01,\n",
       "            -9.5497e-01, -3.7121e-01, -1.4585e-01,  1.1734e-01,  1.6399e-01],\n",
       "           [-4.0600e-01, -3.9432e-01,  1.5560e-01, -2.0349e-01,  1.6026e-01,\n",
       "             2.5076e-01, -3.0217e-01,  9.0534e-02,  2.0385e-01,  4.6960e-01,\n",
       "            -1.0867e-01, -2.6904e-02, -5.2701e-01, -4.0560e-01, -2.4848e-01,\n",
       "             2.6123e-01, -3.1598e-02,  1.9433e-01,  3.4333e-02,  5.7289e-01,\n",
       "             4.6071e-02,  8.5209e-02,  3.6486e-01, -1.2088e-01,  2.6794e-01,\n",
       "            -3.5354e-01, -1.2976e-01, -2.9858e-01,  9.4158e-02,  6.6364e-01],\n",
       "           [-1.6934e-01, -5.7755e-01, -7.6888e-01,  2.3302e-01,  1.0844e-01,\n",
       "             1.0940e-01,  3.6142e-01,  3.8966e-01, -1.8593e-01, -1.6004e-01,\n",
       "             3.6827e-01,  2.7742e-01,  2.6018e-01,  5.9050e-01,  2.5459e-01,\n",
       "             1.0671e-01, -7.4715e-02,  4.3408e-01,  6.6660e-01, -2.3007e-01,\n",
       "            -1.7957e-01,  7.3217e-01,  4.7673e-01, -6.6837e-02,  5.3994e-01,\n",
       "            -7.2605e-02,  3.3435e-02, -3.5915e-01, -2.9241e-01,  1.7770e-01],\n",
       "           [-8.2766e-02,  9.3387e-03,  1.2581e-01,  3.3887e-01,  4.5356e-02,\n",
       "             3.0939e-01,  8.1374e-01, -1.6538e-01, -1.7771e-01, -1.0712e-01,\n",
       "            -1.3486e-01, -3.5413e-02, -1.8743e-03, -2.4690e-01, -3.3669e-02,\n",
       "             7.6056e-02, -4.1281e-01,  4.2744e-01, -2.2111e-01,  4.0745e-01,\n",
       "             4.2565e-01,  6.4264e-01, -3.1834e-01,  2.3794e-01, -1.2813e-01,\n",
       "            -3.4800e-01,  3.7214e-01, -4.1520e-01, -8.3226e-02, -3.5690e-01],\n",
       "           [ 1.3252e-01, -3.5668e-01, -2.0504e-01, -3.3013e-02, -4.8408e-01,\n",
       "             6.5359e-01,  8.5061e-01, -1.9680e-01, -4.9359e-02,  8.3960e-01,\n",
       "            -2.1875e-01, -2.9633e-02,  4.7468e-01, -1.1594e-01, -1.4525e-01,\n",
       "             6.2236e-01,  1.9254e-01, -3.1585e-01, -3.4313e-02, -2.4620e-02,\n",
       "            -2.3689e-02,  1.3996e-01,  2.9238e-02, -6.0297e-02,  3.8616e-01,\n",
       "             1.1433e-01, -5.6230e-01, -4.2017e-01,  4.7404e-01,  5.9507e-01],\n",
       "           [ 5.1921e-01, -2.2064e-01,  3.7808e-01, -2.6926e-01,  2.4163e-01,\n",
       "            -6.0369e-01,  1.2781e-01,  6.8194e-02, -8.6229e-01, -4.5383e-01,\n",
       "             6.6699e-02, -1.5813e-01, -3.2946e-01,  1.2514e-01,  1.9820e-01,\n",
       "             2.3536e-01,  1.2318e-02, -5.8790e-02,  3.0369e-01,  2.2212e-02,\n",
       "            -3.0205e-01, -1.5636e-02,  1.1719e-01,  1.1888e-01, -1.6978e-02,\n",
       "            -4.4646e-01,  8.9420e-01, -2.6612e-01, -6.4544e-02, -2.0657e-01],\n",
       "           [ 9.3437e-02,  9.9718e-02, -3.0161e-01,  1.9698e-01,  9.7889e-02,\n",
       "             5.3252e-02,  3.4464e-01, -2.0053e-01,  6.7420e-03,  5.6905e-01,\n",
       "            -1.3846e-01,  2.5688e-01, -2.2667e-01,  1.9805e-01, -2.2523e-01,\n",
       "            -2.7986e-01,  7.9898e-01,  5.0682e-01,  3.1680e-01,  1.1468e-01,\n",
       "             5.1992e-01, -1.3530e-01, -4.0223e-01,  3.2542e-01,  6.3136e-02,\n",
       "            -3.9765e-01,  4.6608e-01, -1.8716e-01,  2.9812e-01,  3.8240e-01],\n",
       "           [ 9.9485e-03, -6.6713e-01, -1.1443e-01,  4.4191e-01,  5.8834e-02,\n",
       "            -2.5826e-01, -3.4251e-01,  5.1281e-01,  6.8453e-01,  3.9018e-01,\n",
       "            -3.8494e-02, -1.9078e-01, -6.9776e-02, -8.5171e-02, -3.7577e-01,\n",
       "            -4.4879e-01,  3.8608e-01,  7.1193e-01,  8.5975e-03, -6.1470e-01,\n",
       "             2.5781e-01, -5.5026e-02, -7.8925e-02, -9.1819e-02,  9.2586e-02,\n",
       "             4.3044e-01,  1.4130e-01, -2.5818e-01, -3.0378e-01, -2.5619e-01],\n",
       "           [-1.4646e-01, -4.0422e-01, -5.7388e-01, -1.9553e-01,  2.9593e-01,\n",
       "             3.9349e-02, -1.2268e-01, -1.7516e-01,  2.6679e-01,  4.5360e-01,\n",
       "             1.2528e-01,  2.7800e-01,  4.2348e-01, -2.6916e-01, -5.7766e-01,\n",
       "            -1.6683e-01,  8.4561e-01, -4.7694e-01,  6.5019e-01,  6.0829e-03,\n",
       "            -2.5365e-01, -6.0390e-02, -2.1921e-01,  1.4995e-01, -8.8943e-02,\n",
       "            -1.8367e-01, -4.4115e-01,  2.7363e-01,  4.1400e-02,  1.8659e-01],\n",
       "           [-8.6427e-01,  3.8274e-01,  5.7278e-01,  3.9237e-01,  1.6291e-01,\n",
       "             5.2045e-02,  1.6850e-02,  2.6980e-01, -1.1481e-01, -1.0398e-01,\n",
       "             1.6651e-01, -7.2729e-03,  2.5454e-01, -5.9465e-01,  4.5418e-01,\n",
       "             2.0332e-01,  4.8287e-02, -6.7242e-01, -7.3864e-02,  7.1062e-02,\n",
       "             8.1410e-02,  1.5982e-01, -4.7892e-01,  1.2428e-01,  2.7317e-01,\n",
       "             4.7354e-01, -1.8425e-02, -3.7197e-01,  7.2215e-02, -4.3131e-01],\n",
       "           [-5.3910e-02,  8.4066e-02,  1.6856e-02, -1.5035e-01,  7.3979e-02,\n",
       "            -1.9688e-01,  2.4369e-01,  1.1726e-01, -6.0899e-01,  4.1793e-01,\n",
       "            -5.7542e-03, -1.6337e-01,  1.1499e-02, -1.4116e-02,  2.0529e-01,\n",
       "            -1.4901e-01, -3.4896e-01, -4.7309e-01, -2.4778e-01, -1.3141e-01,\n",
       "             3.8826e-01,  5.3274e-01, -8.6392e-01, -1.8438e-01,  8.0394e-01,\n",
       "             7.5192e-02,  4.0207e-01, -2.1396e-01,  1.4673e-01,  1.7264e-02],\n",
       "           [-7.6931e-02,  2.7574e-01, -3.6808e-01, -2.0537e-01,  4.3048e-02,\n",
       "             5.2506e-01, -6.6950e-02,  1.6956e-01, -1.3767e-01, -8.9979e-02,\n",
       "             8.4284e-02, -1.0607e-01, -5.1956e-01, -4.1290e-01,  4.2162e-01,\n",
       "             5.1345e-04,  2.1978e-01,  1.3083e-01,  7.2928e-02,  4.4163e-01,\n",
       "             7.8297e-02,  1.1753e-01,  3.4991e-01,  2.6456e-01, -2.0839e-01,\n",
       "             4.7620e-01,  6.4094e-01,  3.0999e-01,  5.3607e-02,  9.5176e-02],\n",
       "           [-3.8723e-01, -6.1642e-03, -3.8964e-01, -4.3837e-02,  6.7702e-01,\n",
       "            -6.6137e-03,  2.0575e-01,  6.2925e-01, -2.3465e-01,  7.2138e-02,\n",
       "             2.9103e-01, -2.7971e-01,  1.3639e-01,  2.2102e-01, -5.0467e-02,\n",
       "            -5.2639e-02, -2.7861e-01,  4.1441e-01, -3.4950e-01,  1.5270e-01,\n",
       "             7.5200e-02,  2.9192e-01, -3.3475e-01,  1.1485e-01, -5.6797e-01,\n",
       "             3.0562e-01,  2.0422e-01, -2.8195e-01, -1.7193e-01,  1.0027e-01],\n",
       "           [-4.8908e-02, -4.6653e-03,  2.4567e-01,  2.4784e-01,  4.0480e-01,\n",
       "            -3.3859e-01, -4.2085e-02,  1.4030e-01,  4.1313e-01, -5.0645e-01,\n",
       "            -2.1983e-01, -7.4359e-01, -9.9380e-02,  3.4480e-01,  6.7717e-02,\n",
       "             4.0258e-02,  2.9866e-01,  7.2824e-03,  1.6959e-01,  9.1941e-03,\n",
       "            -2.3541e-01,  3.0077e-01,  1.6476e-01,  3.8467e-01,  6.1150e-01,\n",
       "            -4.3765e-02,  4.0518e-01, -4.5117e-01, -5.5587e-01, -4.8850e-02],\n",
       "           [ 1.3793e-01,  2.1581e-01,  3.4570e-01,  4.0191e-02, -8.8129e-02,\n",
       "            -4.2139e-02, -5.0744e-01, -2.1053e-01, -3.0084e-01,  2.0484e-02,\n",
       "             3.4644e-01,  2.8468e-01, -7.0868e-02,  5.6466e-02, -2.0676e-01,\n",
       "            -1.4137e-01,  4.3983e-01,  4.0020e-01,  3.2956e-01, -4.4825e-01,\n",
       "             2.6779e-01, -2.1033e-01, -4.7542e-01,  3.6330e-01,  5.6441e-01,\n",
       "             1.4553e-01, -1.8177e-01, -2.5401e-01,  1.6641e-01,  7.9825e-02],\n",
       "           [ 3.1937e-02,  2.4862e-01, -6.2500e-01, -2.2251e-02,  4.3453e-01,\n",
       "            -2.3597e-01, -2.5753e-01,  2.7504e-01, -2.8983e-01, -1.7643e-01,\n",
       "            -2.3747e-01, -1.4031e-02,  4.3669e-01,  4.9451e-02, -5.2181e-01,\n",
       "             4.7594e-01, -4.3429e-01,  1.1892e-01,  4.5391e-01,  1.2533e-01,\n",
       "            -5.7032e-01, -3.7186e-01,  2.7064e-02,  1.2273e-01,  1.7471e-01,\n",
       "             7.2679e-02, -2.1345e-01,  1.7007e-01,  7.7133e-02, -2.3136e-01],\n",
       "           [-5.0944e-01,  7.4542e-02,  1.3501e-01,  1.2628e-01,  1.7856e-02,\n",
       "            -7.5028e-01,  1.2902e-01, -8.8280e-02, -1.8139e-02,  3.6962e-01,\n",
       "             3.8357e-01,  2.5198e-01, -2.5998e-01,  2.1863e-01, -2.9006e-01,\n",
       "             7.5313e-01, -3.8596e-01, -4.0213e-01, -7.1003e-02,  5.1756e-01,\n",
       "            -1.5553e-01, -2.9620e-01, -6.8484e-02,  1.0406e-01,  3.2994e-01,\n",
       "             3.8312e-01, -3.4367e-01, -1.5973e-01, -2.3754e-02, -4.2076e-01],\n",
       "           [-3.0672e-01,  1.7754e-01, -4.2020e-01,  5.9095e-01,  3.6776e-01,\n",
       "            -4.5227e-01, -9.2822e-02,  5.5093e-01,  4.1493e-01, -3.9104e-01,\n",
       "             2.1671e-01,  1.1350e+00,  4.7173e-03, -2.8938e-01,  3.9953e-01,\n",
       "             1.3902e-01, -1.1731e-01, -8.2035e-02,  2.7569e-01, -7.0198e-01,\n",
       "             2.7985e-02, -5.8321e-01,  3.0922e-01, -2.0666e-02,  2.7476e-01,\n",
       "            -5.7022e-02,  1.9457e-02, -7.9280e-01, -1.0849e-01, -2.3372e-01],\n",
       "           [-8.3944e-03,  3.7223e-02, -3.8584e-02, -1.3620e-01,  2.1421e-01,\n",
       "             9.9374e-02, -1.4139e-01,  4.3880e-01,  6.8020e-01,  4.8609e-01,\n",
       "             1.4957e-02,  7.4177e-01, -3.6666e-01,  6.7971e-01,  2.1686e-01,\n",
       "             8.0555e-01,  2.5670e-01,  1.0058e-01, -9.7971e-02, -5.9632e-02,\n",
       "             1.9263e-01, -4.0387e-02, -7.7538e-01,  3.3129e-01,  2.2464e-01,\n",
       "            -2.6848e-01,  3.3354e-01, -9.0009e-02,  1.4602e-01, -8.2920e-01],\n",
       "           [ 3.8381e-01,  2.5136e-01, -1.6261e-01,  4.5890e-01,  3.6865e-01,\n",
       "            -4.6819e-03,  1.8118e-01,  1.4687e-01, -4.2364e-01,  2.6497e-02,\n",
       "             1.8802e-01,  4.4234e-01, -1.4349e-01,  1.7985e-01, -1.3884e-01,\n",
       "            -3.1742e-01, -2.6611e-01,  1.1481e-01, -2.6427e-01, -3.1916e-01,\n",
       "            -1.3690e-01,  1.0760e-01,  5.2781e-01, -6.5310e-02,  1.3106e-01,\n",
       "             1.9619e-01, -2.3706e-02, -7.9122e-02,  2.6359e-01, -3.5872e-01],\n",
       "           [-1.0018e-01,  3.1693e-01, -8.0821e-02,  3.1651e-01, -4.1808e-02,\n",
       "            -5.0571e-01,  1.6307e-01, -3.5727e-01,  1.1407e-01, -7.7709e-01,\n",
       "            -1.7896e-01,  1.0834e-02, -3.5465e-01, -7.4500e-02, -1.0226e-01,\n",
       "             5.6270e-01, -3.3213e-01, -7.3336e-02,  2.0122e-01, -8.6765e-01,\n",
       "             3.1956e-01,  2.0204e-01, -6.8302e-01, -3.6955e-01, -1.1792e-01,\n",
       "            -1.5710e-01, -2.5028e-01, -3.3435e-01, -3.3494e-01, -6.3553e-01]]]],\n",
       "        device='cuda:0', grad_fn=<ViewBackward0>),\n",
       " torch.Size([1, 1, 30, 30]))"
      ]
     },
     "execution_count": 6,
     "metadata": {},
     "output_type": "execute_result"
    }
   ],
   "execution_count": 6
  },
  {
   "metadata": {},
   "cell_type": "markdown",
   "source": "### Setup Loss, optimizer and evaluation metrics",
   "id": "eee172db70a38518"
  },
  {
   "metadata": {
    "ExecuteTime": {
     "end_time": "2024-08-04T11:43:38.511090Z",
     "start_time": "2024-08-04T11:43:38.114346Z"
    }
   },
   "cell_type": "code",
   "source": [
    "loss_fn = torch.nn.MSELoss()\n",
    "optimizer = torch.optim.SGD(params=model.parameters(), lr=0.01)"
   ],
   "id": "1ce92989eac86aa2",
   "outputs": [],
   "execution_count": 7
  },
  {
   "metadata": {},
   "cell_type": "markdown",
   "source": "### Run Training Loop",
   "id": "518300e154e22dd8"
  },
  {
   "metadata": {
    "ExecuteTime": {
     "end_time": "2024-08-04T11:46:51.959970Z",
     "start_time": "2024-08-04T11:44:11.098640Z"
    }
   },
   "cell_type": "code",
   "source": [
    "from timeit import default_timer as timer \n",
    "\n",
    "episodes = 3\n",
    "epochs = 50\n",
    "\n",
    "time_start = timer()\n",
    "for epoch in range(epochs):\n",
    "    ### Training\n",
    "    train_loss = 0\n",
    "    train_accuracy = 0\n",
    "\n",
    "    model.train() # Set model into training mode\n",
    "    \n",
    "    for b, (X_train, y_train, challenge_ids) in enumerate(train_dataloader):\n",
    "        for challenge_id in challenge_ids:\n",
    "            X_shots, y_shots = train_dataset.get_samples(challenge_id, episodes)\n",
    "            X_shots, y_shots = X_shots.to(device) / 10, y_shots.to(device) / 10\n",
    "            \n",
    "            # Forward pass:\n",
    "            shots_pred = model(X_shots)\n",
    "            \n",
    "            # Calculate loss:\n",
    "            loss = loss_fn(shots_pred, y_shots)\n",
    "            \n",
    "            # Reset optimizer gradients:\n",
    "            optimizer.zero_grad()\n",
    "            \n",
    "            # Backward pass:\n",
    "            loss.backward()\n",
    "            \n",
    "            # Adjust parameters:\n",
    "            optimizer.step()\n",
    "        \n",
    "        # Send to device and normalize:\n",
    "        X_train, y_train = X_train.to(device) / 10, y_train.to(device) / 10\n",
    "        \n",
    "        # Forward pass:\n",
    "        train_pred = model(X_train)\n",
    "        \n",
    "        # Calculate loss:\n",
    "        loss = loss_fn(train_pred, y_train)\n",
    "        train_loss += loss\n",
    "        train_accuracy += accuracy_fn(y_train, norm_arc20204(train_pred))\n",
    "        \n",
    "        # Reset optimizer gradients:\n",
    "        optimizer.zero_grad()\n",
    "        \n",
    "        # Backward pass:\n",
    "        loss.backward()\n",
    "        \n",
    "        # Adjust parameters:\n",
    "        optimizer.step()\n",
    "\n",
    "    train_loss /= len(train_dataloader.dataset)\n",
    "    train_accuracy /= len(train_dataloader.dataset)\n",
    "    \n",
    "    ### Testing\n",
    "    test_loss = 0\n",
    "    test_accuracy = 0\n",
    "    model.eval() # set model into evaluation mode\n",
    "\n",
    "    with torch.inference_mode():\n",
    "        for X_test, y_test, _ in test_dataloader:\n",
    "            # Send to device and normalize:\n",
    "            X_test, y_test = X_test.to(device) / 10, y_test.to(device) / 10\n",
    "\n",
    "            # Forward pass:\n",
    "            test_pred = model(X_test)\n",
    "\n",
    "            # Calculate loss:\n",
    "            loss = loss_fn(test_pred, y_test)\n",
    "            test_loss += loss\n",
    "            test_accuracy += accuracy_fn(y_test, norm_arc20204(test_pred))\n",
    "    \n",
    "        test_loss /= len(test_dataloader.dataset)\n",
    "        test_accuracy /= len(test_dataloader.dataset)\n",
    "    \n",
    "    print(f\"Epoch {epoch + 1}/{epochs} | Train loss: {train_loss:.5f} | Train accuracy: {train_accuracy:.2f}% | Test loss: {test_loss:.5f} | Test accuracy: {test_accuracy:.2f}%\")\n",
    "time_end = timer()\n",
    "\n",
    "print(f\"Total time taken: {time_end - time_start}\")"
   ],
   "id": "96d6551b2f990249",
   "outputs": [
    {
     "name": "stdout",
     "output_type": "stream",
     "text": [
      "Epoch 1/50 | Train loss: 0.00096 | Train accuracy: 0.06% | Test loss: 0.00250 | Test accuracy: 0.06%\n",
      "Epoch 2/50 | Train loss: 0.00090 | Train accuracy: 0.06% | Test loss: 0.00238 | Test accuracy: 0.07%\n",
      "Epoch 3/50 | Train loss: 0.00087 | Train accuracy: 0.06% | Test loss: 0.00232 | Test accuracy: 0.06%\n",
      "Epoch 4/50 | Train loss: 0.00085 | Train accuracy: 0.06% | Test loss: 0.00233 | Test accuracy: 0.06%\n",
      "Epoch 5/50 | Train loss: 0.00083 | Train accuracy: 0.07% | Test loss: 0.00233 | Test accuracy: 0.06%\n",
      "Epoch 6/50 | Train loss: 0.00082 | Train accuracy: 0.07% | Test loss: 0.00215 | Test accuracy: 0.06%\n",
      "Epoch 7/50 | Train loss: 0.00081 | Train accuracy: 0.07% | Test loss: 0.00238 | Test accuracy: 0.06%\n",
      "Epoch 8/50 | Train loss: 0.00080 | Train accuracy: 0.07% | Test loss: 0.00232 | Test accuracy: 0.06%\n",
      "Epoch 9/50 | Train loss: 0.00080 | Train accuracy: 0.07% | Test loss: 0.00233 | Test accuracy: 0.09%\n",
      "Epoch 10/50 | Train loss: 0.00079 | Train accuracy: 0.07% | Test loss: 0.00271 | Test accuracy: 0.07%\n",
      "Epoch 11/50 | Train loss: 0.00079 | Train accuracy: 0.07% | Test loss: 0.00223 | Test accuracy: 0.06%\n",
      "Epoch 12/50 | Train loss: 0.00078 | Train accuracy: 0.07% | Test loss: 0.00223 | Test accuracy: 0.06%\n",
      "Epoch 13/50 | Train loss: 0.00078 | Train accuracy: 0.07% | Test loss: 0.00236 | Test accuracy: 0.06%\n",
      "Epoch 14/50 | Train loss: 0.00078 | Train accuracy: 0.07% | Test loss: 0.00214 | Test accuracy: 0.06%\n",
      "Epoch 15/50 | Train loss: 0.00077 | Train accuracy: 0.07% | Test loss: 0.00218 | Test accuracy: 0.06%\n",
      "Epoch 16/50 | Train loss: 0.00077 | Train accuracy: 0.07% | Test loss: 0.00217 | Test accuracy: 0.06%\n",
      "Epoch 17/50 | Train loss: 0.00077 | Train accuracy: 0.07% | Test loss: 0.00217 | Test accuracy: 0.07%\n",
      "Epoch 18/50 | Train loss: 0.00077 | Train accuracy: 0.07% | Test loss: 0.00223 | Test accuracy: 0.07%\n",
      "Epoch 19/50 | Train loss: 0.00077 | Train accuracy: 0.07% | Test loss: 0.00219 | Test accuracy: 0.07%\n",
      "Epoch 20/50 | Train loss: 0.00076 | Train accuracy: 0.07% | Test loss: 0.00228 | Test accuracy: 0.06%\n",
      "Epoch 21/50 | Train loss: 0.00076 | Train accuracy: 0.07% | Test loss: 0.00219 | Test accuracy: 0.06%\n",
      "Epoch 22/50 | Train loss: 0.00076 | Train accuracy: 0.07% | Test loss: 0.00246 | Test accuracy: 0.07%\n",
      "Epoch 23/50 | Train loss: 0.00076 | Train accuracy: 0.07% | Test loss: 0.00229 | Test accuracy: 0.08%\n",
      "Epoch 24/50 | Train loss: 0.00076 | Train accuracy: 0.07% | Test loss: 0.00220 | Test accuracy: 0.06%\n",
      "Epoch 25/50 | Train loss: 0.00076 | Train accuracy: 0.07% | Test loss: 0.00260 | Test accuracy: 0.06%\n",
      "Epoch 26/50 | Train loss: 0.00076 | Train accuracy: 0.07% | Test loss: 0.00222 | Test accuracy: 0.06%\n",
      "Epoch 27/50 | Train loss: 0.00076 | Train accuracy: 0.07% | Test loss: 0.00235 | Test accuracy: 0.07%\n",
      "Epoch 28/50 | Train loss: 0.00076 | Train accuracy: 0.07% | Test loss: 0.00231 | Test accuracy: 0.07%\n",
      "Epoch 29/50 | Train loss: 0.00076 | Train accuracy: 0.07% | Test loss: 0.00231 | Test accuracy: 0.07%\n",
      "Epoch 30/50 | Train loss: 0.00076 | Train accuracy: 0.07% | Test loss: 0.00219 | Test accuracy: 0.08%\n",
      "Epoch 31/50 | Train loss: 0.00076 | Train accuracy: 0.07% | Test loss: 0.00226 | Test accuracy: 0.06%\n",
      "Epoch 32/50 | Train loss: 0.00075 | Train accuracy: 0.07% | Test loss: 0.00250 | Test accuracy: 0.07%\n",
      "Epoch 33/50 | Train loss: 0.00075 | Train accuracy: 0.07% | Test loss: 0.00232 | Test accuracy: 0.06%\n",
      "Epoch 34/50 | Train loss: 0.00075 | Train accuracy: 0.07% | Test loss: 0.00247 | Test accuracy: 0.06%\n",
      "Epoch 35/50 | Train loss: 0.00075 | Train accuracy: 0.07% | Test loss: 0.00224 | Test accuracy: 0.08%\n",
      "Epoch 36/50 | Train loss: 0.00075 | Train accuracy: 0.07% | Test loss: 0.00224 | Test accuracy: 0.06%\n",
      "Epoch 37/50 | Train loss: 0.00075 | Train accuracy: 0.07% | Test loss: 0.00225 | Test accuracy: 0.07%\n",
      "Epoch 38/50 | Train loss: 0.00075 | Train accuracy: 0.07% | Test loss: 0.00222 | Test accuracy: 0.07%\n",
      "Epoch 39/50 | Train loss: 0.00075 | Train accuracy: 0.07% | Test loss: 0.00217 | Test accuracy: 0.07%\n",
      "Epoch 40/50 | Train loss: 0.00075 | Train accuracy: 0.07% | Test loss: 0.00242 | Test accuracy: 0.06%\n",
      "Epoch 41/50 | Train loss: 0.00075 | Train accuracy: 0.07% | Test loss: 0.00230 | Test accuracy: 0.09%\n",
      "Epoch 42/50 | Train loss: 0.00075 | Train accuracy: 0.07% | Test loss: 0.00237 | Test accuracy: 0.05%\n",
      "Epoch 43/50 | Train loss: 0.00075 | Train accuracy: 0.07% | Test loss: 0.00225 | Test accuracy: 0.06%\n",
      "Epoch 44/50 | Train loss: 0.00075 | Train accuracy: 0.07% | Test loss: 0.00251 | Test accuracy: 0.06%\n",
      "Epoch 45/50 | Train loss: 0.00074 | Train accuracy: 0.07% | Test loss: 0.00226 | Test accuracy: 0.07%\n",
      "Epoch 46/50 | Train loss: 0.00074 | Train accuracy: 0.07% | Test loss: 0.00220 | Test accuracy: 0.06%\n",
      "Epoch 47/50 | Train loss: 0.00074 | Train accuracy: 0.07% | Test loss: 0.00237 | Test accuracy: 0.06%\n",
      "Epoch 48/50 | Train loss: 0.00075 | Train accuracy: 0.07% | Test loss: 0.00221 | Test accuracy: 0.10%\n",
      "Epoch 49/50 | Train loss: 0.00074 | Train accuracy: 0.07% | Test loss: 0.00236 | Test accuracy: 0.05%\n",
      "Epoch 50/50 | Train loss: 0.00074 | Train accuracy: 0.07% | Test loss: 0.00223 | Test accuracy: 0.07%\n",
      "Total time taken: 160.854109033\n"
     ]
    }
   ],
   "execution_count": 9
  },
  {
   "metadata": {},
   "cell_type": "markdown",
   "source": "# Evaluate Model",
   "id": "12e02627456a3a8b"
  },
  {
   "metadata": {
    "ExecuteTime": {
     "end_time": "2024-08-04T11:47:33.399116Z",
     "start_time": "2024-08-04T11:47:32.813152Z"
    }
   },
   "cell_type": "code",
   "source": [
    "evaluations = 3\n",
    "\n",
    "evaluation_dataset = FewShotDataset(\n",
    "    dataset_dir=dataset_dir,\n",
    "    dataset_name='evaluation'\n",
    ")\n",
    "\n",
    "model.eval() # set model into evaluation mode\n",
    "with torch.inference_mode():\n",
    "    \n",
    "    for _ in range(evaluations):\n",
    "        X, y, _ = random.choice(evaluation_dataset)\n",
    "        X, y = X.to(device) / 10, y.to(device) / 10\n",
    "        \n",
    "        y_pred = model(X)[0]\n",
    "        y_pred_norm = norm_arc20204(y_pred)\n",
    "        \n",
    "        plot.input_and_output(X * 10, y * 10, y_pred_norm * 10)\n",
    "        accuracy_pred = accuracy_fn(y, y_pred_norm)\n",
    "        print(f\"Accuracy: {accuracy_pred:.2f}% ({int(accuracy_pred / 100 * 900)}/900)\")\n"
   ],
   "id": "14b6af5afe472c9e",
   "outputs": [
    {
     "data": {
      "text/plain": [
       "<Figure size 1920x1440 with 3 Axes>"
      ],
      "image/png": "[encoded data removed]"
     },
     "metadata": {},
     "output_type": "display_data"
    },
    {
     "name": "stdout",
     "output_type": "stream",
     "text": [
      "Accuracy: 8.56% (77/900)\n"
     ]
    },
    {
     "data": {
      "text/plain": [
       "<Figure size 1920x1440 with 3 Axes>"
      ],
      "image/png": "[encoded data removed]"
     },
     "metadata": {},
     "output_type": "display_data"
    },
    {
     "name": "stdout",
     "output_type": "stream",
     "text": [
      "Accuracy: 4.11% (37/900)\n"
     ]
    },
    {
     "data": {
      "text/plain": [
       "<Figure size 1920x1440 with 3 Axes>"
      ],
      "image/png": "[encoded data removed]"
     },
     "metadata": {},
     "output_type": "display_data"
    },
    {
     "name": "stdout",
     "output_type": "stream",
     "text": [
      "Accuracy: 10.78% (97/900)\n"
     ]
    }
   ],
   "execution_count": 11
  },
  {
   "metadata": {},
   "cell_type": "code",
   "source": "",
   "id": "283bc873102e917a",
   "outputs": [],
   "execution_count": null
  }
 ],
 "metadata": {
  "kernelspec": {
   "display_name": "Python 3 (ipykernel)",
   "language": "python",
   "name": "python3"
  },
  "language_info": {
   "codemirror_mode": {
    "name": "ipython",
    "version": 3
   },
   "file_extension": ".py",
   "mimetype": "text/x-python",
   "name": "python",
   "nbconvert_exporter": "python",
   "pygments_lexer": "ipython3",
   "version": "3.12.4"
  }
 },
 "nbformat": 4,
 "nbformat_minor": 5
}
